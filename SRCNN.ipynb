{
  "nbformat": 4,
  "nbformat_minor": 0,
  "metadata": {
    "colab": {
      "name": "SRCNN.ipynb",
      "provenance": [],
      "collapsed_sections": [],
      "include_colab_link": true
    },
    "kernelspec": {
      "name": "python3",
      "display_name": "Python 3"
    },
    "accelerator": "GPU"
  },
  "cells": [
    {
      "cell_type": "markdown",
      "metadata": {
        "id": "view-in-github",
        "colab_type": "text"
      },
      "source": [
        "<a href=\"https://colab.research.google.com/github/OldFire3107/SRCNN-SSIM/blob/main/SRCNN.ipynb\" target=\"_parent\"><img src=\"https://colab.research.google.com/assets/colab-badge.svg\" alt=\"Open In Colab\"/></a>"
      ]
    },
    {
      "cell_type": "code",
      "metadata": {
        "id": "Frg9O2mdG5aq",
        "colab": {
          "base_uri": "https://localhost:8080/",
          "height": 121
        },
        "outputId": "acb0bd9c-7888-4938-be09-586377327d31"
      },
      "source": [
        "#setup\n",
        "from google.colab import drive \n",
        "drive.mount('/content/gdrive', force_remount=True) \n",
        "\n",
        "#enter srcnn path\n",
        "drive_path = '/content/gdrive/My Drive/SRCNN/'"
      ],
      "execution_count": null,
      "outputs": [
        {
          "output_type": "stream",
          "text": [
            "Go to this URL in a browser: https://accounts.google.com/o/oauth2/auth?client_id=947318989803-6bn6qk8qdgf4n4g3pfee6491hc0brc4i.apps.googleusercontent.com&redirect_uri=urn%3aietf%3awg%3aoauth%3a2.0%3aoob&response_type=code&scope=email%20https%3a%2f%2fwww.googleapis.com%2fauth%2fdocs.test%20https%3a%2f%2fwww.googleapis.com%2fauth%2fdrive%20https%3a%2f%2fwww.googleapis.com%2fauth%2fdrive.photos.readonly%20https%3a%2f%2fwww.googleapis.com%2fauth%2fpeopleapi.readonly\n",
            "\n",
            "Enter your authorization code:\n",
            "··········\n",
            "Mounted at /content/gdrive\n"
          ],
          "name": "stdout"
        }
      ]
    },
    {
      "cell_type": "markdown",
      "metadata": {
        "id": "Kl3WzRAoCV66"
      },
      "source": [
        "# SRCNN Implemrntation\n",
        "\n",
        "This is an implementation of the [SRCNN paper](https://arxiv.org/pdf/1501.00092.pdf) using Pytorch.\n",
        "\n",
        "# Original data\n",
        "\n",
        "The train/test net protocol buffer definition\n",
        "net: \"examples/SRCNN/SRCNN_net.prototxt\"\n",
        "test_iter: 556\n",
        "Carry out testing every 500 training iterations.\n",
        "test_interval: 500\n",
        "The base learning rate, momentum and the weight decay of the network.\n",
        "base_lr: 0.0001\n",
        "momentum: 0.9\n",
        "weight_decay: 0\n",
        "The learning rate policy\n",
        "lr_policy: \"fixed\"\n",
        "Display every 100 iterations\n",
        "display: 100\n",
        "The maximum number of iterations\n",
        "max_iter: 15000000\n",
        "snapshot intermediate results\n",
        "snapshot: 500\n",
        "snapshot_prefix: \"examples/SRCNN/SRCNN\"\n",
        "solver mode: CPU or GPU\n",
        "solver_mode: GPU\n",
        "\n",
        "*see below for structure"
      ]
    },
    {
      "cell_type": "code",
      "metadata": {
        "id": "PZiLmHBZDZRH",
        "colab": {
          "base_uri": "https://localhost:8080/",
          "height": 120
        },
        "outputId": "8a9f04a9-00c5-44d8-8708-48cf7cebcd4f"
      },
      "source": [
        "#SRCNN data as implemented in the original paper for reference(.prototxt format)\n",
        "#NOTE: there is no point running this cell\n",
        "\"\"\"\n",
        "name: \"SRCNN\"\n",
        "layer {\n",
        "  name: \"data\"\n",
        "  type: \"HDF5Data\"\n",
        "  top: \"data\"\n",
        "  top: \"label\"\n",
        "  hdf5_data_param {\n",
        "    source: \"examples/SRCNN/train.txt\"\n",
        "    batch_size: 128\n",
        "  }\n",
        "  include: { phase: TRAIN }\n",
        "}\n",
        "layer {\n",
        "  name: \"data\"\n",
        "  type: \"HDF5Data\"\n",
        "  top: \"data\"\n",
        "  top: \"label\"\n",
        "  hdf5_data_param {\n",
        "    source: \"examples/SRCNN/test.txt\"\n",
        "    batch_size: 2\n",
        "  }\n",
        "  include: { phase: TEST }\n",
        "}\n",
        "\n",
        "layer {\n",
        "  name: \"conv1\"\n",
        "  type: \"Convolution\"\n",
        "  bottom: \"data\"\n",
        "  top: \"conv1\"\n",
        "  param {\n",
        "    lr_mult: 1\n",
        "  }\n",
        "  param {\n",
        "    lr_mult: 0.1\n",
        "  }\n",
        "  convolution_param {\n",
        "    num_output: 64\n",
        "    kernel_size: 9\n",
        "    stride: 1\n",
        "    pad: 0\n",
        "    weight_filler {\n",
        "      type: \"gaussian\"\n",
        "      std: 0.001\n",
        "    }\n",
        "    bias_filler {\n",
        "      type: \"constant\"\n",
        "      value: 0\n",
        "    }\n",
        "  }\n",
        "}\n",
        "\n",
        "layer {\n",
        "  name: \"relu1\"\n",
        "  type: \"ReLU\"\n",
        "  bottom: \"conv1\"\n",
        "  top: \"conv1\"\n",
        "}\n",
        "\n",
        "layer {\n",
        "  name: \"conv2\"\n",
        "  type: \"Convolution\"\n",
        "  bottom: \"conv1\"\n",
        "  top: \"conv2\"\n",
        "  param {\n",
        "    lr_mult: 1\n",
        "  }\n",
        "  param {\n",
        "    lr_mult: 0.1\n",
        "  }\n",
        "  convolution_param {\n",
        "    num_output: 32\n",
        "    kernel_size: 1\n",
        "    stride: 1\n",
        "    pad: 0\n",
        "    weight_filler {\n",
        "      type: \"gaussian\"\n",
        "      std: 0.001\n",
        "    }\n",
        "    bias_filler {\n",
        "      type: \"constant\"\n",
        "      value: 0\n",
        "    }\n",
        "  }\n",
        "}\n",
        "\n",
        "layer {\n",
        "  name: \"relu2\"\n",
        "  type: \"ReLU\"\n",
        "  bottom: \"conv2\"\n",
        "  top: \"conv2\"\n",
        "}\n",
        "\n",
        "layer {\n",
        "  name: \"conv3\"\n",
        "  type: \"Convolution\"\n",
        "  bottom: \"conv2\"\n",
        "  top: \"conv3\"\n",
        "  param {\n",
        "    lr_mult: 0.1\n",
        "  }\n",
        "  param {\n",
        "    lr_mult: 0.1\n",
        "  }\n",
        "  convolution_param {\n",
        "    num_output: 1\n",
        "    kernel_size: 5\n",
        "    stride: 1\n",
        "    pad: 0\n",
        "    weight_filler {\n",
        "      type: \"gaussian\"\n",
        "      std: 0.001\n",
        "    }\n",
        "    bias_filler {\n",
        "      type: \"constant\"\n",
        "      value: 0\n",
        "    }\n",
        "  }\n",
        "}\n",
        "\n",
        "layer {\n",
        "  name: \"loss\"\n",
        "  type: \"EuclideanLoss\"\n",
        "  bottom: \"conv3\"\n",
        "  bottom: \"label\"\n",
        "  top: \"loss\"\n",
        "}\n",
        "\"\"\""
      ],
      "execution_count": null,
      "outputs": [
        {
          "output_type": "execute_result",
          "data": {
            "application/vnd.google.colaboratory.intrinsic+json": {
              "type": "string"
            },
            "text/plain": [
              "'\\nname: \"SRCNN\"\\nlayer {\\n  name: \"data\"\\n  type: \"HDF5Data\"\\n  top: \"data\"\\n  top: \"label\"\\n  hdf5_data_param {\\n    source: \"examples/SRCNN/train.txt\"\\n    batch_size: 128\\n  }\\n  include: { phase: TRAIN }\\n}\\nlayer {\\n  name: \"data\"\\n  type: \"HDF5Data\"\\n  top: \"data\"\\n  top: \"label\"\\n  hdf5_data_param {\\n    source: \"examples/SRCNN/test.txt\"\\n    batch_size: 2\\n  }\\n  include: { phase: TEST }\\n}\\n\\nlayer {\\n  name: \"conv1\"\\n  type: \"Convolution\"\\n  bottom: \"data\"\\n  top: \"conv1\"\\n  param {\\n    lr_mult: 1\\n  }\\n  param {\\n    lr_mult: 0.1\\n  }\\n  convolution_param {\\n    num_output: 64\\n    kernel_size: 9\\n    stride: 1\\n    pad: 0\\n    weight_filler {\\n      type: \"gaussian\"\\n      std: 0.001\\n    }\\n    bias_filler {\\n      type: \"constant\"\\n      value: 0\\n    }\\n  }\\n}\\n\\nlayer {\\n  name: \"relu1\"\\n  type: \"ReLU\"\\n  bottom: \"conv1\"\\n  top: \"conv1\"\\n}\\n\\nlayer {\\n  name: \"conv2\"\\n  type: \"Convolution\"\\n  bottom: \"conv1\"\\n  top: \"conv2\"\\n  param {\\n    lr_mult: 1\\n  }\\n  param {\\n    lr_mult: 0.1\\n  }\\n  convolution_param {\\n    num_output: 32\\n    kernel_size: 1\\n    stride: 1\\n    pad: 0\\n    weight_filler {\\n      type: \"gaussian\"\\n      std: 0.001\\n    }\\n    bias_filler {\\n      type: \"constant\"\\n      value: 0\\n    }\\n  }\\n}\\n\\nlayer {\\n  name: \"relu2\"\\n  type: \"ReLU\"\\n  bottom: \"conv2\"\\n  top: \"conv2\"\\n}\\n\\nlayer {\\n  name: \"conv3\"\\n  type: \"Convolution\"\\n  bottom: \"conv2\"\\n  top: \"conv3\"\\n  param {\\n    lr_mult: 0.1\\n  }\\n  param {\\n    lr_mult: 0.1\\n  }\\n  convolution_param {\\n    num_output: 1\\n    kernel_size: 5\\n    stride: 1\\n    pad: 0\\n    weight_filler {\\n      type: \"gaussian\"\\n      std: 0.001\\n    }\\n    bias_filler {\\n      type: \"constant\"\\n      value: 0\\n    }\\n  }\\n}\\n\\nlayer {\\n  name: \"loss\"\\n  type: \"EuclideanLoss\"\\n  bottom: \"conv3\"\\n  bottom: \"label\"\\n  top: \"loss\"\\n}\\n'"
            ]
          },
          "metadata": {
            "tags": []
          },
          "execution_count": 4
        }
      ]
    },
    {
      "cell_type": "code",
      "metadata": {
        "id": "hjANfiLGmf7v",
        "colab": {
          "base_uri": "https://localhost:8080/",
          "height": 34
        },
        "outputId": "fd87e5d1-0bbd-418f-9315-3c62c949cc62"
      },
      "source": [
        "import os\n",
        "import copy\n",
        "\n",
        "import torch\n",
        "print('.'.join(torch.__version__.split('.')[:2]))\n",
        "import torch.nn as nn\n",
        "import torch.optim as optim\n",
        "from torch.utils.data import DataLoader\n",
        "from torch.utils.data import sampler\n",
        "from torch.utils.data import Dataset\n",
        "from tqdm import tqdm\n",
        "\n",
        "import torchvision.datasets as dset\n",
        "import torchvision.transforms as T\n",
        "\n",
        "import numpy as np\n",
        "import h5py"
      ],
      "execution_count": null,
      "outputs": [
        {
          "output_type": "stream",
          "text": [
            "1.6\n"
          ],
          "name": "stdout"
        }
      ]
    },
    {
      "cell_type": "markdown",
      "metadata": {
        "id": "027-1r_hIpAQ"
      },
      "source": [
        "#SSIM"
      ]
    },
    {
      "cell_type": "code",
      "metadata": {
        "id": "9JkO_IfJAhnq"
      },
      "source": [
        "import torch.nn.functional as F\n",
        "from torch.autograd import Variable\n",
        "from math import exp\n",
        "\n",
        "def gaussian(window_size, sigma):\n",
        "    gauss = torch.Tensor([exp(-(x - window_size//2)**2/float(2*sigma**2)) for x in range(window_size)])\n",
        "    return gauss/gauss.sum()\n",
        "\n",
        "def create_window(window_size, channel):\n",
        "    _1D_window = gaussian(window_size, 1.5).unsqueeze(1)\n",
        "    _2D_window = _1D_window.mm(_1D_window.t()).float().unsqueeze(0).unsqueeze(0)\n",
        "    window = Variable(_2D_window.expand(channel, 1, window_size, window_size).contiguous())\n",
        "    return window\n",
        "\n",
        "def _ssim(img1, img2, window, window_size, channel, size_average = True):\n",
        "    mu1 = F.conv2d(img1, window, padding = window_size//2, groups = channel)\n",
        "    mu2 = F.conv2d(img2, window, padding = window_size//2, groups = channel)\n",
        "\n",
        "    mu1_sq = mu1.pow(2)\n",
        "    mu2_sq = mu2.pow(2)\n",
        "    mu1_mu2 = mu1*mu2\n",
        "\n",
        "    sigma1_sq = F.conv2d(img1*img1, window, padding = window_size//2, groups = channel) - mu1_sq\n",
        "    sigma2_sq = F.conv2d(img2*img2, window, padding = window_size//2, groups = channel) - mu2_sq\n",
        "    sigma12 = F.conv2d(img1*img2, window, padding = window_size//2, groups = channel) - mu1_mu2\n",
        "\n",
        "    C1 = 0.01**2\n",
        "    C2 = 0.03**2\n",
        "\n",
        "    ssim_map = ((2*mu1_mu2 + C1)*(2*sigma12 + C2))/((mu1_sq + mu2_sq + C1)*(sigma1_sq + sigma2_sq + C2))\n",
        "\n",
        "    if size_average:\n",
        "        return ssim_map.mean()\n",
        "    else:\n",
        "        return ssim_map.mean(1).mean(1).mean(1)\n",
        "\n",
        "class SSIM(nn.Module):\n",
        "    def __init__(self, window_size = 11, size_average = True):\n",
        "        super(SSIM, self).__init__()\n",
        "        self.window_size = window_size\n",
        "        self.size_average = size_average\n",
        "        self.channel = 1\n",
        "        self.window = create_window(window_size, self.channel)\n",
        "\n",
        "    def forward(self, img1, img2):\n",
        "        (_, channel, _, _) = img1.size()\n",
        "\n",
        "        if channel == self.channel and self.window.data.type() == img1.data.type():\n",
        "            window = self.window\n",
        "        else:\n",
        "            window = create_window(self.window_size, channel)\n",
        "            \n",
        "            if img1.is_cuda:\n",
        "                window = window.cuda(img1.get_device())\n",
        "            window = window.type_as(img1)\n",
        "            \n",
        "            self.window = window\n",
        "            self.channel = channel\n",
        "\n",
        "\n",
        "        return _ssim(img1, img2, window, self.window_size, channel, self.size_average)\n",
        "\n",
        "def ssim(img1, img2, window_size = 11, size_average = True):\n",
        "    (_, channel, _, _) = img1.size()\n",
        "    window = create_window(window_size, channel)\n",
        "    \n",
        "    if img1.is_cuda:\n",
        "        window = window.cuda(img1.get_device())\n",
        "    window = window.type_as(img1)\n",
        "    \n",
        "    return _ssim(img1, img2, window, window_size, channel, size_average)"
      ],
      "execution_count": null,
      "outputs": []
    },
    {
      "cell_type": "markdown",
      "metadata": {
        "id": "ov8SSigyIr3d"
      },
      "source": [
        "#MODEL"
      ]
    },
    {
      "cell_type": "code",
      "metadata": {
        "id": "1YOgQrhZqsJO"
      },
      "source": [
        "#SRCNN model\n",
        "class SRCNN(nn.Module):\n",
        "    def __init__(self, num_channels=1):\n",
        "        super(SRCNN, self).__init__()\n",
        "        self.conv1 = nn.Conv2d(num_channels, 64, kernel_size=9, padding=9 // 2)\n",
        "        self.conv2 = nn.Conv2d(64, 32, kernel_size=5, padding=5 // 2)\n",
        "        self.conv3 = nn.Conv2d(32, num_channels, kernel_size=5, padding=5 // 2)\n",
        "        self.relu = nn.ReLU(inplace=True)\n",
        "\n",
        "    def forward(self, X):\n",
        "        X = self.relu(self.conv1(X))\n",
        "        X = self.relu(self.conv2(X))\n",
        "        X = self.conv3(X)\n",
        "        return X"
      ],
      "execution_count": null,
      "outputs": []
    },
    {
      "cell_type": "code",
      "metadata": {
        "id": "1u9THRbzB_e7"
      },
      "source": [
        "#Seeing if GPU is avaliable\n",
        "device = torch.device('cuda:0' if torch.cuda.is_available() else 'cpu')"
      ],
      "execution_count": null,
      "outputs": []
    },
    {
      "cell_type": "markdown",
      "metadata": {
        "id": "l69xPpve48AG"
      },
      "source": [
        "#SCRNN - TRAIN"
      ]
    },
    {
      "cell_type": "code",
      "metadata": {
        "id": "DUPpfCd3Dwxm"
      },
      "source": [
        "#All the parameters\n",
        "lr = 1e-3\n",
        "scale = 4\n",
        "batch_size = 64\n",
        "num_epochs = 400\n",
        "num_workers = 12"
      ],
      "execution_count": null,
      "outputs": []
    },
    {
      "cell_type": "code",
      "metadata": {
        "id": "r8rH7008H72q"
      },
      "source": [
        "import requests  \n",
        "file_url1 = \"https://www.dropbox.com/s/22afykv4amfxeio/91-image_x4.h5?dl=1\" # train data set scale = 4\n",
        "file_url2 = \"https://www.dropbox.com/s/0rz86yn3nnrodlb/Set5_x4.h5?dl=1\"     # eval data set scale = 4\n",
        "    \n",
        "r = requests.get(file_url1, stream = True)  \n",
        "  \n",
        "with open(drive_path + \"test.h5\", \"wb\") as file:  \n",
        "    for block in r.iter_content(chunk_size = 1024): \n",
        "         if block:  \n",
        "             file.write(block) \n",
        "\n",
        "r = requests.get(file_url2, stream = True)  \n",
        "  \n",
        "with open(drive_path + \"eval.h5\", \"wb\") as file:  \n",
        "    for block in r.iter_content(chunk_size = 1024): \n",
        "         if block:  \n",
        "             file.write(block) "
      ],
      "execution_count": null,
      "outputs": []
    },
    {
      "cell_type": "code",
      "metadata": {
        "id": "nd0tHpmXJzja"
      },
      "source": [
        "# classes for loading a dataset\n",
        "class TrainDataset(Dataset):\n",
        "    def __init__(self, h5_file):\n",
        "        super(TrainDataset, self).__init__()\n",
        "        self.h5_file = h5_file\n",
        "\n",
        "    def __getitem__(self, idx):\n",
        "        with h5py.File(self.h5_file, 'r') as f:\n",
        "            return np.expand_dims(f['lr'][idx] / 255., 0), np.expand_dims(f['hr'][idx] / 255., 0)\n",
        "\n",
        "    def __len__(self):\n",
        "        with h5py.File(self.h5_file, 'r') as f:\n",
        "            return len(f['lr'])\n",
        "\n",
        "\n",
        "class EvalDataset(Dataset):\n",
        "    def __init__(self, h5_file):\n",
        "        super(EvalDataset, self).__init__()\n",
        "        self.h5_file = h5_file\n",
        "\n",
        "    def __getitem__(self, idx):\n",
        "        with h5py.File(self.h5_file, 'r') as f:\n",
        "            return np.expand_dims(f['lr'][str(idx)][:, :] / 255., 0), np.expand_dims(f['hr'][str(idx)][:, :] / 255., 0)\n",
        "\n",
        "    def __len__(self):\n",
        "        with h5py.File(self.h5_file, 'r') as f:\n",
        "            return len(f['lr'])"
      ],
      "execution_count": null,
      "outputs": []
    },
    {
      "cell_type": "code",
      "metadata": {
        "id": "qFYUWDslDgjM"
      },
      "source": [
        "model = SRCNN().to(device)\n",
        "# criterion = nn.MSELoss()\n",
        "criterion = SSIM()\n",
        "optimizer = optim.Adam([\n",
        "    {'params': model.conv1.parameters()},\n",
        "    {'params': model.conv2.parameters()},\n",
        "    {'params': model.conv3.parameters(), 'lr': lr * 0.1}\n",
        "], lr=lr)"
      ],
      "execution_count": null,
      "outputs": []
    },
    {
      "cell_type": "code",
      "metadata": {
        "id": "XsmS3Vl2FBPg"
      },
      "source": [
        "class AverageMeter(object):\n",
        "    def __init__(self):\n",
        "        self.reset()\n",
        "\n",
        "    def reset(self):\n",
        "        self.val = 0\n",
        "        self.avg = 0\n",
        "        self.sum = 0\n",
        "        self.count = 0\n",
        "\n",
        "    def update(self, val, n=1):\n",
        "        self.val = val\n",
        "        self.sum += val * n\n",
        "        self.count += n\n",
        "        self.avg = self.sum / self.count\n",
        "\n",
        "def calc_psnr(img1, img2):\n",
        "    return 10. * torch.log10(1. / torch.mean((img1 - img2) ** 2))"
      ],
      "execution_count": null,
      "outputs": []
    },
    {
      "cell_type": "code",
      "metadata": {
        "id": "FrewhovqKpnf"
      },
      "source": [
        "train_dataset = TrainDataset(drive_path + \"test.h5\")\n",
        "train_dataloader = DataLoader(dataset=train_dataset,\n",
        "                                batch_size=batch_size,\n",
        "                                shuffle=True,\n",
        "                                num_workers=num_workers,\n",
        "                                pin_memory=True,\n",
        "                                drop_last=True)\n",
        "eval_dataset = EvalDataset(drive_path + \"eval.h5\")\n",
        "eval_dataloader = DataLoader(dataset=eval_dataset, batch_size=1)"
      ],
      "execution_count": null,
      "outputs": []
    },
    {
      "cell_type": "code",
      "metadata": {
        "id": "-f_MU0ckLM_8"
      },
      "source": [
        "def convert_rgb_to_y(img):\n",
        "    if type(img) == np.ndarray:\n",
        "        return 16. + (64.738 * img[:, :, 0] + 129.057 * img[:, :, 1] + 25.064 * img[:, :, 2]) / 256.\n",
        "    elif type(img) == torch.Tensor:\n",
        "        if len(img.shape) == 4:\n",
        "            img = img.squeeze(0)\n",
        "        return 16. + (64.738 * img[0, :, :] + 129.057 * img[1, :, :] + 25.064 * img[2, :, :]) / 256.\n",
        "    else:\n",
        "        raise Exception('Unknown Type', type(img))\n",
        "\n",
        "\n",
        "def convert_rgb_to_ycbcr(img):\n",
        "    if type(img) == np.ndarray:\n",
        "        y = 16. + (64.738 * img[:, :, 0] + 129.057 * img[:, :, 1] + 25.064 * img[:, :, 2]) / 256.\n",
        "        cb = 128. + (-37.945 * img[:, :, 0] - 74.494 * img[:, :, 1] + 112.439 * img[:, :, 2]) / 256.\n",
        "        cr = 128. + (112.439 * img[:, :, 0] - 94.154 * img[:, :, 1] - 18.285 * img[:, :, 2]) / 256.\n",
        "        return np.array([y, cb, cr]).transpose([1, 2, 0])\n",
        "    elif type(img) == torch.Tensor:\n",
        "        if len(img.shape) == 4:\n",
        "            img = img.squeeze(0)\n",
        "        y = 16. + (64.738 * img[0, :, :] + 129.057 * img[1, :, :] + 25.064 * img[2, :, :]) / 256.\n",
        "        cb = 128. + (-37.945 * img[0, :, :] - 74.494 * img[1, :, :] + 112.439 * img[2, :, :]) / 256.\n",
        "        cr = 128. + (112.439 * img[0, :, :] - 94.154 * img[1, :, :] - 18.285 * img[2, :, :]) / 256.\n",
        "        return torch.cat([y, cb, cr], 0).permute(1, 2, 0)\n",
        "    else:\n",
        "        raise Exception('Unknown Type', type(img))\n",
        "\n",
        "\n",
        "def convert_ycbcr_to_rgb(img):\n",
        "    if type(img) == np.ndarray:\n",
        "        r = 298.082 * img[:, :, 0] / 256. + 408.583 * img[:, :, 2] / 256. - 222.921\n",
        "        g = 298.082 * img[:, :, 0] / 256. - 100.291 * img[:, :, 1] / 256. - 208.120 * img[:, :, 2] / 256. + 135.576\n",
        "        b = 298.082 * img[:, :, 0] / 256. + 516.412 * img[:, :, 1] / 256. - 276.836\n",
        "        return np.array([r, g, b]).transpose([1, 2, 0])\n",
        "    elif type(img) == torch.Tensor:\n",
        "        if len(img.shape) == 4:\n",
        "            img = img.squeeze(0)\n",
        "        r = 298.082 * img[0, :, :] / 256. + 408.583 * img[2, :, :] / 256. - 222.921\n",
        "        g = 298.082 * img[0, :, :] / 256. - 100.291 * img[1, :, :] / 256. - 208.120 * img[2, :, :] / 256. + 135.576\n",
        "        b = 298.082 * img[0, :, :] / 256. + 516.412 * img[1, :, :] / 256. - 276.836\n",
        "        return torch.cat([r, g, b], 0).permute(1, 2, 0)\n",
        "    else:\n",
        "        raise Exception('Unknown Type', type(img))"
      ],
      "execution_count": null,
      "outputs": []
    },
    {
      "cell_type": "code",
      "metadata": {
        "id": "xtnBTXgpDp5v",
        "colab": {
          "base_uri": "https://localhost:8080/",
          "height": 1000
        },
        "outputId": "a79d1fee-fca1-4d6c-afef-b49af9e87559"
      },
      "source": [
        "best_weights = copy.deepcopy(model.state_dict())\n",
        "best_epoch = 0\n",
        "best_psnr = 0.0\n",
        "\n",
        "for epoch in range(num_epochs):\n",
        "    model.train()\n",
        "    epoch_losses = AverageMeter()\n",
        "\n",
        "    with tqdm(total=(len(train_dataset) - len(train_dataset) % batch_size)) as t:\n",
        "        t.set_description('epoch: {}/{}'.format(epoch, num_epochs - 1))\n",
        "\n",
        "        for data in train_dataloader:\n",
        "            inputs, labels = data\n",
        "\n",
        "            inputs = inputs.to(device)\n",
        "            labels = labels.to(device)\n",
        "\n",
        "            preds = model(inputs)\n",
        "\n",
        "            loss = -criterion(preds, labels)\n",
        "\n",
        "            epoch_losses.update(loss.item(), len(inputs))\n",
        "\n",
        "            optimizer.zero_grad()\n",
        "            loss.backward()\n",
        "            optimizer.step()\n",
        "\n",
        "            t.set_postfix(loss='{:.6f}'.format(epoch_losses.avg))\n",
        "            t.update(len(inputs))\n",
        "\n",
        "    torch.save(model.state_dict(), os.path.join(drive_path + \"outputs/\", 'epoch_{}.pth'.format(epoch)))\n",
        "\n",
        "    model.eval()\n",
        "    epoch_psnr = AverageMeter()\n",
        "\n",
        "    for data in eval_dataloader:\n",
        "        inputs, labels = data\n",
        "\n",
        "        inputs = inputs.to(device)\n",
        "        labels = labels.to(device)\n",
        "\n",
        "        with torch.no_grad():\n",
        "            preds = model(inputs).clamp(0.0, 1.0)\n",
        "\n",
        "        epoch_psnr.update(calc_psnr(preds, labels), len(inputs))\n",
        "\n",
        "    print('eval psnr: {:.2f}'.format(epoch_psnr.avg))\n",
        "\n",
        "    if epoch_psnr.avg > best_psnr:\n",
        "        best_epoch = epoch\n",
        "        best_psnr = epoch_psnr.avg\n",
        "        best_weights = copy.deepcopy(model.state_dict())\n",
        "\n",
        "print('best epoch: {}, psnr: {:.2f}'.format(best_epoch, best_psnr))\n",
        "torch.save(best_weights, os.path.join(drive_path + \"outputs/\", 'best.pth'))"
      ],
      "execution_count": null,
      "outputs": [
        {
          "output_type": "stream",
          "text": [
            "epoch: 0/399: 100%|██████████| 21760/21760 [00:37<00:00, 579.42it/s, loss=-0.869833] \n",
            "epoch: 1/399:   0%|          | 0/21760 [00:00<?, ?it/s]"
          ],
          "name": "stderr"
        },
        {
          "output_type": "stream",
          "text": [
            "eval psnr: 28.98\n"
          ],
          "name": "stdout"
        },
        {
          "output_type": "stream",
          "text": [
            "epoch: 1/399: 100%|██████████| 21760/21760 [00:37<00:00, 579.12it/s, loss=-0.869925] \n",
            "epoch: 2/399:   0%|          | 0/21760 [00:00<?, ?it/s]"
          ],
          "name": "stderr"
        },
        {
          "output_type": "stream",
          "text": [
            "eval psnr: 29.17\n"
          ],
          "name": "stdout"
        },
        {
          "output_type": "stream",
          "text": [
            "epoch: 2/399: 100%|██████████| 21760/21760 [00:37<00:00, 580.62it/s, loss=-0.870044] \n",
            "epoch: 3/399:   0%|          | 0/21760 [00:00<?, ?it/s]"
          ],
          "name": "stderr"
        },
        {
          "output_type": "stream",
          "text": [
            "eval psnr: 29.21\n"
          ],
          "name": "stdout"
        },
        {
          "output_type": "stream",
          "text": [
            "epoch: 3/399: 100%|██████████| 21760/21760 [00:37<00:00, 577.22it/s, loss=-0.870180]\n",
            "epoch: 4/399:   0%|          | 0/21760 [00:00<?, ?it/s]"
          ],
          "name": "stderr"
        },
        {
          "output_type": "stream",
          "text": [
            "eval psnr: 29.13\n"
          ],
          "name": "stdout"
        },
        {
          "output_type": "stream",
          "text": [
            "epoch: 4/399: 100%|██████████| 21760/21760 [00:37<00:00, 576.62it/s, loss=-0.870346] \n",
            "epoch: 5/399:   0%|          | 0/21760 [00:00<?, ?it/s]"
          ],
          "name": "stderr"
        },
        {
          "output_type": "stream",
          "text": [
            "eval psnr: 29.00\n"
          ],
          "name": "stdout"
        },
        {
          "output_type": "stream",
          "text": [
            "epoch: 5/399: 100%|██████████| 21760/21760 [00:37<00:00, 582.71it/s, loss=-0.870384] \n",
            "epoch: 6/399:   0%|          | 0/21760 [00:00<?, ?it/s]"
          ],
          "name": "stderr"
        },
        {
          "output_type": "stream",
          "text": [
            "eval psnr: 29.47\n"
          ],
          "name": "stdout"
        },
        {
          "output_type": "stream",
          "text": [
            "epoch: 6/399: 100%|██████████| 21760/21760 [00:37<00:00, 582.05it/s, loss=-0.870508] \n",
            "epoch: 7/399:   0%|          | 0/21760 [00:00<?, ?it/s]"
          ],
          "name": "stderr"
        },
        {
          "output_type": "stream",
          "text": [
            "eval psnr: 29.05\n"
          ],
          "name": "stdout"
        },
        {
          "output_type": "stream",
          "text": [
            "epoch: 7/399: 100%|██████████| 21760/21760 [00:37<00:00, 580.46it/s, loss=-0.870628]\n",
            "epoch: 8/399:   0%|          | 0/21760 [00:00<?, ?it/s]"
          ],
          "name": "stderr"
        },
        {
          "output_type": "stream",
          "text": [
            "eval psnr: 28.65\n"
          ],
          "name": "stdout"
        },
        {
          "output_type": "stream",
          "text": [
            "epoch: 8/399: 100%|██████████| 21760/21760 [00:37<00:00, 584.19it/s, loss=-0.870756] \n",
            "epoch: 9/399:   0%|          | 0/21760 [00:00<?, ?it/s]"
          ],
          "name": "stderr"
        },
        {
          "output_type": "stream",
          "text": [
            "eval psnr: 29.41\n"
          ],
          "name": "stdout"
        },
        {
          "output_type": "stream",
          "text": [
            "epoch: 9/399: 100%|██████████| 21760/21760 [00:37<00:00, 585.31it/s, loss=-0.870834] \n",
            "epoch: 10/399:   0%|          | 0/21760 [00:00<?, ?it/s]"
          ],
          "name": "stderr"
        },
        {
          "output_type": "stream",
          "text": [
            "eval psnr: 29.30\n"
          ],
          "name": "stdout"
        },
        {
          "output_type": "stream",
          "text": [
            "epoch: 10/399: 100%|██████████| 21760/21760 [00:37<00:00, 578.37it/s, loss=-0.870901] \n",
            "epoch: 11/399:   0%|          | 0/21760 [00:00<?, ?it/s]"
          ],
          "name": "stderr"
        },
        {
          "output_type": "stream",
          "text": [
            "eval psnr: 29.40\n"
          ],
          "name": "stdout"
        },
        {
          "output_type": "stream",
          "text": [
            "epoch: 11/399: 100%|██████████| 21760/21760 [00:37<00:00, 585.90it/s, loss=-0.871039]\n",
            "epoch: 12/399:   0%|          | 0/21760 [00:00<?, ?it/s]"
          ],
          "name": "stderr"
        },
        {
          "output_type": "stream",
          "text": [
            "eval psnr: 29.05\n"
          ],
          "name": "stdout"
        },
        {
          "output_type": "stream",
          "text": [
            "epoch: 12/399: 100%|██████████| 21760/21760 [00:37<00:00, 584.79it/s, loss=-0.871099] \n",
            "epoch: 13/399:   0%|          | 0/21760 [00:00<?, ?it/s]"
          ],
          "name": "stderr"
        },
        {
          "output_type": "stream",
          "text": [
            "eval psnr: 29.41\n"
          ],
          "name": "stdout"
        },
        {
          "output_type": "stream",
          "text": [
            "epoch: 13/399: 100%|██████████| 21760/21760 [00:37<00:00, 586.30it/s, loss=-0.871206]\n",
            "epoch: 14/399:   0%|          | 0/21760 [00:00<?, ?it/s]"
          ],
          "name": "stderr"
        },
        {
          "output_type": "stream",
          "text": [
            "eval psnr: 29.50\n"
          ],
          "name": "stdout"
        },
        {
          "output_type": "stream",
          "text": [
            "epoch: 14/399: 100%|██████████| 21760/21760 [00:37<00:00, 582.94it/s, loss=-0.871243] \n",
            "epoch: 15/399:   0%|          | 0/21760 [00:00<?, ?it/s]"
          ],
          "name": "stderr"
        },
        {
          "output_type": "stream",
          "text": [
            "eval psnr: 29.12\n"
          ],
          "name": "stdout"
        },
        {
          "output_type": "stream",
          "text": [
            "epoch: 15/399: 100%|██████████| 21760/21760 [00:37<00:00, 584.43it/s, loss=-0.871384]\n",
            "epoch: 16/399:   0%|          | 0/21760 [00:00<?, ?it/s]"
          ],
          "name": "stderr"
        },
        {
          "output_type": "stream",
          "text": [
            "eval psnr: 28.84\n"
          ],
          "name": "stdout"
        },
        {
          "output_type": "stream",
          "text": [
            "epoch: 16/399: 100%|██████████| 21760/21760 [00:37<00:00, 581.91it/s, loss=-0.871493] \n",
            "epoch: 17/399:   0%|          | 0/21760 [00:00<?, ?it/s]"
          ],
          "name": "stderr"
        },
        {
          "output_type": "stream",
          "text": [
            "eval psnr: 29.54\n"
          ],
          "name": "stdout"
        },
        {
          "output_type": "stream",
          "text": [
            "epoch: 17/399: 100%|██████████| 21760/21760 [00:37<00:00, 583.89it/s, loss=-0.871544]\n",
            "epoch: 18/399:   0%|          | 0/21760 [00:00<?, ?it/s]"
          ],
          "name": "stderr"
        },
        {
          "output_type": "stream",
          "text": [
            "eval psnr: 29.34\n"
          ],
          "name": "stdout"
        },
        {
          "output_type": "stream",
          "text": [
            "epoch: 18/399: 100%|██████████| 21760/21760 [00:37<00:00, 573.87it/s, loss=-0.871642] \n",
            "epoch: 19/399:   0%|          | 0/21760 [00:00<?, ?it/s]"
          ],
          "name": "stderr"
        },
        {
          "output_type": "stream",
          "text": [
            "eval psnr: 28.99\n"
          ],
          "name": "stdout"
        },
        {
          "output_type": "stream",
          "text": [
            "epoch: 19/399: 100%|██████████| 21760/21760 [00:37<00:00, 579.65it/s, loss=-0.871678]\n",
            "epoch: 20/399:   0%|          | 0/21760 [00:00<?, ?it/s]"
          ],
          "name": "stderr"
        },
        {
          "output_type": "stream",
          "text": [
            "eval psnr: 29.56\n"
          ],
          "name": "stdout"
        },
        {
          "output_type": "stream",
          "text": [
            "epoch: 20/399: 100%|██████████| 21760/21760 [00:37<00:00, 586.41it/s, loss=-0.871764] \n",
            "epoch: 21/399:   0%|          | 0/21760 [00:00<?, ?it/s]"
          ],
          "name": "stderr"
        },
        {
          "output_type": "stream",
          "text": [
            "eval psnr: 29.33\n"
          ],
          "name": "stdout"
        },
        {
          "output_type": "stream",
          "text": [
            "epoch: 21/399: 100%|██████████| 21760/21760 [00:37<00:00, 585.08it/s, loss=-0.871823] \n",
            "epoch: 22/399:   0%|          | 0/21760 [00:00<?, ?it/s]"
          ],
          "name": "stderr"
        },
        {
          "output_type": "stream",
          "text": [
            "eval psnr: 29.71\n"
          ],
          "name": "stdout"
        },
        {
          "output_type": "stream",
          "text": [
            "epoch: 22/399: 100%|██████████| 21760/21760 [00:37<00:00, 583.69it/s, loss=-0.871932]\n",
            "epoch: 23/399:   0%|          | 0/21760 [00:00<?, ?it/s]"
          ],
          "name": "stderr"
        },
        {
          "output_type": "stream",
          "text": [
            "eval psnr: 29.64\n"
          ],
          "name": "stdout"
        },
        {
          "output_type": "stream",
          "text": [
            "epoch: 23/399: 100%|██████████| 21760/21760 [00:37<00:00, 587.23it/s, loss=-0.872005] \n",
            "epoch: 24/399:   0%|          | 0/21760 [00:00<?, ?it/s]"
          ],
          "name": "stderr"
        },
        {
          "output_type": "stream",
          "text": [
            "eval psnr: 29.47\n"
          ],
          "name": "stdout"
        },
        {
          "output_type": "stream",
          "text": [
            "epoch: 24/399: 100%|██████████| 21760/21760 [00:36<00:00, 588.24it/s, loss=-0.872078] \n",
            "epoch: 25/399:   0%|          | 0/21760 [00:00<?, ?it/s]"
          ],
          "name": "stderr"
        },
        {
          "output_type": "stream",
          "text": [
            "eval psnr: 29.15\n"
          ],
          "name": "stdout"
        },
        {
          "output_type": "stream",
          "text": [
            "epoch: 25/399: 100%|██████████| 21760/21760 [00:37<00:00, 587.08it/s, loss=-0.872114] \n",
            "epoch: 26/399:   0%|          | 0/21760 [00:00<?, ?it/s]"
          ],
          "name": "stderr"
        },
        {
          "output_type": "stream",
          "text": [
            "eval psnr: 29.43\n"
          ],
          "name": "stdout"
        },
        {
          "output_type": "stream",
          "text": [
            "epoch: 26/399: 100%|██████████| 21760/21760 [00:37<00:00, 579.43it/s, loss=-0.872219]\n",
            "epoch: 27/399:   0%|          | 0/21760 [00:00<?, ?it/s]"
          ],
          "name": "stderr"
        },
        {
          "output_type": "stream",
          "text": [
            "eval psnr: 29.39\n"
          ],
          "name": "stdout"
        },
        {
          "output_type": "stream",
          "text": [
            "epoch: 27/399: 100%|██████████| 21760/21760 [00:37<00:00, 582.76it/s, loss=-0.872283] \n",
            "epoch: 28/399:   0%|          | 0/21760 [00:00<?, ?it/s]"
          ],
          "name": "stderr"
        },
        {
          "output_type": "stream",
          "text": [
            "eval psnr: 29.46\n"
          ],
          "name": "stdout"
        },
        {
          "output_type": "stream",
          "text": [
            "epoch: 28/399: 100%|██████████| 21760/21760 [00:37<00:00, 585.95it/s, loss=-0.872356]\n",
            "epoch: 29/399:   0%|          | 0/21760 [00:00<?, ?it/s]"
          ],
          "name": "stderr"
        },
        {
          "output_type": "stream",
          "text": [
            "eval psnr: 29.54\n"
          ],
          "name": "stdout"
        },
        {
          "output_type": "stream",
          "text": [
            "epoch: 29/399: 100%|██████████| 21760/21760 [00:37<00:00, 587.79it/s, loss=-0.872411] \n",
            "epoch: 30/399:   0%|          | 0/21760 [00:00<?, ?it/s]"
          ],
          "name": "stderr"
        },
        {
          "output_type": "stream",
          "text": [
            "eval psnr: 29.26\n"
          ],
          "name": "stdout"
        },
        {
          "output_type": "stream",
          "text": [
            "epoch: 30/399: 100%|██████████| 21760/21760 [00:37<00:00, 584.81it/s, loss=-0.872504] \n",
            "epoch: 31/399:   0%|          | 0/21760 [00:00<?, ?it/s]"
          ],
          "name": "stderr"
        },
        {
          "output_type": "stream",
          "text": [
            "eval psnr: 29.62\n"
          ],
          "name": "stdout"
        },
        {
          "output_type": "stream",
          "text": [
            "epoch: 31/399: 100%|██████████| 21760/21760 [00:37<00:00, 584.43it/s, loss=-0.872615]\n",
            "epoch: 32/399:   0%|          | 0/21760 [00:00<?, ?it/s]"
          ],
          "name": "stderr"
        },
        {
          "output_type": "stream",
          "text": [
            "eval psnr: 29.32\n"
          ],
          "name": "stdout"
        },
        {
          "output_type": "stream",
          "text": [
            "epoch: 32/399: 100%|██████████| 21760/21760 [00:37<00:00, 585.17it/s, loss=-0.872683]\n",
            "epoch: 33/399:   0%|          | 0/21760 [00:00<?, ?it/s]"
          ],
          "name": "stderr"
        },
        {
          "output_type": "stream",
          "text": [
            "eval psnr: 29.76\n"
          ],
          "name": "stdout"
        },
        {
          "output_type": "stream",
          "text": [
            "epoch: 33/399: 100%|██████████| 21760/21760 [00:37<00:00, 582.57it/s, loss=-0.872714] \n",
            "epoch: 34/399:   0%|          | 0/21760 [00:00<?, ?it/s]"
          ],
          "name": "stderr"
        },
        {
          "output_type": "stream",
          "text": [
            "eval psnr: 29.50\n"
          ],
          "name": "stdout"
        },
        {
          "output_type": "stream",
          "text": [
            "epoch: 34/399: 100%|██████████| 21760/21760 [00:36<00:00, 588.47it/s, loss=-0.872775]\n",
            "epoch: 35/399:   0%|          | 0/21760 [00:00<?, ?it/s]"
          ],
          "name": "stderr"
        },
        {
          "output_type": "stream",
          "text": [
            "eval psnr: 29.60\n"
          ],
          "name": "stdout"
        },
        {
          "output_type": "stream",
          "text": [
            "epoch: 35/399: 100%|██████████| 21760/21760 [00:37<00:00, 577.98it/s, loss=-0.872775] \n",
            "epoch: 36/399:   0%|          | 0/21760 [00:00<?, ?it/s]"
          ],
          "name": "stderr"
        },
        {
          "output_type": "stream",
          "text": [
            "eval psnr: 29.26\n"
          ],
          "name": "stdout"
        },
        {
          "output_type": "stream",
          "text": [
            "epoch: 36/399: 100%|██████████| 21760/21760 [00:37<00:00, 581.97it/s, loss=-0.872881]\n",
            "epoch: 37/399:   0%|          | 0/21760 [00:00<?, ?it/s]"
          ],
          "name": "stderr"
        },
        {
          "output_type": "stream",
          "text": [
            "eval psnr: 28.93\n"
          ],
          "name": "stdout"
        },
        {
          "output_type": "stream",
          "text": [
            "epoch: 37/399: 100%|██████████| 21760/21760 [00:37<00:00, 585.29it/s, loss=-0.872900]\n",
            "epoch: 38/399:   0%|          | 0/21760 [00:00<?, ?it/s]"
          ],
          "name": "stderr"
        },
        {
          "output_type": "stream",
          "text": [
            "eval psnr: 29.09\n"
          ],
          "name": "stdout"
        },
        {
          "output_type": "stream",
          "text": [
            "epoch: 38/399: 100%|██████████| 21760/21760 [00:37<00:00, 581.88it/s, loss=-0.873074]\n",
            "epoch: 39/399:   0%|          | 0/21760 [00:00<?, ?it/s]"
          ],
          "name": "stderr"
        },
        {
          "output_type": "stream",
          "text": [
            "eval psnr: 29.56\n"
          ],
          "name": "stdout"
        },
        {
          "output_type": "stream",
          "text": [
            "epoch: 39/399: 100%|██████████| 21760/21760 [00:37<00:00, 583.66it/s, loss=-0.873087]\n",
            "epoch: 40/399:   0%|          | 0/21760 [00:00<?, ?it/s]"
          ],
          "name": "stderr"
        },
        {
          "output_type": "stream",
          "text": [
            "eval psnr: 29.67\n"
          ],
          "name": "stdout"
        },
        {
          "output_type": "stream",
          "text": [
            "epoch: 40/399: 100%|██████████| 21760/21760 [00:37<00:00, 579.17it/s, loss=-0.873063]\n",
            "epoch: 41/399:   0%|          | 0/21760 [00:00<?, ?it/s]"
          ],
          "name": "stderr"
        },
        {
          "output_type": "stream",
          "text": [
            "eval psnr: 29.54\n"
          ],
          "name": "stdout"
        },
        {
          "output_type": "stream",
          "text": [
            "epoch: 41/399: 100%|██████████| 21760/21760 [00:37<00:00, 582.34it/s, loss=-0.873191] \n",
            "epoch: 42/399:   0%|          | 0/21760 [00:00<?, ?it/s]"
          ],
          "name": "stderr"
        },
        {
          "output_type": "stream",
          "text": [
            "eval psnr: 29.63\n"
          ],
          "name": "stdout"
        },
        {
          "output_type": "stream",
          "text": [
            "epoch: 42/399: 100%|██████████| 21760/21760 [00:37<00:00, 583.48it/s, loss=-0.873278]\n",
            "epoch: 43/399:   0%|          | 0/21760 [00:00<?, ?it/s]"
          ],
          "name": "stderr"
        },
        {
          "output_type": "stream",
          "text": [
            "eval psnr: 29.51\n"
          ],
          "name": "stdout"
        },
        {
          "output_type": "stream",
          "text": [
            "epoch: 43/399: 100%|██████████| 21760/21760 [00:37<00:00, 576.84it/s, loss=-0.873306]\n",
            "epoch: 44/399:   0%|          | 0/21760 [00:00<?, ?it/s]"
          ],
          "name": "stderr"
        },
        {
          "output_type": "stream",
          "text": [
            "eval psnr: 29.01\n"
          ],
          "name": "stdout"
        },
        {
          "output_type": "stream",
          "text": [
            "epoch: 44/399: 100%|██████████| 21760/21760 [00:37<00:00, 581.85it/s, loss=-0.873316]\n",
            "epoch: 45/399:   0%|          | 0/21760 [00:00<?, ?it/s]"
          ],
          "name": "stderr"
        },
        {
          "output_type": "stream",
          "text": [
            "eval psnr: 29.53\n"
          ],
          "name": "stdout"
        },
        {
          "output_type": "stream",
          "text": [
            "epoch: 45/399: 100%|██████████| 21760/21760 [00:37<00:00, 580.91it/s, loss=-0.873380] \n",
            "epoch: 46/399:   0%|          | 0/21760 [00:00<?, ?it/s]"
          ],
          "name": "stderr"
        },
        {
          "output_type": "stream",
          "text": [
            "eval psnr: 29.18\n"
          ],
          "name": "stdout"
        },
        {
          "output_type": "stream",
          "text": [
            "epoch: 46/399: 100%|██████████| 21760/21760 [00:37<00:00, 587.15it/s, loss=-0.873440] \n",
            "epoch: 47/399:   0%|          | 0/21760 [00:00<?, ?it/s]"
          ],
          "name": "stderr"
        },
        {
          "output_type": "stream",
          "text": [
            "eval psnr: 29.14\n"
          ],
          "name": "stdout"
        },
        {
          "output_type": "stream",
          "text": [
            "epoch: 47/399: 100%|██████████| 21760/21760 [00:37<00:00, 584.76it/s, loss=-0.873543]\n",
            "epoch: 48/399:   0%|          | 0/21760 [00:00<?, ?it/s]"
          ],
          "name": "stderr"
        },
        {
          "output_type": "stream",
          "text": [
            "eval psnr: 29.37\n"
          ],
          "name": "stdout"
        },
        {
          "output_type": "stream",
          "text": [
            "epoch: 48/399: 100%|██████████| 21760/21760 [00:37<00:00, 582.95it/s, loss=-0.873577] \n",
            "epoch: 49/399:   0%|          | 0/21760 [00:00<?, ?it/s]"
          ],
          "name": "stderr"
        },
        {
          "output_type": "stream",
          "text": [
            "eval psnr: 29.49\n"
          ],
          "name": "stdout"
        },
        {
          "output_type": "stream",
          "text": [
            "epoch: 49/399: 100%|██████████| 21760/21760 [00:37<00:00, 586.71it/s, loss=-0.873623] \n",
            "epoch: 50/399:   0%|          | 0/21760 [00:00<?, ?it/s]"
          ],
          "name": "stderr"
        },
        {
          "output_type": "stream",
          "text": [
            "eval psnr: 29.51\n"
          ],
          "name": "stdout"
        },
        {
          "output_type": "stream",
          "text": [
            "epoch: 50/399: 100%|██████████| 21760/21760 [00:37<00:00, 585.16it/s, loss=-0.873724] \n",
            "epoch: 51/399:   0%|          | 0/21760 [00:00<?, ?it/s]"
          ],
          "name": "stderr"
        },
        {
          "output_type": "stream",
          "text": [
            "eval psnr: 29.34\n"
          ],
          "name": "stdout"
        },
        {
          "output_type": "stream",
          "text": [
            "epoch: 51/399: 100%|██████████| 21760/21760 [00:38<00:00, 568.08it/s, loss=-0.873691] \n",
            "epoch: 52/399:   0%|          | 0/21760 [00:00<?, ?it/s]"
          ],
          "name": "stderr"
        },
        {
          "output_type": "stream",
          "text": [
            "eval psnr: 29.49\n"
          ],
          "name": "stdout"
        },
        {
          "output_type": "stream",
          "text": [
            "epoch: 52/399: 100%|██████████| 21760/21760 [00:38<00:00, 570.34it/s, loss=-0.873808] \n",
            "epoch: 53/399:   0%|          | 0/21760 [00:00<?, ?it/s]"
          ],
          "name": "stderr"
        },
        {
          "output_type": "stream",
          "text": [
            "eval psnr: 29.49\n"
          ],
          "name": "stdout"
        },
        {
          "output_type": "stream",
          "text": [
            "epoch: 53/399: 100%|██████████| 21760/21760 [00:37<00:00, 573.07it/s, loss=-0.873852] \n",
            "epoch: 54/399:   0%|          | 0/21760 [00:00<?, ?it/s]"
          ],
          "name": "stderr"
        },
        {
          "output_type": "stream",
          "text": [
            "eval psnr: 29.43\n"
          ],
          "name": "stdout"
        },
        {
          "output_type": "stream",
          "text": [
            "epoch: 54/399: 100%|██████████| 21760/21760 [00:38<00:00, 571.92it/s, loss=-0.873842]\n",
            "epoch: 55/399:   0%|          | 0/21760 [00:00<?, ?it/s]"
          ],
          "name": "stderr"
        },
        {
          "output_type": "stream",
          "text": [
            "eval psnr: 29.39\n"
          ],
          "name": "stdout"
        },
        {
          "output_type": "stream",
          "text": [
            "epoch: 55/399: 100%|██████████| 21760/21760 [00:38<00:00, 571.58it/s, loss=-0.873939]\n",
            "epoch: 56/399:   0%|          | 0/21760 [00:00<?, ?it/s]"
          ],
          "name": "stderr"
        },
        {
          "output_type": "stream",
          "text": [
            "eval psnr: 28.91\n"
          ],
          "name": "stdout"
        },
        {
          "output_type": "stream",
          "text": [
            "epoch: 56/399: 100%|██████████| 21760/21760 [00:38<00:00, 571.28it/s, loss=-0.873956]\n",
            "epoch: 57/399:   0%|          | 0/21760 [00:00<?, ?it/s]"
          ],
          "name": "stderr"
        },
        {
          "output_type": "stream",
          "text": [
            "eval psnr: 29.44\n"
          ],
          "name": "stdout"
        },
        {
          "output_type": "stream",
          "text": [
            "epoch: 57/399: 100%|██████████| 21760/21760 [00:37<00:00, 577.70it/s, loss=-0.874016]\n",
            "epoch: 58/399:   0%|          | 0/21760 [00:00<?, ?it/s]"
          ],
          "name": "stderr"
        },
        {
          "output_type": "stream",
          "text": [
            "eval psnr: 29.10\n"
          ],
          "name": "stdout"
        },
        {
          "output_type": "stream",
          "text": [
            "epoch: 58/399: 100%|██████████| 21760/21760 [00:37<00:00, 581.83it/s, loss=-0.874060] \n",
            "epoch: 59/399:   0%|          | 0/21760 [00:00<?, ?it/s]"
          ],
          "name": "stderr"
        },
        {
          "output_type": "stream",
          "text": [
            "eval psnr: 29.02\n"
          ],
          "name": "stdout"
        },
        {
          "output_type": "stream",
          "text": [
            "epoch: 59/399: 100%|██████████| 21760/21760 [00:37<00:00, 580.28it/s, loss=-0.874096] \n",
            "epoch: 60/399:   0%|          | 0/21760 [00:00<?, ?it/s]"
          ],
          "name": "stderr"
        },
        {
          "output_type": "stream",
          "text": [
            "eval psnr: 29.45\n"
          ],
          "name": "stdout"
        },
        {
          "output_type": "stream",
          "text": [
            "epoch: 60/399: 100%|██████████| 21760/21760 [00:37<00:00, 585.77it/s, loss=-0.874182] \n",
            "epoch: 61/399:   0%|          | 0/21760 [00:00<?, ?it/s]"
          ],
          "name": "stderr"
        },
        {
          "output_type": "stream",
          "text": [
            "eval psnr: 29.56\n"
          ],
          "name": "stdout"
        },
        {
          "output_type": "stream",
          "text": [
            "epoch: 61/399: 100%|██████████| 21760/21760 [00:37<00:00, 587.25it/s, loss=-0.874162] \n",
            "epoch: 62/399:   0%|          | 0/21760 [00:00<?, ?it/s]"
          ],
          "name": "stderr"
        },
        {
          "output_type": "stream",
          "text": [
            "eval psnr: 29.55\n"
          ],
          "name": "stdout"
        },
        {
          "output_type": "stream",
          "text": [
            "epoch: 62/399: 100%|██████████| 21760/21760 [00:37<00:00, 583.82it/s, loss=-0.874261]\n",
            "epoch: 63/399:   0%|          | 0/21760 [00:00<?, ?it/s]"
          ],
          "name": "stderr"
        },
        {
          "output_type": "stream",
          "text": [
            "eval psnr: 29.25\n"
          ],
          "name": "stdout"
        },
        {
          "output_type": "stream",
          "text": [
            "epoch: 63/399: 100%|██████████| 21760/21760 [00:37<00:00, 586.06it/s, loss=-0.874281]\n",
            "epoch: 64/399:   0%|          | 0/21760 [00:00<?, ?it/s]"
          ],
          "name": "stderr"
        },
        {
          "output_type": "stream",
          "text": [
            "eval psnr: 29.62\n"
          ],
          "name": "stdout"
        },
        {
          "output_type": "stream",
          "text": [
            "epoch: 64/399: 100%|██████████| 21760/21760 [00:37<00:00, 584.75it/s, loss=-0.874315]\n",
            "epoch: 65/399:   0%|          | 0/21760 [00:00<?, ?it/s]"
          ],
          "name": "stderr"
        },
        {
          "output_type": "stream",
          "text": [
            "eval psnr: 29.15\n"
          ],
          "name": "stdout"
        },
        {
          "output_type": "stream",
          "text": [
            "epoch: 65/399: 100%|██████████| 21760/21760 [00:37<00:00, 586.14it/s, loss=-0.874376] \n",
            "epoch: 66/399:   0%|          | 0/21760 [00:00<?, ?it/s]"
          ],
          "name": "stderr"
        },
        {
          "output_type": "stream",
          "text": [
            "eval psnr: 29.22\n"
          ],
          "name": "stdout"
        },
        {
          "output_type": "stream",
          "text": [
            "epoch: 66/399: 100%|██████████| 21760/21760 [00:37<00:00, 580.82it/s, loss=-0.874410] \n",
            "epoch: 67/399:   0%|          | 0/21760 [00:00<?, ?it/s]"
          ],
          "name": "stderr"
        },
        {
          "output_type": "stream",
          "text": [
            "eval psnr: 29.45\n"
          ],
          "name": "stdout"
        },
        {
          "output_type": "stream",
          "text": [
            "epoch: 67/399: 100%|██████████| 21760/21760 [00:37<00:00, 578.27it/s, loss=-0.874476]\n",
            "epoch: 68/399:   0%|          | 0/21760 [00:00<?, ?it/s]"
          ],
          "name": "stderr"
        },
        {
          "output_type": "stream",
          "text": [
            "eval psnr: 29.44\n"
          ],
          "name": "stdout"
        },
        {
          "output_type": "stream",
          "text": [
            "epoch: 68/399: 100%|██████████| 21760/21760 [00:37<00:00, 580.92it/s, loss=-0.874463] \n",
            "epoch: 69/399:   0%|          | 0/21760 [00:00<?, ?it/s]"
          ],
          "name": "stderr"
        },
        {
          "output_type": "stream",
          "text": [
            "eval psnr: 29.36\n"
          ],
          "name": "stdout"
        },
        {
          "output_type": "stream",
          "text": [
            "epoch: 69/399: 100%|██████████| 21760/21760 [00:37<00:00, 583.13it/s, loss=-0.874487]\n",
            "epoch: 70/399:   0%|          | 0/21760 [00:00<?, ?it/s]"
          ],
          "name": "stderr"
        },
        {
          "output_type": "stream",
          "text": [
            "eval psnr: 29.23\n"
          ],
          "name": "stdout"
        },
        {
          "output_type": "stream",
          "text": [
            "epoch: 70/399: 100%|██████████| 21760/21760 [00:37<00:00, 587.91it/s, loss=-0.874592] \n",
            "epoch: 71/399:   0%|          | 0/21760 [00:00<?, ?it/s]"
          ],
          "name": "stderr"
        },
        {
          "output_type": "stream",
          "text": [
            "eval psnr: 29.41\n"
          ],
          "name": "stdout"
        },
        {
          "output_type": "stream",
          "text": [
            "epoch: 71/399: 100%|██████████| 21760/21760 [00:37<00:00, 587.46it/s, loss=-0.874602] \n",
            "epoch: 72/399:   0%|          | 0/21760 [00:00<?, ?it/s]"
          ],
          "name": "stderr"
        },
        {
          "output_type": "stream",
          "text": [
            "eval psnr: 29.26\n"
          ],
          "name": "stdout"
        },
        {
          "output_type": "stream",
          "text": [
            "epoch: 72/399: 100%|██████████| 21760/21760 [00:37<00:00, 585.65it/s, loss=-0.874681]\n",
            "epoch: 73/399:   0%|          | 0/21760 [00:00<?, ?it/s]"
          ],
          "name": "stderr"
        },
        {
          "output_type": "stream",
          "text": [
            "eval psnr: 29.63\n"
          ],
          "name": "stdout"
        },
        {
          "output_type": "stream",
          "text": [
            "epoch: 73/399: 100%|██████████| 21760/21760 [00:37<00:00, 586.14it/s, loss=-0.874659]\n",
            "epoch: 74/399:   0%|          | 0/21760 [00:00<?, ?it/s]"
          ],
          "name": "stderr"
        },
        {
          "output_type": "stream",
          "text": [
            "eval psnr: 29.58\n"
          ],
          "name": "stdout"
        },
        {
          "output_type": "stream",
          "text": [
            "epoch: 74/399: 100%|██████████| 21760/21760 [00:37<00:00, 585.63it/s, loss=-0.874726]\n",
            "epoch: 75/399:   0%|          | 0/21760 [00:00<?, ?it/s]"
          ],
          "name": "stderr"
        },
        {
          "output_type": "stream",
          "text": [
            "eval psnr: 29.62\n"
          ],
          "name": "stdout"
        },
        {
          "output_type": "stream",
          "text": [
            "epoch: 75/399: 100%|██████████| 21760/21760 [00:37<00:00, 584.70it/s, loss=-0.874770]\n",
            "epoch: 76/399:   0%|          | 0/21760 [00:00<?, ?it/s]"
          ],
          "name": "stderr"
        },
        {
          "output_type": "stream",
          "text": [
            "eval psnr: 29.70\n"
          ],
          "name": "stdout"
        },
        {
          "output_type": "stream",
          "text": [
            "epoch: 76/399: 100%|██████████| 21760/21760 [00:37<00:00, 578.88it/s, loss=-0.874766]\n",
            "epoch: 77/399:   0%|          | 0/21760 [00:00<?, ?it/s]"
          ],
          "name": "stderr"
        },
        {
          "output_type": "stream",
          "text": [
            "eval psnr: 29.45\n"
          ],
          "name": "stdout"
        },
        {
          "output_type": "stream",
          "text": [
            "epoch: 77/399: 100%|██████████| 21760/21760 [00:36<00:00, 588.63it/s, loss=-0.874854] \n",
            "epoch: 78/399:   0%|          | 0/21760 [00:00<?, ?it/s]"
          ],
          "name": "stderr"
        },
        {
          "output_type": "stream",
          "text": [
            "eval psnr: 29.54\n"
          ],
          "name": "stdout"
        },
        {
          "output_type": "stream",
          "text": [
            "epoch: 78/399: 100%|██████████| 21760/21760 [00:37<00:00, 583.27it/s, loss=-0.874858] \n",
            "epoch: 79/399:   0%|          | 0/21760 [00:00<?, ?it/s]"
          ],
          "name": "stderr"
        },
        {
          "output_type": "stream",
          "text": [
            "eval psnr: 29.34\n"
          ],
          "name": "stdout"
        },
        {
          "output_type": "stream",
          "text": [
            "epoch: 79/399: 100%|██████████| 21760/21760 [00:37<00:00, 587.03it/s, loss=-0.874927] \n",
            "epoch: 80/399:   0%|          | 0/21760 [00:00<?, ?it/s]"
          ],
          "name": "stderr"
        },
        {
          "output_type": "stream",
          "text": [
            "eval psnr: 29.49\n"
          ],
          "name": "stdout"
        },
        {
          "output_type": "stream",
          "text": [
            "epoch: 80/399: 100%|██████████| 21760/21760 [00:36<00:00, 588.82it/s, loss=-0.874965] \n",
            "epoch: 81/399:   0%|          | 0/21760 [00:00<?, ?it/s]"
          ],
          "name": "stderr"
        },
        {
          "output_type": "stream",
          "text": [
            "eval psnr: 29.57\n"
          ],
          "name": "stdout"
        },
        {
          "output_type": "stream",
          "text": [
            "epoch: 81/399: 100%|██████████| 21760/21760 [00:37<00:00, 586.17it/s, loss=-0.874962]\n",
            "epoch: 82/399:   0%|          | 0/21760 [00:00<?, ?it/s]"
          ],
          "name": "stderr"
        },
        {
          "output_type": "stream",
          "text": [
            "eval psnr: 29.53\n"
          ],
          "name": "stdout"
        },
        {
          "output_type": "stream",
          "text": [
            "epoch: 82/399: 100%|██████████| 21760/21760 [00:37<00:00, 583.08it/s, loss=-0.875008]\n",
            "epoch: 83/399:   0%|          | 0/21760 [00:00<?, ?it/s]"
          ],
          "name": "stderr"
        },
        {
          "output_type": "stream",
          "text": [
            "eval psnr: 29.34\n"
          ],
          "name": "stdout"
        },
        {
          "output_type": "stream",
          "text": [
            "epoch: 83/399: 100%|██████████| 21760/21760 [00:37<00:00, 587.00it/s, loss=-0.875110]\n",
            "epoch: 84/399:   0%|          | 0/21760 [00:00<?, ?it/s]"
          ],
          "name": "stderr"
        },
        {
          "output_type": "stream",
          "text": [
            "eval psnr: 29.37\n"
          ],
          "name": "stdout"
        },
        {
          "output_type": "stream",
          "text": [
            "epoch: 84/399: 100%|██████████| 21760/21760 [00:37<00:00, 578.37it/s, loss=-0.875066]\n",
            "epoch: 85/399:   0%|          | 0/21760 [00:00<?, ?it/s]"
          ],
          "name": "stderr"
        },
        {
          "output_type": "stream",
          "text": [
            "eval psnr: 29.67\n"
          ],
          "name": "stdout"
        },
        {
          "output_type": "stream",
          "text": [
            "epoch: 85/399: 100%|██████████| 21760/21760 [00:37<00:00, 583.93it/s, loss=-0.875092] \n",
            "epoch: 86/399:   0%|          | 0/21760 [00:00<?, ?it/s]"
          ],
          "name": "stderr"
        },
        {
          "output_type": "stream",
          "text": [
            "eval psnr: 29.24\n"
          ],
          "name": "stdout"
        },
        {
          "output_type": "stream",
          "text": [
            "epoch: 86/399: 100%|██████████| 21760/21760 [00:37<00:00, 584.79it/s, loss=-0.875132]\n",
            "epoch: 87/399:   0%|          | 0/21760 [00:00<?, ?it/s]"
          ],
          "name": "stderr"
        },
        {
          "output_type": "stream",
          "text": [
            "eval psnr: 29.20\n"
          ],
          "name": "stdout"
        },
        {
          "output_type": "stream",
          "text": [
            "epoch: 87/399: 100%|██████████| 21760/21760 [00:37<00:00, 584.04it/s, loss=-0.875208] \n",
            "epoch: 88/399:   0%|          | 0/21760 [00:00<?, ?it/s]"
          ],
          "name": "stderr"
        },
        {
          "output_type": "stream",
          "text": [
            "eval psnr: 29.29\n"
          ],
          "name": "stdout"
        },
        {
          "output_type": "stream",
          "text": [
            "epoch: 88/399: 100%|██████████| 21760/21760 [00:37<00:00, 587.60it/s, loss=-0.875175]\n",
            "epoch: 89/399:   0%|          | 0/21760 [00:00<?, ?it/s]"
          ],
          "name": "stderr"
        },
        {
          "output_type": "stream",
          "text": [
            "eval psnr: 29.26\n"
          ],
          "name": "stdout"
        },
        {
          "output_type": "stream",
          "text": [
            "epoch: 89/399: 100%|██████████| 21760/21760 [00:37<00:00, 582.45it/s, loss=-0.875205] \n",
            "epoch: 90/399:   0%|          | 0/21760 [00:00<?, ?it/s]"
          ],
          "name": "stderr"
        },
        {
          "output_type": "stream",
          "text": [
            "eval psnr: 29.60\n"
          ],
          "name": "stdout"
        },
        {
          "output_type": "stream",
          "text": [
            "epoch: 90/399: 100%|██████████| 21760/21760 [00:37<00:00, 581.61it/s, loss=-0.875290] \n",
            "epoch: 91/399:   0%|          | 0/21760 [00:00<?, ?it/s]"
          ],
          "name": "stderr"
        },
        {
          "output_type": "stream",
          "text": [
            "eval psnr: 29.56\n"
          ],
          "name": "stdout"
        },
        {
          "output_type": "stream",
          "text": [
            "epoch: 91/399: 100%|██████████| 21760/21760 [00:37<00:00, 576.37it/s, loss=-0.875289] \n",
            "epoch: 92/399:   0%|          | 0/21760 [00:00<?, ?it/s]"
          ],
          "name": "stderr"
        },
        {
          "output_type": "stream",
          "text": [
            "eval psnr: 29.43\n"
          ],
          "name": "stdout"
        },
        {
          "output_type": "stream",
          "text": [
            "epoch: 92/399: 100%|██████████| 21760/21760 [00:38<00:00, 569.88it/s, loss=-0.875304] \n",
            "epoch: 93/399:   0%|          | 0/21760 [00:00<?, ?it/s]"
          ],
          "name": "stderr"
        },
        {
          "output_type": "stream",
          "text": [
            "eval psnr: 29.65\n"
          ],
          "name": "stdout"
        },
        {
          "output_type": "stream",
          "text": [
            "epoch: 93/399: 100%|██████████| 21760/21760 [00:37<00:00, 576.17it/s, loss=-0.875345]\n",
            "epoch: 94/399:   0%|          | 0/21760 [00:00<?, ?it/s]"
          ],
          "name": "stderr"
        },
        {
          "output_type": "stream",
          "text": [
            "eval psnr: 29.39\n"
          ],
          "name": "stdout"
        },
        {
          "output_type": "stream",
          "text": [
            "epoch: 94/399: 100%|██████████| 21760/21760 [00:37<00:00, 577.74it/s, loss=-0.875412]\n",
            "epoch: 95/399:   0%|          | 0/21760 [00:00<?, ?it/s]"
          ],
          "name": "stderr"
        },
        {
          "output_type": "stream",
          "text": [
            "eval psnr: 29.59\n"
          ],
          "name": "stdout"
        },
        {
          "output_type": "stream",
          "text": [
            "epoch: 95/399: 100%|██████████| 21760/21760 [00:37<00:00, 576.41it/s, loss=-0.875425]\n",
            "epoch: 96/399:   0%|          | 0/21760 [00:00<?, ?it/s]"
          ],
          "name": "stderr"
        },
        {
          "output_type": "stream",
          "text": [
            "eval psnr: 29.26\n"
          ],
          "name": "stdout"
        },
        {
          "output_type": "stream",
          "text": [
            "epoch: 96/399: 100%|██████████| 21760/21760 [00:37<00:00, 577.03it/s, loss=-0.875379] \n",
            "epoch: 97/399:   0%|          | 0/21760 [00:00<?, ?it/s]"
          ],
          "name": "stderr"
        },
        {
          "output_type": "stream",
          "text": [
            "eval psnr: 29.33\n"
          ],
          "name": "stdout"
        },
        {
          "output_type": "stream",
          "text": [
            "epoch: 97/399: 100%|██████████| 21760/21760 [00:37<00:00, 581.29it/s, loss=-0.875449] \n",
            "epoch: 98/399:   0%|          | 0/21760 [00:00<?, ?it/s]"
          ],
          "name": "stderr"
        },
        {
          "output_type": "stream",
          "text": [
            "eval psnr: 29.49\n"
          ],
          "name": "stdout"
        },
        {
          "output_type": "stream",
          "text": [
            "epoch: 98/399: 100%|██████████| 21760/21760 [00:37<00:00, 574.86it/s, loss=-0.875490]\n",
            "epoch: 99/399:   0%|          | 0/21760 [00:00<?, ?it/s]"
          ],
          "name": "stderr"
        },
        {
          "output_type": "stream",
          "text": [
            "eval psnr: 29.40\n"
          ],
          "name": "stdout"
        },
        {
          "output_type": "stream",
          "text": [
            "epoch: 99/399: 100%|██████████| 21760/21760 [00:37<00:00, 573.26it/s, loss=-0.875601] \n",
            "epoch: 100/399:   0%|          | 0/21760 [00:00<?, ?it/s]"
          ],
          "name": "stderr"
        },
        {
          "output_type": "stream",
          "text": [
            "eval psnr: 29.47\n"
          ],
          "name": "stdout"
        },
        {
          "output_type": "stream",
          "text": [
            "epoch: 100/399: 100%|██████████| 21760/21760 [00:38<00:00, 567.92it/s, loss=-0.875491]\n",
            "epoch: 101/399:   0%|          | 0/21760 [00:00<?, ?it/s]"
          ],
          "name": "stderr"
        },
        {
          "output_type": "stream",
          "text": [
            "eval psnr: 29.74\n"
          ],
          "name": "stdout"
        },
        {
          "output_type": "stream",
          "text": [
            "epoch: 101/399: 100%|██████████| 21760/21760 [00:37<00:00, 575.04it/s, loss=-0.875562] \n",
            "epoch: 102/399:   0%|          | 0/21760 [00:00<?, ?it/s]"
          ],
          "name": "stderr"
        },
        {
          "output_type": "stream",
          "text": [
            "eval psnr: 29.32\n"
          ],
          "name": "stdout"
        },
        {
          "output_type": "stream",
          "text": [
            "epoch: 102/399: 100%|██████████| 21760/21760 [00:37<00:00, 576.63it/s, loss=-0.875589] \n",
            "epoch: 103/399:   0%|          | 0/21760 [00:00<?, ?it/s]"
          ],
          "name": "stderr"
        },
        {
          "output_type": "stream",
          "text": [
            "eval psnr: 29.51\n"
          ],
          "name": "stdout"
        },
        {
          "output_type": "stream",
          "text": [
            "epoch: 103/399: 100%|██████████| 21760/21760 [00:37<00:00, 573.65it/s, loss=-0.875688] \n",
            "epoch: 104/399:   0%|          | 0/21760 [00:00<?, ?it/s]"
          ],
          "name": "stderr"
        },
        {
          "output_type": "stream",
          "text": [
            "eval psnr: 29.59\n"
          ],
          "name": "stdout"
        },
        {
          "output_type": "stream",
          "text": [
            "epoch: 104/399: 100%|██████████| 21760/21760 [00:37<00:00, 579.96it/s, loss=-0.875632] \n",
            "epoch: 105/399:   0%|          | 0/21760 [00:00<?, ?it/s]"
          ],
          "name": "stderr"
        },
        {
          "output_type": "stream",
          "text": [
            "eval psnr: 29.40\n"
          ],
          "name": "stdout"
        },
        {
          "output_type": "stream",
          "text": [
            "epoch: 105/399: 100%|██████████| 21760/21760 [00:37<00:00, 574.20it/s, loss=-0.875694]\n",
            "epoch: 106/399:   0%|          | 0/21760 [00:00<?, ?it/s]"
          ],
          "name": "stderr"
        },
        {
          "output_type": "stream",
          "text": [
            "eval psnr: 29.32\n"
          ],
          "name": "stdout"
        },
        {
          "output_type": "stream",
          "text": [
            "epoch: 106/399: 100%|██████████| 21760/21760 [00:37<00:00, 583.65it/s, loss=-0.875675]\n",
            "epoch: 107/399:   0%|          | 0/21760 [00:00<?, ?it/s]"
          ],
          "name": "stderr"
        },
        {
          "output_type": "stream",
          "text": [
            "eval psnr: 29.40\n"
          ],
          "name": "stdout"
        },
        {
          "output_type": "stream",
          "text": [
            "epoch: 107/399: 100%|██████████| 21760/21760 [00:37<00:00, 580.13it/s, loss=-0.875704] \n",
            "epoch: 108/399:   0%|          | 0/21760 [00:00<?, ?it/s]"
          ],
          "name": "stderr"
        },
        {
          "output_type": "stream",
          "text": [
            "eval psnr: 29.73\n"
          ],
          "name": "stdout"
        },
        {
          "output_type": "stream",
          "text": [
            "epoch: 108/399: 100%|██████████| 21760/21760 [00:37<00:00, 574.38it/s, loss=-0.875770] \n",
            "epoch: 109/399:   0%|          | 0/21760 [00:00<?, ?it/s]"
          ],
          "name": "stderr"
        },
        {
          "output_type": "stream",
          "text": [
            "eval psnr: 29.19\n"
          ],
          "name": "stdout"
        },
        {
          "output_type": "stream",
          "text": [
            "epoch: 109/399: 100%|██████████| 21760/21760 [00:37<00:00, 582.34it/s, loss=-0.875772] \n",
            "epoch: 110/399:   0%|          | 0/21760 [00:00<?, ?it/s]"
          ],
          "name": "stderr"
        },
        {
          "output_type": "stream",
          "text": [
            "eval psnr: 29.50\n"
          ],
          "name": "stdout"
        },
        {
          "output_type": "stream",
          "text": [
            "epoch: 110/399: 100%|██████████| 21760/21760 [00:37<00:00, 582.20it/s, loss=-0.875777]\n",
            "epoch: 111/399:   0%|          | 0/21760 [00:00<?, ?it/s]"
          ],
          "name": "stderr"
        },
        {
          "output_type": "stream",
          "text": [
            "eval psnr: 29.43\n"
          ],
          "name": "stdout"
        },
        {
          "output_type": "stream",
          "text": [
            "epoch: 111/399: 100%|██████████| 21760/21760 [00:37<00:00, 584.18it/s, loss=-0.875810] \n",
            "epoch: 112/399:   0%|          | 0/21760 [00:00<?, ?it/s]"
          ],
          "name": "stderr"
        },
        {
          "output_type": "stream",
          "text": [
            "eval psnr: 29.25\n"
          ],
          "name": "stdout"
        },
        {
          "output_type": "stream",
          "text": [
            "epoch: 112/399: 100%|██████████| 21760/21760 [00:37<00:00, 584.92it/s, loss=-0.875807] \n",
            "epoch: 113/399:   0%|          | 0/21760 [00:00<?, ?it/s]"
          ],
          "name": "stderr"
        },
        {
          "output_type": "stream",
          "text": [
            "eval psnr: 29.53\n"
          ],
          "name": "stdout"
        },
        {
          "output_type": "stream",
          "text": [
            "epoch: 113/399: 100%|██████████| 21760/21760 [00:37<00:00, 580.77it/s, loss=-0.875831]\n",
            "epoch: 114/399:   0%|          | 0/21760 [00:00<?, ?it/s]"
          ],
          "name": "stderr"
        },
        {
          "output_type": "stream",
          "text": [
            "eval psnr: 29.46\n"
          ],
          "name": "stdout"
        },
        {
          "output_type": "stream",
          "text": [
            "epoch: 114/399: 100%|██████████| 21760/21760 [00:37<00:00, 581.27it/s, loss=-0.875898]\n",
            "epoch: 115/399:   0%|          | 0/21760 [00:00<?, ?it/s]"
          ],
          "name": "stderr"
        },
        {
          "output_type": "stream",
          "text": [
            "eval psnr: 28.96\n"
          ],
          "name": "stdout"
        },
        {
          "output_type": "stream",
          "text": [
            "epoch: 115/399: 100%|██████████| 21760/21760 [00:37<00:00, 579.32it/s, loss=-0.875929] \n",
            "epoch: 116/399:   0%|          | 0/21760 [00:00<?, ?it/s]"
          ],
          "name": "stderr"
        },
        {
          "output_type": "stream",
          "text": [
            "eval psnr: 29.74\n"
          ],
          "name": "stdout"
        },
        {
          "output_type": "stream",
          "text": [
            "epoch: 116/399: 100%|██████████| 21760/21760 [00:37<00:00, 579.26it/s, loss=-0.875943] \n",
            "epoch: 117/399:   0%|          | 0/21760 [00:00<?, ?it/s]"
          ],
          "name": "stderr"
        },
        {
          "output_type": "stream",
          "text": [
            "eval psnr: 29.18\n"
          ],
          "name": "stdout"
        },
        {
          "output_type": "stream",
          "text": [
            "epoch: 117/399: 100%|██████████| 21760/21760 [00:37<00:00, 576.28it/s, loss=-0.875956] \n",
            "epoch: 118/399:   0%|          | 0/21760 [00:00<?, ?it/s]"
          ],
          "name": "stderr"
        },
        {
          "output_type": "stream",
          "text": [
            "eval psnr: 29.27\n"
          ],
          "name": "stdout"
        },
        {
          "output_type": "stream",
          "text": [
            "epoch: 118/399: 100%|██████████| 21760/21760 [00:37<00:00, 584.34it/s, loss=-0.875947]\n",
            "epoch: 119/399:   0%|          | 0/21760 [00:00<?, ?it/s]"
          ],
          "name": "stderr"
        },
        {
          "output_type": "stream",
          "text": [
            "eval psnr: 29.20\n"
          ],
          "name": "stdout"
        },
        {
          "output_type": "stream",
          "text": [
            "epoch: 119/399: 100%|██████████| 21760/21760 [00:37<00:00, 586.25it/s, loss=-0.876004]\n",
            "epoch: 120/399:   0%|          | 0/21760 [00:00<?, ?it/s]"
          ],
          "name": "stderr"
        },
        {
          "output_type": "stream",
          "text": [
            "eval psnr: 29.62\n"
          ],
          "name": "stdout"
        },
        {
          "output_type": "stream",
          "text": [
            "epoch: 120/399: 100%|██████████| 21760/21760 [00:37<00:00, 587.50it/s, loss=-0.876005] \n",
            "epoch: 121/399:   0%|          | 0/21760 [00:00<?, ?it/s]"
          ],
          "name": "stderr"
        },
        {
          "output_type": "stream",
          "text": [
            "eval psnr: 29.15\n"
          ],
          "name": "stdout"
        },
        {
          "output_type": "stream",
          "text": [
            "epoch: 121/399: 100%|██████████| 21760/21760 [00:37<00:00, 582.14it/s, loss=-0.876002]\n",
            "epoch: 122/399:   0%|          | 0/21760 [00:00<?, ?it/s]"
          ],
          "name": "stderr"
        },
        {
          "output_type": "stream",
          "text": [
            "eval psnr: 29.25\n"
          ],
          "name": "stdout"
        },
        {
          "output_type": "stream",
          "text": [
            "epoch: 122/399: 100%|██████████| 21760/21760 [00:37<00:00, 581.38it/s, loss=-0.876071] \n",
            "epoch: 123/399:   0%|          | 0/21760 [00:00<?, ?it/s]"
          ],
          "name": "stderr"
        },
        {
          "output_type": "stream",
          "text": [
            "eval psnr: 29.51\n"
          ],
          "name": "stdout"
        },
        {
          "output_type": "stream",
          "text": [
            "epoch: 123/399: 100%|██████████| 21760/21760 [00:37<00:00, 578.66it/s, loss=-0.876111] \n",
            "epoch: 124/399:   0%|          | 0/21760 [00:00<?, ?it/s]"
          ],
          "name": "stderr"
        },
        {
          "output_type": "stream",
          "text": [
            "eval psnr: 29.47\n"
          ],
          "name": "stdout"
        },
        {
          "output_type": "stream",
          "text": [
            "epoch: 124/399: 100%|██████████| 21760/21760 [00:37<00:00, 580.93it/s, loss=-0.876152] \n",
            "epoch: 125/399:   0%|          | 0/21760 [00:00<?, ?it/s]"
          ],
          "name": "stderr"
        },
        {
          "output_type": "stream",
          "text": [
            "eval psnr: 29.58\n"
          ],
          "name": "stdout"
        },
        {
          "output_type": "stream",
          "text": [
            "epoch: 125/399: 100%|██████████| 21760/21760 [00:37<00:00, 577.57it/s, loss=-0.876091] \n",
            "epoch: 126/399:   0%|          | 0/21760 [00:00<?, ?it/s]"
          ],
          "name": "stderr"
        },
        {
          "output_type": "stream",
          "text": [
            "eval psnr: 29.22\n"
          ],
          "name": "stdout"
        },
        {
          "output_type": "stream",
          "text": [
            "epoch: 126/399: 100%|██████████| 21760/21760 [00:36<00:00, 588.71it/s, loss=-0.876126] \n",
            "epoch: 127/399:   0%|          | 0/21760 [00:00<?, ?it/s]"
          ],
          "name": "stderr"
        },
        {
          "output_type": "stream",
          "text": [
            "eval psnr: 29.30\n"
          ],
          "name": "stdout"
        },
        {
          "output_type": "stream",
          "text": [
            "epoch: 127/399: 100%|██████████| 21760/21760 [00:37<00:00, 579.85it/s, loss=-0.876214] \n",
            "epoch: 128/399:   0%|          | 0/21760 [00:00<?, ?it/s]"
          ],
          "name": "stderr"
        },
        {
          "output_type": "stream",
          "text": [
            "eval psnr: 29.56\n"
          ],
          "name": "stdout"
        },
        {
          "output_type": "stream",
          "text": [
            "epoch: 128/399: 100%|██████████| 21760/21760 [00:37<00:00, 583.55it/s, loss=-0.876205]\n",
            "epoch: 129/399:   0%|          | 0/21760 [00:00<?, ?it/s]"
          ],
          "name": "stderr"
        },
        {
          "output_type": "stream",
          "text": [
            "eval psnr: 29.48\n"
          ],
          "name": "stdout"
        },
        {
          "output_type": "stream",
          "text": [
            "epoch: 129/399: 100%|██████████| 21760/21760 [00:37<00:00, 582.85it/s, loss=-0.876237] \n",
            "epoch: 130/399:   0%|          | 0/21760 [00:00<?, ?it/s]"
          ],
          "name": "stderr"
        },
        {
          "output_type": "stream",
          "text": [
            "eval psnr: 29.54\n"
          ],
          "name": "stdout"
        },
        {
          "output_type": "stream",
          "text": [
            "epoch: 130/399: 100%|██████████| 21760/21760 [00:37<00:00, 586.43it/s, loss=-0.876208] \n",
            "epoch: 131/399:   0%|          | 0/21760 [00:00<?, ?it/s]"
          ],
          "name": "stderr"
        },
        {
          "output_type": "stream",
          "text": [
            "eval psnr: 29.18\n"
          ],
          "name": "stdout"
        },
        {
          "output_type": "stream",
          "text": [
            "epoch: 131/399: 100%|██████████| 21760/21760 [00:37<00:00, 583.16it/s, loss=-0.876280]\n",
            "epoch: 132/399:   0%|          | 0/21760 [00:00<?, ?it/s]"
          ],
          "name": "stderr"
        },
        {
          "output_type": "stream",
          "text": [
            "eval psnr: 29.72\n"
          ],
          "name": "stdout"
        },
        {
          "output_type": "stream",
          "text": [
            "epoch: 132/399: 100%|██████████| 21760/21760 [00:37<00:00, 583.03it/s, loss=-0.876308]\n",
            "epoch: 133/399:   0%|          | 0/21760 [00:00<?, ?it/s]"
          ],
          "name": "stderr"
        },
        {
          "output_type": "stream",
          "text": [
            "eval psnr: 29.56\n"
          ],
          "name": "stdout"
        },
        {
          "output_type": "stream",
          "text": [
            "epoch: 133/399: 100%|██████████| 21760/21760 [00:37<00:00, 581.57it/s, loss=-0.876314]\n",
            "epoch: 134/399:   0%|          | 0/21760 [00:00<?, ?it/s]"
          ],
          "name": "stderr"
        },
        {
          "output_type": "stream",
          "text": [
            "eval psnr: 29.65\n"
          ],
          "name": "stdout"
        },
        {
          "output_type": "stream",
          "text": [
            "epoch: 134/399: 100%|██████████| 21760/21760 [00:37<00:00, 582.56it/s, loss=-0.876301]\n",
            "epoch: 135/399:   0%|          | 0/21760 [00:00<?, ?it/s]"
          ],
          "name": "stderr"
        },
        {
          "output_type": "stream",
          "text": [
            "eval psnr: 29.64\n"
          ],
          "name": "stdout"
        },
        {
          "output_type": "stream",
          "text": [
            "epoch: 135/399: 100%|██████████| 21760/21760 [00:37<00:00, 582.14it/s, loss=-0.876281] \n",
            "epoch: 136/399:   0%|          | 0/21760 [00:00<?, ?it/s]"
          ],
          "name": "stderr"
        },
        {
          "output_type": "stream",
          "text": [
            "eval psnr: 29.51\n"
          ],
          "name": "stdout"
        },
        {
          "output_type": "stream",
          "text": [
            "epoch: 136/399: 100%|██████████| 21760/21760 [00:37<00:00, 585.22it/s, loss=-0.876344] \n",
            "epoch: 137/399:   0%|          | 0/21760 [00:00<?, ?it/s]"
          ],
          "name": "stderr"
        },
        {
          "output_type": "stream",
          "text": [
            "eval psnr: 29.31\n"
          ],
          "name": "stdout"
        },
        {
          "output_type": "stream",
          "text": [
            "epoch: 137/399: 100%|██████████| 21760/21760 [00:37<00:00, 576.81it/s, loss=-0.876353] \n",
            "epoch: 138/399:   0%|          | 0/21760 [00:00<?, ?it/s]"
          ],
          "name": "stderr"
        },
        {
          "output_type": "stream",
          "text": [
            "eval psnr: 29.53\n"
          ],
          "name": "stdout"
        },
        {
          "output_type": "stream",
          "text": [
            "epoch: 138/399: 100%|██████████| 21760/21760 [00:37<00:00, 583.99it/s, loss=-0.876385]\n",
            "epoch: 139/399:   0%|          | 0/21760 [00:00<?, ?it/s]"
          ],
          "name": "stderr"
        },
        {
          "output_type": "stream",
          "text": [
            "eval psnr: 29.57\n"
          ],
          "name": "stdout"
        },
        {
          "output_type": "stream",
          "text": [
            "epoch: 139/399: 100%|██████████| 21760/21760 [00:37<00:00, 583.39it/s, loss=-0.876381] \n",
            "epoch: 140/399:   0%|          | 0/21760 [00:00<?, ?it/s]"
          ],
          "name": "stderr"
        },
        {
          "output_type": "stream",
          "text": [
            "eval psnr: 29.36\n"
          ],
          "name": "stdout"
        },
        {
          "output_type": "stream",
          "text": [
            "epoch: 140/399: 100%|██████████| 21760/21760 [00:37<00:00, 577.79it/s, loss=-0.876421]\n",
            "epoch: 141/399:   0%|          | 0/21760 [00:00<?, ?it/s]"
          ],
          "name": "stderr"
        },
        {
          "output_type": "stream",
          "text": [
            "eval psnr: 29.61\n"
          ],
          "name": "stdout"
        },
        {
          "output_type": "stream",
          "text": [
            "epoch: 141/399: 100%|██████████| 21760/21760 [00:37<00:00, 577.94it/s, loss=-0.876509]\n",
            "epoch: 142/399:   0%|          | 0/21760 [00:00<?, ?it/s]"
          ],
          "name": "stderr"
        },
        {
          "output_type": "stream",
          "text": [
            "eval psnr: 29.13\n"
          ],
          "name": "stdout"
        },
        {
          "output_type": "stream",
          "text": [
            "epoch: 142/399: 100%|██████████| 21760/21760 [00:37<00:00, 574.18it/s, loss=-0.876445] \n",
            "epoch: 143/399:   0%|          | 0/21760 [00:00<?, ?it/s]"
          ],
          "name": "stderr"
        },
        {
          "output_type": "stream",
          "text": [
            "eval psnr: 29.45\n"
          ],
          "name": "stdout"
        },
        {
          "output_type": "stream",
          "text": [
            "epoch: 143/399: 100%|██████████| 21760/21760 [00:37<00:00, 579.64it/s, loss=-0.876483] \n",
            "epoch: 144/399:   0%|          | 0/21760 [00:00<?, ?it/s]"
          ],
          "name": "stderr"
        },
        {
          "output_type": "stream",
          "text": [
            "eval psnr: 29.46\n"
          ],
          "name": "stdout"
        },
        {
          "output_type": "stream",
          "text": [
            "epoch: 144/399: 100%|██████████| 21760/21760 [00:37<00:00, 583.12it/s, loss=-0.876472] \n",
            "epoch: 145/399:   0%|          | 0/21760 [00:00<?, ?it/s]"
          ],
          "name": "stderr"
        },
        {
          "output_type": "stream",
          "text": [
            "eval psnr: 29.36\n"
          ],
          "name": "stdout"
        },
        {
          "output_type": "stream",
          "text": [
            "epoch: 145/399: 100%|██████████| 21760/21760 [00:37<00:00, 580.00it/s, loss=-0.876547]\n",
            "epoch: 146/399:   0%|          | 0/21760 [00:00<?, ?it/s]"
          ],
          "name": "stderr"
        },
        {
          "output_type": "stream",
          "text": [
            "eval psnr: 29.67\n"
          ],
          "name": "stdout"
        },
        {
          "output_type": "stream",
          "text": [
            "epoch: 146/399: 100%|██████████| 21760/21760 [00:37<00:00, 580.92it/s, loss=-0.876548]\n",
            "epoch: 147/399:   0%|          | 0/21760 [00:00<?, ?it/s]"
          ],
          "name": "stderr"
        },
        {
          "output_type": "stream",
          "text": [
            "eval psnr: 29.42\n"
          ],
          "name": "stdout"
        },
        {
          "output_type": "stream",
          "text": [
            "epoch: 147/399: 100%|██████████| 21760/21760 [00:36<00:00, 588.17it/s, loss=-0.876564] \n",
            "epoch: 148/399:   0%|          | 0/21760 [00:00<?, ?it/s]"
          ],
          "name": "stderr"
        },
        {
          "output_type": "stream",
          "text": [
            "eval psnr: 29.19\n"
          ],
          "name": "stdout"
        },
        {
          "output_type": "stream",
          "text": [
            "epoch: 148/399: 100%|██████████| 21760/21760 [00:37<00:00, 586.33it/s, loss=-0.876531]\n",
            "epoch: 149/399:   0%|          | 0/21760 [00:00<?, ?it/s]"
          ],
          "name": "stderr"
        },
        {
          "output_type": "stream",
          "text": [
            "eval psnr: 29.37\n"
          ],
          "name": "stdout"
        },
        {
          "output_type": "stream",
          "text": [
            "epoch: 149/399: 100%|██████████| 21760/21760 [00:37<00:00, 579.35it/s, loss=-0.876570] \n",
            "epoch: 150/399:   0%|          | 0/21760 [00:00<?, ?it/s]"
          ],
          "name": "stderr"
        },
        {
          "output_type": "stream",
          "text": [
            "eval psnr: 29.32\n"
          ],
          "name": "stdout"
        },
        {
          "output_type": "stream",
          "text": [
            "epoch: 150/399: 100%|██████████| 21760/21760 [00:37<00:00, 572.75it/s, loss=-0.876649]\n",
            "epoch: 151/399:   0%|          | 0/21760 [00:00<?, ?it/s]"
          ],
          "name": "stderr"
        },
        {
          "output_type": "stream",
          "text": [
            "eval psnr: 29.41\n"
          ],
          "name": "stdout"
        },
        {
          "output_type": "stream",
          "text": [
            "epoch: 151/399: 100%|██████████| 21760/21760 [00:37<00:00, 582.83it/s, loss=-0.876599]\n",
            "epoch: 152/399:   0%|          | 0/21760 [00:00<?, ?it/s]"
          ],
          "name": "stderr"
        },
        {
          "output_type": "stream",
          "text": [
            "eval psnr: 29.33\n"
          ],
          "name": "stdout"
        },
        {
          "output_type": "stream",
          "text": [
            "epoch: 152/399: 100%|██████████| 21760/21760 [00:37<00:00, 585.48it/s, loss=-0.876655]\n",
            "epoch: 153/399:   0%|          | 0/21760 [00:00<?, ?it/s]"
          ],
          "name": "stderr"
        },
        {
          "output_type": "stream",
          "text": [
            "eval psnr: 29.39\n"
          ],
          "name": "stdout"
        },
        {
          "output_type": "stream",
          "text": [
            "epoch: 153/399: 100%|██████████| 21760/21760 [00:37<00:00, 577.63it/s, loss=-0.876655]\n",
            "epoch: 154/399:   0%|          | 0/21760 [00:00<?, ?it/s]"
          ],
          "name": "stderr"
        },
        {
          "output_type": "stream",
          "text": [
            "eval psnr: 29.62\n"
          ],
          "name": "stdout"
        },
        {
          "output_type": "stream",
          "text": [
            "epoch: 154/399: 100%|██████████| 21760/21760 [00:37<00:00, 584.20it/s, loss=-0.876674]\n",
            "epoch: 155/399:   0%|          | 0/21760 [00:00<?, ?it/s]"
          ],
          "name": "stderr"
        },
        {
          "output_type": "stream",
          "text": [
            "eval psnr: 29.78\n"
          ],
          "name": "stdout"
        },
        {
          "output_type": "stream",
          "text": [
            "epoch: 155/399: 100%|██████████| 21760/21760 [00:37<00:00, 584.45it/s, loss=-0.876744]\n",
            "epoch: 156/399:   0%|          | 0/21760 [00:00<?, ?it/s]"
          ],
          "name": "stderr"
        },
        {
          "output_type": "stream",
          "text": [
            "eval psnr: 29.41\n"
          ],
          "name": "stdout"
        },
        {
          "output_type": "stream",
          "text": [
            "epoch: 156/399: 100%|██████████| 21760/21760 [00:37<00:00, 587.71it/s, loss=-0.876701]\n",
            "epoch: 157/399:   0%|          | 0/21760 [00:00<?, ?it/s]"
          ],
          "name": "stderr"
        },
        {
          "output_type": "stream",
          "text": [
            "eval psnr: 29.70\n"
          ],
          "name": "stdout"
        },
        {
          "output_type": "stream",
          "text": [
            "epoch: 157/399: 100%|██████████| 21760/21760 [00:37<00:00, 585.98it/s, loss=-0.876756] \n",
            "epoch: 158/399:   0%|          | 0/21760 [00:00<?, ?it/s]"
          ],
          "name": "stderr"
        },
        {
          "output_type": "stream",
          "text": [
            "eval psnr: 29.37\n"
          ],
          "name": "stdout"
        },
        {
          "output_type": "stream",
          "text": [
            "epoch: 158/399: 100%|██████████| 21760/21760 [00:37<00:00, 581.87it/s, loss=-0.876736] \n",
            "epoch: 159/399:   0%|          | 0/21760 [00:00<?, ?it/s]"
          ],
          "name": "stderr"
        },
        {
          "output_type": "stream",
          "text": [
            "eval psnr: 29.30\n"
          ],
          "name": "stdout"
        },
        {
          "output_type": "stream",
          "text": [
            "epoch: 159/399: 100%|██████████| 21760/21760 [00:37<00:00, 584.92it/s, loss=-0.876732]\n",
            "epoch: 160/399:   0%|          | 0/21760 [00:00<?, ?it/s]"
          ],
          "name": "stderr"
        },
        {
          "output_type": "stream",
          "text": [
            "eval psnr: 29.40\n"
          ],
          "name": "stdout"
        },
        {
          "output_type": "stream",
          "text": [
            "epoch: 160/399: 100%|██████████| 21760/21760 [00:37<00:00, 584.25it/s, loss=-0.876781] \n",
            "epoch: 161/399:   0%|          | 0/21760 [00:00<?, ?it/s]"
          ],
          "name": "stderr"
        },
        {
          "output_type": "stream",
          "text": [
            "eval psnr: 29.48\n"
          ],
          "name": "stdout"
        },
        {
          "output_type": "stream",
          "text": [
            "epoch: 161/399: 100%|██████████| 21760/21760 [00:37<00:00, 583.62it/s, loss=-0.876816]\n",
            "epoch: 162/399:   0%|          | 0/21760 [00:00<?, ?it/s]"
          ],
          "name": "stderr"
        },
        {
          "output_type": "stream",
          "text": [
            "eval psnr: 29.48\n"
          ],
          "name": "stdout"
        },
        {
          "output_type": "stream",
          "text": [
            "epoch: 162/399: 100%|██████████| 21760/21760 [00:37<00:00, 578.05it/s, loss=-0.876797]\n",
            "epoch: 163/399:   0%|          | 0/21760 [00:00<?, ?it/s]"
          ],
          "name": "stderr"
        },
        {
          "output_type": "stream",
          "text": [
            "eval psnr: 29.41\n"
          ],
          "name": "stdout"
        },
        {
          "output_type": "stream",
          "text": [
            "epoch: 163/399: 100%|██████████| 21760/21760 [00:37<00:00, 580.27it/s, loss=-0.876859] \n",
            "epoch: 164/399:   0%|          | 0/21760 [00:00<?, ?it/s]"
          ],
          "name": "stderr"
        },
        {
          "output_type": "stream",
          "text": [
            "eval psnr: 29.47\n"
          ],
          "name": "stdout"
        },
        {
          "output_type": "stream",
          "text": [
            "epoch: 164/399: 100%|██████████| 21760/21760 [00:36<00:00, 588.42it/s, loss=-0.876796]\n",
            "epoch: 165/399:   0%|          | 0/21760 [00:00<?, ?it/s]"
          ],
          "name": "stderr"
        },
        {
          "output_type": "stream",
          "text": [
            "eval psnr: 29.31\n"
          ],
          "name": "stdout"
        },
        {
          "output_type": "stream",
          "text": [
            "epoch: 165/399: 100%|██████████| 21760/21760 [00:36<00:00, 588.55it/s, loss=-0.876825]\n",
            "epoch: 166/399:   0%|          | 0/21760 [00:00<?, ?it/s]"
          ],
          "name": "stderr"
        },
        {
          "output_type": "stream",
          "text": [
            "eval psnr: 29.64\n"
          ],
          "name": "stdout"
        },
        {
          "output_type": "stream",
          "text": [
            "epoch: 166/399: 100%|██████████| 21760/21760 [00:37<00:00, 585.53it/s, loss=-0.876908] \n",
            "epoch: 167/399:   0%|          | 0/21760 [00:00<?, ?it/s]"
          ],
          "name": "stderr"
        },
        {
          "output_type": "stream",
          "text": [
            "eval psnr: 29.33\n"
          ],
          "name": "stdout"
        },
        {
          "output_type": "stream",
          "text": [
            "epoch: 167/399: 100%|██████████| 21760/21760 [00:37<00:00, 584.10it/s, loss=-0.876882] \n",
            "epoch: 168/399:   0%|          | 0/21760 [00:00<?, ?it/s]"
          ],
          "name": "stderr"
        },
        {
          "output_type": "stream",
          "text": [
            "eval psnr: 29.42\n"
          ],
          "name": "stdout"
        },
        {
          "output_type": "stream",
          "text": [
            "epoch: 168/399: 100%|██████████| 21760/21760 [00:37<00:00, 583.06it/s, loss=-0.876903]\n",
            "epoch: 169/399:   0%|          | 0/21760 [00:00<?, ?it/s]"
          ],
          "name": "stderr"
        },
        {
          "output_type": "stream",
          "text": [
            "eval psnr: 29.55\n"
          ],
          "name": "stdout"
        },
        {
          "output_type": "stream",
          "text": [
            "epoch: 169/399: 100%|██████████| 21760/21760 [00:37<00:00, 582.02it/s, loss=-0.876908] \n",
            "epoch: 170/399:   0%|          | 0/21760 [00:00<?, ?it/s]"
          ],
          "name": "stderr"
        },
        {
          "output_type": "stream",
          "text": [
            "eval psnr: 29.37\n"
          ],
          "name": "stdout"
        },
        {
          "output_type": "stream",
          "text": [
            "epoch: 170/399: 100%|██████████| 21760/21760 [00:37<00:00, 582.30it/s, loss=-0.876932]\n",
            "epoch: 171/399:   0%|          | 0/21760 [00:00<?, ?it/s]"
          ],
          "name": "stderr"
        },
        {
          "output_type": "stream",
          "text": [
            "eval psnr: 29.50\n"
          ],
          "name": "stdout"
        },
        {
          "output_type": "stream",
          "text": [
            "epoch: 171/399: 100%|██████████| 21760/21760 [00:37<00:00, 584.97it/s, loss=-0.876958]\n",
            "epoch: 172/399:   0%|          | 0/21760 [00:00<?, ?it/s]"
          ],
          "name": "stderr"
        },
        {
          "output_type": "stream",
          "text": [
            "eval psnr: 29.73\n"
          ],
          "name": "stdout"
        },
        {
          "output_type": "stream",
          "text": [
            "epoch: 172/399: 100%|██████████| 21760/21760 [00:37<00:00, 586.50it/s, loss=-0.876953] \n",
            "epoch: 173/399:   0%|          | 0/21760 [00:00<?, ?it/s]"
          ],
          "name": "stderr"
        },
        {
          "output_type": "stream",
          "text": [
            "eval psnr: 29.42\n"
          ],
          "name": "stdout"
        },
        {
          "output_type": "stream",
          "text": [
            "epoch: 173/399: 100%|██████████| 21760/21760 [00:37<00:00, 580.50it/s, loss=-0.877013] \n",
            "epoch: 174/399:   0%|          | 0/21760 [00:00<?, ?it/s]"
          ],
          "name": "stderr"
        },
        {
          "output_type": "stream",
          "text": [
            "eval psnr: 29.51\n"
          ],
          "name": "stdout"
        },
        {
          "output_type": "stream",
          "text": [
            "epoch: 174/399: 100%|██████████| 21760/21760 [00:37<00:00, 585.47it/s, loss=-0.876960]\n",
            "epoch: 175/399:   0%|          | 0/21760 [00:00<?, ?it/s]"
          ],
          "name": "stderr"
        },
        {
          "output_type": "stream",
          "text": [
            "eval psnr: 29.56\n"
          ],
          "name": "stdout"
        },
        {
          "output_type": "stream",
          "text": [
            "epoch: 175/399: 100%|██████████| 21760/21760 [00:37<00:00, 581.53it/s, loss=-0.877035] \n",
            "epoch: 176/399:   0%|          | 0/21760 [00:00<?, ?it/s]"
          ],
          "name": "stderr"
        },
        {
          "output_type": "stream",
          "text": [
            "eval psnr: 29.47\n"
          ],
          "name": "stdout"
        },
        {
          "output_type": "stream",
          "text": [
            "epoch: 176/399: 100%|██████████| 21760/21760 [00:37<00:00, 583.91it/s, loss=-0.877029]\n",
            "epoch: 177/399:   0%|          | 0/21760 [00:00<?, ?it/s]"
          ],
          "name": "stderr"
        },
        {
          "output_type": "stream",
          "text": [
            "eval psnr: 29.36\n"
          ],
          "name": "stdout"
        },
        {
          "output_type": "stream",
          "text": [
            "epoch: 177/399: 100%|██████████| 21760/21760 [00:37<00:00, 586.29it/s, loss=-0.877123]\n",
            "epoch: 178/399:   0%|          | 0/21760 [00:00<?, ?it/s]"
          ],
          "name": "stderr"
        },
        {
          "output_type": "stream",
          "text": [
            "eval psnr: 29.53\n"
          ],
          "name": "stdout"
        },
        {
          "output_type": "stream",
          "text": [
            "epoch: 178/399: 100%|██████████| 21760/21760 [00:37<00:00, 587.63it/s, loss=-0.877029]\n",
            "epoch: 179/399:   0%|          | 0/21760 [00:00<?, ?it/s]"
          ],
          "name": "stderr"
        },
        {
          "output_type": "stream",
          "text": [
            "eval psnr: 29.53\n"
          ],
          "name": "stdout"
        },
        {
          "output_type": "stream",
          "text": [
            "epoch: 179/399: 100%|██████████| 21760/21760 [00:36<00:00, 588.70it/s, loss=-0.877068]\n",
            "epoch: 180/399:   0%|          | 0/21760 [00:00<?, ?it/s]"
          ],
          "name": "stderr"
        },
        {
          "output_type": "stream",
          "text": [
            "eval psnr: 29.51\n"
          ],
          "name": "stdout"
        },
        {
          "output_type": "stream",
          "text": [
            "epoch: 180/399: 100%|██████████| 21760/21760 [00:37<00:00, 583.54it/s, loss=-0.877089]\n",
            "epoch: 181/399:   0%|          | 0/21760 [00:00<?, ?it/s]"
          ],
          "name": "stderr"
        },
        {
          "output_type": "stream",
          "text": [
            "eval psnr: 29.37\n"
          ],
          "name": "stdout"
        },
        {
          "output_type": "stream",
          "text": [
            "epoch: 181/399: 100%|██████████| 21760/21760 [00:37<00:00, 584.52it/s, loss=-0.877090] \n",
            "epoch: 182/399:   0%|          | 0/21760 [00:00<?, ?it/s]"
          ],
          "name": "stderr"
        },
        {
          "output_type": "stream",
          "text": [
            "eval psnr: 29.77\n"
          ],
          "name": "stdout"
        },
        {
          "output_type": "stream",
          "text": [
            "epoch: 182/399: 100%|██████████| 21760/21760 [00:37<00:00, 582.13it/s, loss=-0.877125] \n",
            "epoch: 183/399:   0%|          | 0/21760 [00:00<?, ?it/s]"
          ],
          "name": "stderr"
        },
        {
          "output_type": "stream",
          "text": [
            "eval psnr: 29.56\n"
          ],
          "name": "stdout"
        },
        {
          "output_type": "stream",
          "text": [
            "epoch: 183/399: 100%|██████████| 21760/21760 [00:37<00:00, 576.95it/s, loss=-0.877141] \n",
            "epoch: 184/399:   0%|          | 0/21760 [00:00<?, ?it/s]"
          ],
          "name": "stderr"
        },
        {
          "output_type": "stream",
          "text": [
            "eval psnr: 29.40\n"
          ],
          "name": "stdout"
        },
        {
          "output_type": "stream",
          "text": [
            "epoch: 184/399: 100%|██████████| 21760/21760 [00:37<00:00, 582.13it/s, loss=-0.877149] \n",
            "epoch: 185/399:   0%|          | 0/21760 [00:00<?, ?it/s]"
          ],
          "name": "stderr"
        },
        {
          "output_type": "stream",
          "text": [
            "eval psnr: 29.44\n"
          ],
          "name": "stdout"
        },
        {
          "output_type": "stream",
          "text": [
            "epoch: 185/399: 100%|██████████| 21760/21760 [00:37<00:00, 577.71it/s, loss=-0.877159] \n",
            "epoch: 186/399:   0%|          | 0/21760 [00:00<?, ?it/s]"
          ],
          "name": "stderr"
        },
        {
          "output_type": "stream",
          "text": [
            "eval psnr: 29.49\n"
          ],
          "name": "stdout"
        },
        {
          "output_type": "stream",
          "text": [
            "epoch: 186/399: 100%|██████████| 21760/21760 [00:37<00:00, 585.59it/s, loss=-0.877194] \n",
            "epoch: 187/399:   0%|          | 0/21760 [00:00<?, ?it/s]"
          ],
          "name": "stderr"
        },
        {
          "output_type": "stream",
          "text": [
            "eval psnr: 29.39\n"
          ],
          "name": "stdout"
        },
        {
          "output_type": "stream",
          "text": [
            "epoch: 187/399: 100%|██████████| 21760/21760 [00:37<00:00, 580.07it/s, loss=-0.877182]\n",
            "epoch: 188/399:   0%|          | 0/21760 [00:00<?, ?it/s]"
          ],
          "name": "stderr"
        },
        {
          "output_type": "stream",
          "text": [
            "eval psnr: 29.47\n"
          ],
          "name": "stdout"
        },
        {
          "output_type": "stream",
          "text": [
            "epoch: 188/399: 100%|██████████| 21760/21760 [00:37<00:00, 577.27it/s, loss=-0.877204] \n",
            "epoch: 189/399:   0%|          | 0/21760 [00:00<?, ?it/s]"
          ],
          "name": "stderr"
        },
        {
          "output_type": "stream",
          "text": [
            "eval psnr: 29.42\n"
          ],
          "name": "stdout"
        },
        {
          "output_type": "stream",
          "text": [
            "epoch: 189/399: 100%|██████████| 21760/21760 [00:37<00:00, 574.49it/s, loss=-0.877193]\n",
            "epoch: 190/399:   0%|          | 0/21760 [00:00<?, ?it/s]"
          ],
          "name": "stderr"
        },
        {
          "output_type": "stream",
          "text": [
            "eval psnr: 29.58\n"
          ],
          "name": "stdout"
        },
        {
          "output_type": "stream",
          "text": [
            "epoch: 190/399: 100%|██████████| 21760/21760 [00:37<00:00, 576.11it/s, loss=-0.877244]\n",
            "epoch: 191/399:   0%|          | 0/21760 [00:00<?, ?it/s]"
          ],
          "name": "stderr"
        },
        {
          "output_type": "stream",
          "text": [
            "eval psnr: 29.42\n"
          ],
          "name": "stdout"
        },
        {
          "output_type": "stream",
          "text": [
            "epoch: 191/399: 100%|██████████| 21760/21760 [00:37<00:00, 575.61it/s, loss=-0.877247]\n",
            "epoch: 192/399:   0%|          | 0/21760 [00:00<?, ?it/s]"
          ],
          "name": "stderr"
        },
        {
          "output_type": "stream",
          "text": [
            "eval psnr: 29.39\n"
          ],
          "name": "stdout"
        },
        {
          "output_type": "stream",
          "text": [
            "epoch: 192/399: 100%|██████████| 21760/21760 [00:37<00:00, 582.27it/s, loss=-0.877230] \n",
            "epoch: 193/399:   0%|          | 0/21760 [00:00<?, ?it/s]"
          ],
          "name": "stderr"
        },
        {
          "output_type": "stream",
          "text": [
            "eval psnr: 29.64\n"
          ],
          "name": "stdout"
        },
        {
          "output_type": "stream",
          "text": [
            "epoch: 193/399: 100%|██████████| 21760/21760 [00:37<00:00, 581.64it/s, loss=-0.877263]\n",
            "epoch: 194/399:   0%|          | 0/21760 [00:00<?, ?it/s]"
          ],
          "name": "stderr"
        },
        {
          "output_type": "stream",
          "text": [
            "eval psnr: 29.76\n"
          ],
          "name": "stdout"
        },
        {
          "output_type": "stream",
          "text": [
            "epoch: 194/399: 100%|██████████| 21760/21760 [00:37<00:00, 580.23it/s, loss=-0.877304] \n",
            "epoch: 195/399:   0%|          | 0/21760 [00:00<?, ?it/s]"
          ],
          "name": "stderr"
        },
        {
          "output_type": "stream",
          "text": [
            "eval psnr: 29.29\n"
          ],
          "name": "stdout"
        },
        {
          "output_type": "stream",
          "text": [
            "epoch: 195/399: 100%|██████████| 21760/21760 [00:37<00:00, 578.68it/s, loss=-0.877316] \n",
            "epoch: 196/399:   0%|          | 0/21760 [00:00<?, ?it/s]"
          ],
          "name": "stderr"
        },
        {
          "output_type": "stream",
          "text": [
            "eval psnr: 29.27\n"
          ],
          "name": "stdout"
        },
        {
          "output_type": "stream",
          "text": [
            "epoch: 196/399: 100%|██████████| 21760/21760 [00:37<00:00, 580.87it/s, loss=-0.877303] \n",
            "epoch: 197/399:   0%|          | 0/21760 [00:00<?, ?it/s]"
          ],
          "name": "stderr"
        },
        {
          "output_type": "stream",
          "text": [
            "eval psnr: 29.67\n"
          ],
          "name": "stdout"
        },
        {
          "output_type": "stream",
          "text": [
            "epoch: 197/399: 100%|██████████| 21760/21760 [00:37<00:00, 576.74it/s, loss=-0.877352] \n",
            "epoch: 198/399:   0%|          | 0/21760 [00:00<?, ?it/s]"
          ],
          "name": "stderr"
        },
        {
          "output_type": "stream",
          "text": [
            "eval psnr: 29.49\n"
          ],
          "name": "stdout"
        },
        {
          "output_type": "stream",
          "text": [
            "epoch: 198/399: 100%|██████████| 21760/21760 [00:37<00:00, 575.95it/s, loss=-0.877337] \n",
            "epoch: 199/399:   0%|          | 0/21760 [00:00<?, ?it/s]"
          ],
          "name": "stderr"
        },
        {
          "output_type": "stream",
          "text": [
            "eval psnr: 29.63\n"
          ],
          "name": "stdout"
        },
        {
          "output_type": "stream",
          "text": [
            "epoch: 199/399: 100%|██████████| 21760/21760 [00:37<00:00, 586.66it/s, loss=-0.877351] \n",
            "epoch: 200/399:   0%|          | 0/21760 [00:00<?, ?it/s]"
          ],
          "name": "stderr"
        },
        {
          "output_type": "stream",
          "text": [
            "eval psnr: 29.55\n"
          ],
          "name": "stdout"
        },
        {
          "output_type": "stream",
          "text": [
            "epoch: 200/399: 100%|██████████| 21760/21760 [00:37<00:00, 573.62it/s, loss=-0.877361]\n",
            "epoch: 201/399:   0%|          | 0/21760 [00:00<?, ?it/s]"
          ],
          "name": "stderr"
        },
        {
          "output_type": "stream",
          "text": [
            "eval psnr: 29.37\n"
          ],
          "name": "stdout"
        },
        {
          "output_type": "stream",
          "text": [
            "epoch: 201/399: 100%|██████████| 21760/21760 [00:37<00:00, 577.06it/s, loss=-0.877418]\n",
            "epoch: 202/399:   0%|          | 0/21760 [00:00<?, ?it/s]"
          ],
          "name": "stderr"
        },
        {
          "output_type": "stream",
          "text": [
            "eval psnr: 29.47\n"
          ],
          "name": "stdout"
        },
        {
          "output_type": "stream",
          "text": [
            "epoch: 202/399: 100%|██████████| 21760/21760 [00:37<00:00, 578.91it/s, loss=-0.877420]\n",
            "epoch: 203/399:   0%|          | 0/21760 [00:00<?, ?it/s]"
          ],
          "name": "stderr"
        },
        {
          "output_type": "stream",
          "text": [
            "eval psnr: 29.30\n"
          ],
          "name": "stdout"
        },
        {
          "output_type": "stream",
          "text": [
            "epoch: 203/399: 100%|██████████| 21760/21760 [00:37<00:00, 583.96it/s, loss=-0.877372] \n",
            "epoch: 204/399:   0%|          | 0/21760 [00:00<?, ?it/s]"
          ],
          "name": "stderr"
        },
        {
          "output_type": "stream",
          "text": [
            "eval psnr: 29.33\n"
          ],
          "name": "stdout"
        },
        {
          "output_type": "stream",
          "text": [
            "epoch: 204/399: 100%|██████████| 21760/21760 [00:37<00:00, 583.07it/s, loss=-0.877431]\n",
            "epoch: 205/399:   0%|          | 0/21760 [00:00<?, ?it/s]"
          ],
          "name": "stderr"
        },
        {
          "output_type": "stream",
          "text": [
            "eval psnr: 29.35\n"
          ],
          "name": "stdout"
        },
        {
          "output_type": "stream",
          "text": [
            "epoch: 205/399: 100%|██████████| 21760/21760 [00:37<00:00, 581.18it/s, loss=-0.877458] \n",
            "epoch: 206/399:   0%|          | 0/21760 [00:00<?, ?it/s]"
          ],
          "name": "stderr"
        },
        {
          "output_type": "stream",
          "text": [
            "eval psnr: 29.60\n"
          ],
          "name": "stdout"
        },
        {
          "output_type": "stream",
          "text": [
            "epoch: 206/399: 100%|██████████| 21760/21760 [00:37<00:00, 581.38it/s, loss=-0.877469] \n",
            "epoch: 207/399:   0%|          | 0/21760 [00:00<?, ?it/s]"
          ],
          "name": "stderr"
        },
        {
          "output_type": "stream",
          "text": [
            "eval psnr: 29.61\n"
          ],
          "name": "stdout"
        },
        {
          "output_type": "stream",
          "text": [
            "epoch: 207/399: 100%|██████████| 21760/21760 [00:37<00:00, 584.58it/s, loss=-0.877466]\n",
            "epoch: 208/399:   0%|          | 0/21760 [00:00<?, ?it/s]"
          ],
          "name": "stderr"
        },
        {
          "output_type": "stream",
          "text": [
            "eval psnr: 29.53\n"
          ],
          "name": "stdout"
        },
        {
          "output_type": "stream",
          "text": [
            "epoch: 208/399: 100%|██████████| 21760/21760 [00:37<00:00, 580.69it/s, loss=-0.877445] \n",
            "epoch: 209/399:   0%|          | 0/21760 [00:00<?, ?it/s]"
          ],
          "name": "stderr"
        },
        {
          "output_type": "stream",
          "text": [
            "eval psnr: 29.38\n"
          ],
          "name": "stdout"
        },
        {
          "output_type": "stream",
          "text": [
            "epoch: 209/399: 100%|██████████| 21760/21760 [00:37<00:00, 584.15it/s, loss=-0.877486] \n",
            "epoch: 210/399:   0%|          | 0/21760 [00:00<?, ?it/s]"
          ],
          "name": "stderr"
        },
        {
          "output_type": "stream",
          "text": [
            "eval psnr: 29.36\n"
          ],
          "name": "stdout"
        },
        {
          "output_type": "stream",
          "text": [
            "epoch: 210/399: 100%|██████████| 21760/21760 [00:37<00:00, 585.43it/s, loss=-0.877544] \n",
            "epoch: 211/399:   0%|          | 0/21760 [00:00<?, ?it/s]"
          ],
          "name": "stderr"
        },
        {
          "output_type": "stream",
          "text": [
            "eval psnr: 29.49\n"
          ],
          "name": "stdout"
        },
        {
          "output_type": "stream",
          "text": [
            "epoch: 211/399: 100%|██████████| 21760/21760 [00:37<00:00, 585.52it/s, loss=-0.877578]\n",
            "epoch: 212/399:   0%|          | 0/21760 [00:00<?, ?it/s]"
          ],
          "name": "stderr"
        },
        {
          "output_type": "stream",
          "text": [
            "eval psnr: 29.40\n"
          ],
          "name": "stdout"
        },
        {
          "output_type": "stream",
          "text": [
            "epoch: 212/399: 100%|██████████| 21760/21760 [00:37<00:00, 585.03it/s, loss=-0.877557] \n",
            "epoch: 213/399:   0%|          | 0/21760 [00:00<?, ?it/s]"
          ],
          "name": "stderr"
        },
        {
          "output_type": "stream",
          "text": [
            "eval psnr: 29.53\n"
          ],
          "name": "stdout"
        },
        {
          "output_type": "stream",
          "text": [
            "epoch: 213/399: 100%|██████████| 21760/21760 [00:37<00:00, 581.51it/s, loss=-0.877592] \n",
            "epoch: 214/399:   0%|          | 0/21760 [00:00<?, ?it/s]"
          ],
          "name": "stderr"
        },
        {
          "output_type": "stream",
          "text": [
            "eval psnr: 29.42\n"
          ],
          "name": "stdout"
        },
        {
          "output_type": "stream",
          "text": [
            "epoch: 214/399: 100%|██████████| 21760/21760 [00:37<00:00, 580.76it/s, loss=-0.877528] \n",
            "epoch: 215/399:   0%|          | 0/21760 [00:00<?, ?it/s]"
          ],
          "name": "stderr"
        },
        {
          "output_type": "stream",
          "text": [
            "eval psnr: 29.61\n"
          ],
          "name": "stdout"
        },
        {
          "output_type": "stream",
          "text": [
            "epoch: 215/399: 100%|██████████| 21760/21760 [00:37<00:00, 585.25it/s, loss=-0.877582] \n",
            "epoch: 216/399:   0%|          | 0/21760 [00:00<?, ?it/s]"
          ],
          "name": "stderr"
        },
        {
          "output_type": "stream",
          "text": [
            "eval psnr: 29.41\n"
          ],
          "name": "stdout"
        },
        {
          "output_type": "stream",
          "text": [
            "epoch: 216/399: 100%|██████████| 21760/21760 [00:37<00:00, 578.24it/s, loss=-0.877648]\n",
            "epoch: 217/399:   0%|          | 0/21760 [00:00<?, ?it/s]"
          ],
          "name": "stderr"
        },
        {
          "output_type": "stream",
          "text": [
            "eval psnr: 29.45\n"
          ],
          "name": "stdout"
        },
        {
          "output_type": "stream",
          "text": [
            "epoch: 217/399: 100%|██████████| 21760/21760 [00:37<00:00, 583.02it/s, loss=-0.877595] \n",
            "epoch: 218/399:   0%|          | 0/21760 [00:00<?, ?it/s]"
          ],
          "name": "stderr"
        },
        {
          "output_type": "stream",
          "text": [
            "eval psnr: 29.54\n"
          ],
          "name": "stdout"
        },
        {
          "output_type": "stream",
          "text": [
            "epoch: 218/399: 100%|██████████| 21760/21760 [00:38<00:00, 570.68it/s, loss=-0.877625] \n",
            "epoch: 219/399:   0%|          | 0/21760 [00:00<?, ?it/s]"
          ],
          "name": "stderr"
        },
        {
          "output_type": "stream",
          "text": [
            "eval psnr: 29.61\n"
          ],
          "name": "stdout"
        },
        {
          "output_type": "stream",
          "text": [
            "epoch: 219/399: 100%|██████████| 21760/21760 [00:38<00:00, 571.38it/s, loss=-0.877691]\n",
            "epoch: 220/399:   0%|          | 0/21760 [00:00<?, ?it/s]"
          ],
          "name": "stderr"
        },
        {
          "output_type": "stream",
          "text": [
            "eval psnr: 29.53\n"
          ],
          "name": "stdout"
        },
        {
          "output_type": "stream",
          "text": [
            "epoch: 220/399: 100%|██████████| 21760/21760 [00:38<00:00, 567.22it/s, loss=-0.877659] \n",
            "epoch: 221/399:   0%|          | 0/21760 [00:00<?, ?it/s]"
          ],
          "name": "stderr"
        },
        {
          "output_type": "stream",
          "text": [
            "eval psnr: 29.31\n"
          ],
          "name": "stdout"
        },
        {
          "output_type": "stream",
          "text": [
            "epoch: 221/399: 100%|██████████| 21760/21760 [00:38<00:00, 565.03it/s, loss=-0.877707] \n",
            "epoch: 222/399:   0%|          | 0/21760 [00:00<?, ?it/s]"
          ],
          "name": "stderr"
        },
        {
          "output_type": "stream",
          "text": [
            "eval psnr: 29.54\n"
          ],
          "name": "stdout"
        },
        {
          "output_type": "stream",
          "text": [
            "epoch: 222/399: 100%|██████████| 21760/21760 [00:37<00:00, 575.81it/s, loss=-0.877709] \n",
            "epoch: 223/399:   0%|          | 0/21760 [00:00<?, ?it/s]"
          ],
          "name": "stderr"
        },
        {
          "output_type": "stream",
          "text": [
            "eval psnr: 29.57\n"
          ],
          "name": "stdout"
        },
        {
          "output_type": "stream",
          "text": [
            "epoch: 223/399: 100%|██████████| 21760/21760 [00:37<00:00, 581.84it/s, loss=-0.877670]\n",
            "epoch: 224/399:   0%|          | 0/21760 [00:00<?, ?it/s]"
          ],
          "name": "stderr"
        },
        {
          "output_type": "stream",
          "text": [
            "eval psnr: 29.43\n"
          ],
          "name": "stdout"
        },
        {
          "output_type": "stream",
          "text": [
            "epoch: 224/399: 100%|██████████| 21760/21760 [00:37<00:00, 576.83it/s, loss=-0.877736]\n",
            "epoch: 225/399:   0%|          | 0/21760 [00:00<?, ?it/s]"
          ],
          "name": "stderr"
        },
        {
          "output_type": "stream",
          "text": [
            "eval psnr: 29.16\n"
          ],
          "name": "stdout"
        },
        {
          "output_type": "stream",
          "text": [
            "epoch: 225/399: 100%|██████████| 21760/21760 [00:37<00:00, 582.73it/s, loss=-0.877756]\n",
            "epoch: 226/399:   0%|          | 0/21760 [00:00<?, ?it/s]"
          ],
          "name": "stderr"
        },
        {
          "output_type": "stream",
          "text": [
            "eval psnr: 29.69\n"
          ],
          "name": "stdout"
        },
        {
          "output_type": "stream",
          "text": [
            "epoch: 226/399: 100%|██████████| 21760/21760 [00:37<00:00, 586.25it/s, loss=-0.877766] \n",
            "epoch: 227/399:   0%|          | 0/21760 [00:00<?, ?it/s]"
          ],
          "name": "stderr"
        },
        {
          "output_type": "stream",
          "text": [
            "eval psnr: 29.58\n"
          ],
          "name": "stdout"
        },
        {
          "output_type": "stream",
          "text": [
            "epoch: 227/399: 100%|██████████| 21760/21760 [00:37<00:00, 582.12it/s, loss=-0.877785] \n",
            "epoch: 228/399:   0%|          | 0/21760 [00:00<?, ?it/s]"
          ],
          "name": "stderr"
        },
        {
          "output_type": "stream",
          "text": [
            "eval psnr: 29.27\n"
          ],
          "name": "stdout"
        },
        {
          "output_type": "stream",
          "text": [
            "epoch: 228/399: 100%|██████████| 21760/21760 [00:37<00:00, 579.63it/s, loss=-0.877826] \n",
            "epoch: 229/399:   0%|          | 0/21760 [00:00<?, ?it/s]"
          ],
          "name": "stderr"
        },
        {
          "output_type": "stream",
          "text": [
            "eval psnr: 29.47\n"
          ],
          "name": "stdout"
        },
        {
          "output_type": "stream",
          "text": [
            "epoch: 229/399: 100%|██████████| 21760/21760 [00:37<00:00, 583.83it/s, loss=-0.877788] \n",
            "epoch: 230/399:   0%|          | 0/21760 [00:00<?, ?it/s]"
          ],
          "name": "stderr"
        },
        {
          "output_type": "stream",
          "text": [
            "eval psnr: 29.61\n"
          ],
          "name": "stdout"
        },
        {
          "output_type": "stream",
          "text": [
            "epoch: 230/399: 100%|██████████| 21760/21760 [00:37<00:00, 581.59it/s, loss=-0.877821] \n",
            "epoch: 231/399:   0%|          | 0/21760 [00:00<?, ?it/s]"
          ],
          "name": "stderr"
        },
        {
          "output_type": "stream",
          "text": [
            "eval psnr: 29.34\n"
          ],
          "name": "stdout"
        },
        {
          "output_type": "stream",
          "text": [
            "epoch: 231/399: 100%|██████████| 21760/21760 [00:37<00:00, 580.43it/s, loss=-0.877831]\n",
            "epoch: 232/399:   0%|          | 0/21760 [00:00<?, ?it/s]"
          ],
          "name": "stderr"
        },
        {
          "output_type": "stream",
          "text": [
            "eval psnr: 29.34\n"
          ],
          "name": "stdout"
        },
        {
          "output_type": "stream",
          "text": [
            "epoch: 232/399: 100%|██████████| 21760/21760 [00:37<00:00, 582.88it/s, loss=-0.877840] \n",
            "epoch: 233/399:   0%|          | 0/21760 [00:00<?, ?it/s]"
          ],
          "name": "stderr"
        },
        {
          "output_type": "stream",
          "text": [
            "eval psnr: 29.61\n"
          ],
          "name": "stdout"
        },
        {
          "output_type": "stream",
          "text": [
            "epoch: 233/399: 100%|██████████| 21760/21760 [00:37<00:00, 573.68it/s, loss=-0.877851]\n",
            "epoch: 234/399:   0%|          | 0/21760 [00:00<?, ?it/s]"
          ],
          "name": "stderr"
        },
        {
          "output_type": "stream",
          "text": [
            "eval psnr: 29.30\n"
          ],
          "name": "stdout"
        },
        {
          "output_type": "stream",
          "text": [
            "epoch: 234/399: 100%|██████████| 21760/21760 [00:37<00:00, 586.33it/s, loss=-0.877902] \n",
            "epoch: 235/399:   0%|          | 0/21760 [00:00<?, ?it/s]"
          ],
          "name": "stderr"
        },
        {
          "output_type": "stream",
          "text": [
            "eval psnr: 29.28\n"
          ],
          "name": "stdout"
        },
        {
          "output_type": "stream",
          "text": [
            "epoch: 235/399: 100%|██████████| 21760/21760 [00:37<00:00, 583.93it/s, loss=-0.877862] \n",
            "epoch: 236/399:   0%|          | 0/21760 [00:00<?, ?it/s]"
          ],
          "name": "stderr"
        },
        {
          "output_type": "stream",
          "text": [
            "eval psnr: 29.65\n"
          ],
          "name": "stdout"
        },
        {
          "output_type": "stream",
          "text": [
            "epoch: 236/399: 100%|██████████| 21760/21760 [00:37<00:00, 582.05it/s, loss=-0.877903]\n",
            "epoch: 237/399:   0%|          | 0/21760 [00:00<?, ?it/s]"
          ],
          "name": "stderr"
        },
        {
          "output_type": "stream",
          "text": [
            "eval psnr: 29.66\n"
          ],
          "name": "stdout"
        },
        {
          "output_type": "stream",
          "text": [
            "epoch: 237/399: 100%|██████████| 21760/21760 [00:37<00:00, 579.23it/s, loss=-0.877916] \n",
            "epoch: 238/399:   0%|          | 0/21760 [00:00<?, ?it/s]"
          ],
          "name": "stderr"
        },
        {
          "output_type": "stream",
          "text": [
            "eval psnr: 29.68\n"
          ],
          "name": "stdout"
        },
        {
          "output_type": "stream",
          "text": [
            "epoch: 238/399: 100%|██████████| 21760/21760 [00:37<00:00, 582.92it/s, loss=-0.877913] \n",
            "epoch: 239/399:   0%|          | 0/21760 [00:00<?, ?it/s]"
          ],
          "name": "stderr"
        },
        {
          "output_type": "stream",
          "text": [
            "eval psnr: 29.46\n"
          ],
          "name": "stdout"
        },
        {
          "output_type": "stream",
          "text": [
            "epoch: 239/399: 100%|██████████| 21760/21760 [00:37<00:00, 582.53it/s, loss=-0.877872] \n",
            "epoch: 240/399:   0%|          | 0/21760 [00:00<?, ?it/s]"
          ],
          "name": "stderr"
        },
        {
          "output_type": "stream",
          "text": [
            "eval psnr: 29.63\n"
          ],
          "name": "stdout"
        },
        {
          "output_type": "stream",
          "text": [
            "epoch: 240/399: 100%|██████████| 21760/21760 [00:37<00:00, 581.32it/s, loss=-0.877910] \n",
            "epoch: 241/399:   0%|          | 0/21760 [00:00<?, ?it/s]"
          ],
          "name": "stderr"
        },
        {
          "output_type": "stream",
          "text": [
            "eval psnr: 29.48\n"
          ],
          "name": "stdout"
        },
        {
          "output_type": "stream",
          "text": [
            "epoch: 241/399: 100%|██████████| 21760/21760 [00:37<00:00, 575.21it/s, loss=-0.877961]\n",
            "epoch: 242/399:   0%|          | 0/21760 [00:00<?, ?it/s]"
          ],
          "name": "stderr"
        },
        {
          "output_type": "stream",
          "text": [
            "eval psnr: 29.62\n"
          ],
          "name": "stdout"
        },
        {
          "output_type": "stream",
          "text": [
            "epoch: 242/399: 100%|██████████| 21760/21760 [00:37<00:00, 585.63it/s, loss=-0.877943] \n",
            "epoch: 243/399:   0%|          | 0/21760 [00:00<?, ?it/s]"
          ],
          "name": "stderr"
        },
        {
          "output_type": "stream",
          "text": [
            "eval psnr: 29.47\n"
          ],
          "name": "stdout"
        },
        {
          "output_type": "stream",
          "text": [
            "epoch: 243/399: 100%|██████████| 21760/21760 [00:37<00:00, 584.15it/s, loss=-0.877984] \n",
            "epoch: 244/399:   0%|          | 0/21760 [00:00<?, ?it/s]"
          ],
          "name": "stderr"
        },
        {
          "output_type": "stream",
          "text": [
            "eval psnr: 29.60\n"
          ],
          "name": "stdout"
        },
        {
          "output_type": "stream",
          "text": [
            "epoch: 244/399: 100%|██████████| 21760/21760 [00:37<00:00, 583.99it/s, loss=-0.877976] \n",
            "epoch: 245/399:   0%|          | 0/21760 [00:00<?, ?it/s]"
          ],
          "name": "stderr"
        },
        {
          "output_type": "stream",
          "text": [
            "eval psnr: 29.33\n"
          ],
          "name": "stdout"
        },
        {
          "output_type": "stream",
          "text": [
            "epoch: 245/399: 100%|██████████| 21760/21760 [00:37<00:00, 582.33it/s, loss=-0.878029]\n",
            "epoch: 246/399:   0%|          | 0/21760 [00:00<?, ?it/s]"
          ],
          "name": "stderr"
        },
        {
          "output_type": "stream",
          "text": [
            "eval psnr: 29.50\n"
          ],
          "name": "stdout"
        },
        {
          "output_type": "stream",
          "text": [
            "epoch: 246/399: 100%|██████████| 21760/21760 [00:37<00:00, 582.35it/s, loss=-0.878039]\n",
            "epoch: 247/399:   0%|          | 0/21760 [00:00<?, ?it/s]"
          ],
          "name": "stderr"
        },
        {
          "output_type": "stream",
          "text": [
            "eval psnr: 29.75\n"
          ],
          "name": "stdout"
        },
        {
          "output_type": "stream",
          "text": [
            "epoch: 247/399: 100%|██████████| 21760/21760 [00:37<00:00, 586.34it/s, loss=-0.878011]\n",
            "epoch: 248/399:   0%|          | 0/21760 [00:00<?, ?it/s]"
          ],
          "name": "stderr"
        },
        {
          "output_type": "stream",
          "text": [
            "eval psnr: 29.54\n"
          ],
          "name": "stdout"
        },
        {
          "output_type": "stream",
          "text": [
            "epoch: 248/399: 100%|██████████| 21760/21760 [00:37<00:00, 585.22it/s, loss=-0.878050]\n",
            "epoch: 249/399:   0%|          | 0/21760 [00:00<?, ?it/s]"
          ],
          "name": "stderr"
        },
        {
          "output_type": "stream",
          "text": [
            "eval psnr: 29.39\n"
          ],
          "name": "stdout"
        },
        {
          "output_type": "stream",
          "text": [
            "epoch: 249/399: 100%|██████████| 21760/21760 [00:37<00:00, 573.37it/s, loss=-0.878051] \n",
            "epoch: 250/399:   0%|          | 0/21760 [00:00<?, ?it/s]"
          ],
          "name": "stderr"
        },
        {
          "output_type": "stream",
          "text": [
            "eval psnr: 29.28\n"
          ],
          "name": "stdout"
        },
        {
          "output_type": "stream",
          "text": [
            "epoch: 250/399: 100%|██████████| 21760/21760 [00:37<00:00, 585.44it/s, loss=-0.878061] \n",
            "epoch: 251/399:   0%|          | 0/21760 [00:00<?, ?it/s]"
          ],
          "name": "stderr"
        },
        {
          "output_type": "stream",
          "text": [
            "eval psnr: 29.47\n"
          ],
          "name": "stdout"
        },
        {
          "output_type": "stream",
          "text": [
            "epoch: 251/399: 100%|██████████| 21760/21760 [00:37<00:00, 582.13it/s, loss=-0.878010]\n",
            "epoch: 252/399:   0%|          | 0/21760 [00:00<?, ?it/s]"
          ],
          "name": "stderr"
        },
        {
          "output_type": "stream",
          "text": [
            "eval psnr: 29.44\n"
          ],
          "name": "stdout"
        },
        {
          "output_type": "stream",
          "text": [
            "epoch: 252/399: 100%|██████████| 21760/21760 [00:37<00:00, 581.85it/s, loss=-0.878074]\n",
            "epoch: 253/399:   0%|          | 0/21760 [00:00<?, ?it/s]"
          ],
          "name": "stderr"
        },
        {
          "output_type": "stream",
          "text": [
            "eval psnr: 29.47\n"
          ],
          "name": "stdout"
        },
        {
          "output_type": "stream",
          "text": [
            "epoch: 253/399: 100%|██████████| 21760/21760 [00:37<00:00, 587.65it/s, loss=-0.878107] \n",
            "epoch: 254/399:   0%|          | 0/21760 [00:00<?, ?it/s]"
          ],
          "name": "stderr"
        },
        {
          "output_type": "stream",
          "text": [
            "eval psnr: 29.71\n"
          ],
          "name": "stdout"
        },
        {
          "output_type": "stream",
          "text": [
            "epoch: 254/399: 100%|██████████| 21760/21760 [00:37<00:00, 584.46it/s, loss=-0.878128] \n",
            "epoch: 255/399:   0%|          | 0/21760 [00:00<?, ?it/s]"
          ],
          "name": "stderr"
        },
        {
          "output_type": "stream",
          "text": [
            "eval psnr: 29.62\n"
          ],
          "name": "stdout"
        },
        {
          "output_type": "stream",
          "text": [
            "epoch: 255/399: 100%|██████████| 21760/21760 [00:37<00:00, 585.62it/s, loss=-0.878125]\n",
            "epoch: 256/399:   0%|          | 0/21760 [00:00<?, ?it/s]"
          ],
          "name": "stderr"
        },
        {
          "output_type": "stream",
          "text": [
            "eval psnr: 29.45\n"
          ],
          "name": "stdout"
        },
        {
          "output_type": "stream",
          "text": [
            "epoch: 256/399: 100%|██████████| 21760/21760 [00:37<00:00, 582.93it/s, loss=-0.878160] \n",
            "epoch: 257/399:   0%|          | 0/21760 [00:00<?, ?it/s]"
          ],
          "name": "stderr"
        },
        {
          "output_type": "stream",
          "text": [
            "eval psnr: 29.66\n"
          ],
          "name": "stdout"
        },
        {
          "output_type": "stream",
          "text": [
            "epoch: 257/399: 100%|██████████| 21760/21760 [00:37<00:00, 583.96it/s, loss=-0.878128] \n",
            "epoch: 258/399:   0%|          | 0/21760 [00:00<?, ?it/s]"
          ],
          "name": "stderr"
        },
        {
          "output_type": "stream",
          "text": [
            "eval psnr: 29.66\n"
          ],
          "name": "stdout"
        },
        {
          "output_type": "stream",
          "text": [
            "epoch: 258/399: 100%|██████████| 21760/21760 [00:37<00:00, 576.33it/s, loss=-0.878125]\n",
            "epoch: 259/399:   0%|          | 0/21760 [00:00<?, ?it/s]"
          ],
          "name": "stderr"
        },
        {
          "output_type": "stream",
          "text": [
            "eval psnr: 29.49\n"
          ],
          "name": "stdout"
        },
        {
          "output_type": "stream",
          "text": [
            "epoch: 259/399: 100%|██████████| 21760/21760 [00:37<00:00, 578.71it/s, loss=-0.878186] \n",
            "epoch: 260/399:   0%|          | 0/21760 [00:00<?, ?it/s]"
          ],
          "name": "stderr"
        },
        {
          "output_type": "stream",
          "text": [
            "eval psnr: 29.33\n"
          ],
          "name": "stdout"
        },
        {
          "output_type": "stream",
          "text": [
            "epoch: 260/399: 100%|██████████| 21760/21760 [00:37<00:00, 579.82it/s, loss=-0.878154] \n",
            "epoch: 261/399:   0%|          | 0/21760 [00:00<?, ?it/s]"
          ],
          "name": "stderr"
        },
        {
          "output_type": "stream",
          "text": [
            "eval psnr: 29.40\n"
          ],
          "name": "stdout"
        },
        {
          "output_type": "stream",
          "text": [
            "epoch: 261/399: 100%|██████████| 21760/21760 [00:37<00:00, 579.63it/s, loss=-0.878212] \n",
            "epoch: 262/399:   0%|          | 0/21760 [00:00<?, ?it/s]"
          ],
          "name": "stderr"
        },
        {
          "output_type": "stream",
          "text": [
            "eval psnr: 29.56\n"
          ],
          "name": "stdout"
        },
        {
          "output_type": "stream",
          "text": [
            "epoch: 262/399: 100%|██████████| 21760/21760 [00:37<00:00, 577.13it/s, loss=-0.878214]\n",
            "epoch: 263/399:   0%|          | 0/21760 [00:00<?, ?it/s]"
          ],
          "name": "stderr"
        },
        {
          "output_type": "stream",
          "text": [
            "eval psnr: 29.39\n"
          ],
          "name": "stdout"
        },
        {
          "output_type": "stream",
          "text": [
            "epoch: 263/399: 100%|██████████| 21760/21760 [00:37<00:00, 580.80it/s, loss=-0.878214] \n",
            "epoch: 264/399:   0%|          | 0/21760 [00:00<?, ?it/s]"
          ],
          "name": "stderr"
        },
        {
          "output_type": "stream",
          "text": [
            "eval psnr: 29.60\n"
          ],
          "name": "stdout"
        },
        {
          "output_type": "stream",
          "text": [
            "epoch: 264/399: 100%|██████████| 21760/21760 [00:37<00:00, 580.32it/s, loss=-0.878218]\n",
            "epoch: 265/399:   0%|          | 0/21760 [00:00<?, ?it/s]"
          ],
          "name": "stderr"
        },
        {
          "output_type": "stream",
          "text": [
            "eval psnr: 29.68\n"
          ],
          "name": "stdout"
        },
        {
          "output_type": "stream",
          "text": [
            "epoch: 265/399: 100%|██████████| 21760/21760 [00:37<00:00, 576.06it/s, loss=-0.878230] \n",
            "epoch: 266/399:   0%|          | 0/21760 [00:00<?, ?it/s]"
          ],
          "name": "stderr"
        },
        {
          "output_type": "stream",
          "text": [
            "eval psnr: 29.41\n"
          ],
          "name": "stdout"
        },
        {
          "output_type": "stream",
          "text": [
            "epoch: 266/399: 100%|██████████| 21760/21760 [00:37<00:00, 574.05it/s, loss=-0.878243] \n",
            "epoch: 267/399:   0%|          | 0/21760 [00:00<?, ?it/s]"
          ],
          "name": "stderr"
        },
        {
          "output_type": "stream",
          "text": [
            "eval psnr: 29.61\n"
          ],
          "name": "stdout"
        },
        {
          "output_type": "stream",
          "text": [
            "epoch: 267/399: 100%|██████████| 21760/21760 [00:37<00:00, 583.44it/s, loss=-0.878342] \n",
            "epoch: 268/399:   0%|          | 0/21760 [00:00<?, ?it/s]"
          ],
          "name": "stderr"
        },
        {
          "output_type": "stream",
          "text": [
            "eval psnr: 29.55\n"
          ],
          "name": "stdout"
        },
        {
          "output_type": "stream",
          "text": [
            "epoch: 268/399: 100%|██████████| 21760/21760 [00:37<00:00, 580.02it/s, loss=-0.878260] \n",
            "epoch: 269/399:   0%|          | 0/21760 [00:00<?, ?it/s]"
          ],
          "name": "stderr"
        },
        {
          "output_type": "stream",
          "text": [
            "eval psnr: 29.42\n"
          ],
          "name": "stdout"
        },
        {
          "output_type": "stream",
          "text": [
            "epoch: 269/399: 100%|██████████| 21760/21760 [00:37<00:00, 580.13it/s, loss=-0.878243] \n",
            "epoch: 270/399:   0%|          | 0/21760 [00:00<?, ?it/s]"
          ],
          "name": "stderr"
        },
        {
          "output_type": "stream",
          "text": [
            "eval psnr: 29.52\n"
          ],
          "name": "stdout"
        },
        {
          "output_type": "stream",
          "text": [
            "epoch: 270/399: 100%|██████████| 21760/21760 [00:37<00:00, 574.81it/s, loss=-0.878247]\n",
            "epoch: 271/399:   0%|          | 0/21760 [00:00<?, ?it/s]"
          ],
          "name": "stderr"
        },
        {
          "output_type": "stream",
          "text": [
            "eval psnr: 29.52\n"
          ],
          "name": "stdout"
        },
        {
          "output_type": "stream",
          "text": [
            "epoch: 271/399: 100%|██████████| 21760/21760 [00:37<00:00, 578.30it/s, loss=-0.878279] \n",
            "epoch: 272/399:   0%|          | 0/21760 [00:00<?, ?it/s]"
          ],
          "name": "stderr"
        },
        {
          "output_type": "stream",
          "text": [
            "eval psnr: 29.36\n"
          ],
          "name": "stdout"
        },
        {
          "output_type": "stream",
          "text": [
            "epoch: 272/399: 100%|██████████| 21760/21760 [00:37<00:00, 581.40it/s, loss=-0.878327] \n",
            "epoch: 273/399:   0%|          | 0/21760 [00:00<?, ?it/s]"
          ],
          "name": "stderr"
        },
        {
          "output_type": "stream",
          "text": [
            "eval psnr: 29.32\n"
          ],
          "name": "stdout"
        },
        {
          "output_type": "stream",
          "text": [
            "epoch: 273/399: 100%|██████████| 21760/21760 [00:37<00:00, 578.48it/s, loss=-0.878322]\n",
            "epoch: 274/399:   0%|          | 0/21760 [00:00<?, ?it/s]"
          ],
          "name": "stderr"
        },
        {
          "output_type": "stream",
          "text": [
            "eval psnr: 29.50\n"
          ],
          "name": "stdout"
        },
        {
          "output_type": "stream",
          "text": [
            "epoch: 274/399: 100%|██████████| 21760/21760 [00:37<00:00, 574.30it/s, loss=-0.878371] \n",
            "epoch: 275/399:   0%|          | 0/21760 [00:00<?, ?it/s]"
          ],
          "name": "stderr"
        },
        {
          "output_type": "stream",
          "text": [
            "eval psnr: 29.59\n"
          ],
          "name": "stdout"
        },
        {
          "output_type": "stream",
          "text": [
            "epoch: 275/399: 100%|██████████| 21760/21760 [00:37<00:00, 585.75it/s, loss=-0.878334] \n",
            "epoch: 276/399:   0%|          | 0/21760 [00:00<?, ?it/s]"
          ],
          "name": "stderr"
        },
        {
          "output_type": "stream",
          "text": [
            "eval psnr: 29.56\n"
          ],
          "name": "stdout"
        },
        {
          "output_type": "stream",
          "text": [
            "epoch: 276/399: 100%|██████████| 21760/21760 [00:37<00:00, 581.24it/s, loss=-0.878375]\n",
            "epoch: 277/399:   0%|          | 0/21760 [00:00<?, ?it/s]"
          ],
          "name": "stderr"
        },
        {
          "output_type": "stream",
          "text": [
            "eval psnr: 29.63\n"
          ],
          "name": "stdout"
        },
        {
          "output_type": "stream",
          "text": [
            "epoch: 277/399: 100%|██████████| 21760/21760 [00:37<00:00, 581.30it/s, loss=-0.878322] \n",
            "epoch: 278/399:   0%|          | 0/21760 [00:00<?, ?it/s]"
          ],
          "name": "stderr"
        },
        {
          "output_type": "stream",
          "text": [
            "eval psnr: 29.66\n"
          ],
          "name": "stdout"
        },
        {
          "output_type": "stream",
          "text": [
            "epoch: 278/399: 100%|██████████| 21760/21760 [00:37<00:00, 585.54it/s, loss=-0.878411]\n",
            "epoch: 279/399:   0%|          | 0/21760 [00:00<?, ?it/s]"
          ],
          "name": "stderr"
        },
        {
          "output_type": "stream",
          "text": [
            "eval psnr: 29.58\n"
          ],
          "name": "stdout"
        },
        {
          "output_type": "stream",
          "text": [
            "epoch: 279/399: 100%|██████████| 21760/21760 [00:37<00:00, 582.60it/s, loss=-0.878379]\n",
            "epoch: 280/399:   0%|          | 0/21760 [00:00<?, ?it/s]"
          ],
          "name": "stderr"
        },
        {
          "output_type": "stream",
          "text": [
            "eval psnr: 29.55\n"
          ],
          "name": "stdout"
        },
        {
          "output_type": "stream",
          "text": [
            "epoch: 280/399: 100%|██████████| 21760/21760 [00:37<00:00, 582.52it/s, loss=-0.878386] \n",
            "epoch: 281/399:   0%|          | 0/21760 [00:00<?, ?it/s]"
          ],
          "name": "stderr"
        },
        {
          "output_type": "stream",
          "text": [
            "eval psnr: 28.94\n"
          ],
          "name": "stdout"
        },
        {
          "output_type": "stream",
          "text": [
            "epoch: 281/399: 100%|██████████| 21760/21760 [00:37<00:00, 576.73it/s, loss=-0.878351]\n",
            "epoch: 282/399:   0%|          | 0/21760 [00:00<?, ?it/s]"
          ],
          "name": "stderr"
        },
        {
          "output_type": "stream",
          "text": [
            "eval psnr: 29.25\n"
          ],
          "name": "stdout"
        },
        {
          "output_type": "stream",
          "text": [
            "epoch: 282/399: 100%|██████████| 21760/21760 [00:37<00:00, 577.31it/s, loss=-0.878392]\n",
            "epoch: 283/399:   0%|          | 0/21760 [00:00<?, ?it/s]"
          ],
          "name": "stderr"
        },
        {
          "output_type": "stream",
          "text": [
            "eval psnr: 29.52\n"
          ],
          "name": "stdout"
        },
        {
          "output_type": "stream",
          "text": [
            "epoch: 283/399: 100%|██████████| 21760/21760 [00:37<00:00, 580.87it/s, loss=-0.878401]\n",
            "epoch: 284/399:   0%|          | 0/21760 [00:00<?, ?it/s]"
          ],
          "name": "stderr"
        },
        {
          "output_type": "stream",
          "text": [
            "eval psnr: 29.46\n"
          ],
          "name": "stdout"
        },
        {
          "output_type": "stream",
          "text": [
            "epoch: 284/399: 100%|██████████| 21760/21760 [00:37<00:00, 576.23it/s, loss=-0.878431]\n",
            "epoch: 285/399:   0%|          | 0/21760 [00:00<?, ?it/s]"
          ],
          "name": "stderr"
        },
        {
          "output_type": "stream",
          "text": [
            "eval psnr: 29.42\n"
          ],
          "name": "stdout"
        },
        {
          "output_type": "stream",
          "text": [
            "epoch: 285/399: 100%|██████████| 21760/21760 [00:37<00:00, 582.82it/s, loss=-0.878413] \n",
            "epoch: 286/399:   0%|          | 0/21760 [00:00<?, ?it/s]"
          ],
          "name": "stderr"
        },
        {
          "output_type": "stream",
          "text": [
            "eval psnr: 29.56\n"
          ],
          "name": "stdout"
        },
        {
          "output_type": "stream",
          "text": [
            "epoch: 286/399: 100%|██████████| 21760/21760 [00:37<00:00, 578.69it/s, loss=-0.878465]\n",
            "epoch: 287/399:   0%|          | 0/21760 [00:00<?, ?it/s]"
          ],
          "name": "stderr"
        },
        {
          "output_type": "stream",
          "text": [
            "eval psnr: 29.55\n"
          ],
          "name": "stdout"
        },
        {
          "output_type": "stream",
          "text": [
            "epoch: 287/399: 100%|██████████| 21760/21760 [00:38<00:00, 571.58it/s, loss=-0.878434] \n",
            "epoch: 288/399:   0%|          | 0/21760 [00:00<?, ?it/s]"
          ],
          "name": "stderr"
        },
        {
          "output_type": "stream",
          "text": [
            "eval psnr: 29.10\n"
          ],
          "name": "stdout"
        },
        {
          "output_type": "stream",
          "text": [
            "epoch: 288/399: 100%|██████████| 21760/21760 [00:37<00:00, 578.95it/s, loss=-0.878442]\n",
            "epoch: 289/399:   0%|          | 0/21760 [00:00<?, ?it/s]"
          ],
          "name": "stderr"
        },
        {
          "output_type": "stream",
          "text": [
            "eval psnr: 29.59\n"
          ],
          "name": "stdout"
        },
        {
          "output_type": "stream",
          "text": [
            "epoch: 289/399: 100%|██████████| 21760/21760 [00:38<00:00, 572.06it/s, loss=-0.878489] \n",
            "epoch: 290/399:   0%|          | 0/21760 [00:00<?, ?it/s]"
          ],
          "name": "stderr"
        },
        {
          "output_type": "stream",
          "text": [
            "eval psnr: 29.15\n"
          ],
          "name": "stdout"
        },
        {
          "output_type": "stream",
          "text": [
            "epoch: 290/399: 100%|██████████| 21760/21760 [00:37<00:00, 580.86it/s, loss=-0.878478] \n",
            "epoch: 291/399:   0%|          | 0/21760 [00:00<?, ?it/s]"
          ],
          "name": "stderr"
        },
        {
          "output_type": "stream",
          "text": [
            "eval psnr: 29.51\n"
          ],
          "name": "stdout"
        },
        {
          "output_type": "stream",
          "text": [
            "epoch: 291/399: 100%|██████████| 21760/21760 [00:37<00:00, 573.42it/s, loss=-0.878563] \n",
            "epoch: 292/399:   0%|          | 0/21760 [00:00<?, ?it/s]"
          ],
          "name": "stderr"
        },
        {
          "output_type": "stream",
          "text": [
            "eval psnr: 29.08\n"
          ],
          "name": "stdout"
        },
        {
          "output_type": "stream",
          "text": [
            "epoch: 292/399: 100%|██████████| 21760/21760 [00:37<00:00, 577.11it/s, loss=-0.878538]\n",
            "epoch: 293/399:   0%|          | 0/21760 [00:00<?, ?it/s]"
          ],
          "name": "stderr"
        },
        {
          "output_type": "stream",
          "text": [
            "eval psnr: 29.41\n"
          ],
          "name": "stdout"
        },
        {
          "output_type": "stream",
          "text": [
            "epoch: 293/399: 100%|██████████| 21760/21760 [00:37<00:00, 580.37it/s, loss=-0.878517] \n",
            "epoch: 294/399:   0%|          | 0/21760 [00:00<?, ?it/s]"
          ],
          "name": "stderr"
        },
        {
          "output_type": "stream",
          "text": [
            "eval psnr: 29.79\n"
          ],
          "name": "stdout"
        },
        {
          "output_type": "stream",
          "text": [
            "epoch: 294/399: 100%|██████████| 21760/21760 [00:37<00:00, 577.39it/s, loss=-0.878503]\n",
            "epoch: 295/399:   0%|          | 0/21760 [00:00<?, ?it/s]"
          ],
          "name": "stderr"
        },
        {
          "output_type": "stream",
          "text": [
            "eval psnr: 29.41\n"
          ],
          "name": "stdout"
        },
        {
          "output_type": "stream",
          "text": [
            "epoch: 295/399: 100%|██████████| 21760/21760 [00:37<00:00, 581.39it/s, loss=-0.878541] \n",
            "epoch: 296/399:   0%|          | 0/21760 [00:00<?, ?it/s]"
          ],
          "name": "stderr"
        },
        {
          "output_type": "stream",
          "text": [
            "eval psnr: 29.59\n"
          ],
          "name": "stdout"
        },
        {
          "output_type": "stream",
          "text": [
            "epoch: 296/399: 100%|██████████| 21760/21760 [00:37<00:00, 587.10it/s, loss=-0.878579] \n",
            "epoch: 297/399:   0%|          | 0/21760 [00:00<?, ?it/s]"
          ],
          "name": "stderr"
        },
        {
          "output_type": "stream",
          "text": [
            "eval psnr: 29.45\n"
          ],
          "name": "stdout"
        },
        {
          "output_type": "stream",
          "text": [
            "epoch: 297/399: 100%|██████████| 21760/21760 [00:37<00:00, 578.88it/s, loss=-0.878502] \n",
            "epoch: 298/399:   0%|          | 0/21760 [00:00<?, ?it/s]"
          ],
          "name": "stderr"
        },
        {
          "output_type": "stream",
          "text": [
            "eval psnr: 29.43\n"
          ],
          "name": "stdout"
        },
        {
          "output_type": "stream",
          "text": [
            "epoch: 298/399: 100%|██████████| 21760/21760 [00:37<00:00, 587.26it/s, loss=-0.878540] \n",
            "epoch: 299/399:   0%|          | 0/21760 [00:00<?, ?it/s]"
          ],
          "name": "stderr"
        },
        {
          "output_type": "stream",
          "text": [
            "eval psnr: 29.69\n"
          ],
          "name": "stdout"
        },
        {
          "output_type": "stream",
          "text": [
            "epoch: 299/399: 100%|██████████| 21760/21760 [00:37<00:00, 581.79it/s, loss=-0.878625] \n",
            "epoch: 300/399:   0%|          | 0/21760 [00:00<?, ?it/s]"
          ],
          "name": "stderr"
        },
        {
          "output_type": "stream",
          "text": [
            "eval psnr: 29.38\n"
          ],
          "name": "stdout"
        },
        {
          "output_type": "stream",
          "text": [
            "epoch: 300/399: 100%|██████████| 21760/21760 [00:37<00:00, 582.92it/s, loss=-0.878524] \n",
            "epoch: 301/399:   0%|          | 0/21760 [00:00<?, ?it/s]"
          ],
          "name": "stderr"
        },
        {
          "output_type": "stream",
          "text": [
            "eval psnr: 29.24\n"
          ],
          "name": "stdout"
        },
        {
          "output_type": "stream",
          "text": [
            "epoch: 301/399: 100%|██████████| 21760/21760 [00:37<00:00, 587.86it/s, loss=-0.878593] \n",
            "epoch: 302/399:   0%|          | 0/21760 [00:00<?, ?it/s]"
          ],
          "name": "stderr"
        },
        {
          "output_type": "stream",
          "text": [
            "eval psnr: 29.50\n"
          ],
          "name": "stdout"
        },
        {
          "output_type": "stream",
          "text": [
            "epoch: 302/399: 100%|██████████| 21760/21760 [00:37<00:00, 585.94it/s, loss=-0.878662] \n",
            "epoch: 303/399:   0%|          | 0/21760 [00:00<?, ?it/s]"
          ],
          "name": "stderr"
        },
        {
          "output_type": "stream",
          "text": [
            "eval psnr: 29.37\n"
          ],
          "name": "stdout"
        },
        {
          "output_type": "stream",
          "text": [
            "epoch: 303/399: 100%|██████████| 21760/21760 [00:37<00:00, 584.71it/s, loss=-0.878594] \n",
            "epoch: 304/399:   0%|          | 0/21760 [00:00<?, ?it/s]"
          ],
          "name": "stderr"
        },
        {
          "output_type": "stream",
          "text": [
            "eval psnr: 29.60\n"
          ],
          "name": "stdout"
        },
        {
          "output_type": "stream",
          "text": [
            "epoch: 304/399: 100%|██████████| 21760/21760 [00:37<00:00, 586.73it/s, loss=-0.878661]\n",
            "epoch: 305/399:   0%|          | 0/21760 [00:00<?, ?it/s]"
          ],
          "name": "stderr"
        },
        {
          "output_type": "stream",
          "text": [
            "eval psnr: 29.50\n"
          ],
          "name": "stdout"
        },
        {
          "output_type": "stream",
          "text": [
            "epoch: 305/399: 100%|██████████| 21760/21760 [00:37<00:00, 586.36it/s, loss=-0.878657] \n",
            "epoch: 306/399:   0%|          | 0/21760 [00:00<?, ?it/s]"
          ],
          "name": "stderr"
        },
        {
          "output_type": "stream",
          "text": [
            "eval psnr: 29.69\n"
          ],
          "name": "stdout"
        },
        {
          "output_type": "stream",
          "text": [
            "epoch: 306/399: 100%|██████████| 21760/21760 [00:37<00:00, 584.30it/s, loss=-0.878644]\n",
            "epoch: 307/399:   0%|          | 0/21760 [00:00<?, ?it/s]"
          ],
          "name": "stderr"
        },
        {
          "output_type": "stream",
          "text": [
            "eval psnr: 29.64\n"
          ],
          "name": "stdout"
        },
        {
          "output_type": "stream",
          "text": [
            "epoch: 307/399: 100%|██████████| 21760/21760 [00:37<00:00, 579.41it/s, loss=-0.878700]\n",
            "epoch: 308/399:   0%|          | 0/21760 [00:00<?, ?it/s]"
          ],
          "name": "stderr"
        },
        {
          "output_type": "stream",
          "text": [
            "eval psnr: 29.52\n"
          ],
          "name": "stdout"
        },
        {
          "output_type": "stream",
          "text": [
            "epoch: 308/399: 100%|██████████| 21760/21760 [00:36<00:00, 589.05it/s, loss=-0.878657] \n",
            "epoch: 309/399:   0%|          | 0/21760 [00:00<?, ?it/s]"
          ],
          "name": "stderr"
        },
        {
          "output_type": "stream",
          "text": [
            "eval psnr: 29.67\n"
          ],
          "name": "stdout"
        },
        {
          "output_type": "stream",
          "text": [
            "epoch: 309/399: 100%|██████████| 21760/21760 [00:36<00:00, 589.85it/s, loss=-0.878686]\n",
            "epoch: 310/399:   0%|          | 0/21760 [00:00<?, ?it/s]"
          ],
          "name": "stderr"
        },
        {
          "output_type": "stream",
          "text": [
            "eval psnr: 29.66\n"
          ],
          "name": "stdout"
        },
        {
          "output_type": "stream",
          "text": [
            "epoch: 310/399: 100%|██████████| 21760/21760 [00:37<00:00, 587.62it/s, loss=-0.878649] \n",
            "epoch: 311/399:   0%|          | 0/21760 [00:00<?, ?it/s]"
          ],
          "name": "stderr"
        },
        {
          "output_type": "stream",
          "text": [
            "eval psnr: 29.25\n"
          ],
          "name": "stdout"
        },
        {
          "output_type": "stream",
          "text": [
            "epoch: 311/399: 100%|██████████| 21760/21760 [00:37<00:00, 586.38it/s, loss=-0.878707] \n",
            "epoch: 312/399:   0%|          | 0/21760 [00:00<?, ?it/s]"
          ],
          "name": "stderr"
        },
        {
          "output_type": "stream",
          "text": [
            "eval psnr: 29.37\n"
          ],
          "name": "stdout"
        },
        {
          "output_type": "stream",
          "text": [
            "epoch: 312/399: 100%|██████████| 21760/21760 [00:37<00:00, 584.09it/s, loss=-0.878744] \n",
            "epoch: 313/399:   0%|          | 0/21760 [00:00<?, ?it/s]"
          ],
          "name": "stderr"
        },
        {
          "output_type": "stream",
          "text": [
            "eval psnr: 29.61\n"
          ],
          "name": "stdout"
        },
        {
          "output_type": "stream",
          "text": [
            "epoch: 313/399: 100%|██████████| 21760/21760 [00:37<00:00, 582.91it/s, loss=-0.878770]\n",
            "epoch: 314/399:   0%|          | 0/21760 [00:00<?, ?it/s]"
          ],
          "name": "stderr"
        },
        {
          "output_type": "stream",
          "text": [
            "eval psnr: 29.77\n"
          ],
          "name": "stdout"
        },
        {
          "output_type": "stream",
          "text": [
            "epoch: 314/399: 100%|██████████| 21760/21760 [00:37<00:00, 588.00it/s, loss=-0.878676] \n",
            "epoch: 315/399:   0%|          | 0/21760 [00:00<?, ?it/s]"
          ],
          "name": "stderr"
        },
        {
          "output_type": "stream",
          "text": [
            "eval psnr: 29.57\n"
          ],
          "name": "stdout"
        },
        {
          "output_type": "stream",
          "text": [
            "epoch: 315/399: 100%|██████████| 21760/21760 [00:37<00:00, 583.46it/s, loss=-0.878676]\n",
            "epoch: 316/399:   0%|          | 0/21760 [00:00<?, ?it/s]"
          ],
          "name": "stderr"
        },
        {
          "output_type": "stream",
          "text": [
            "eval psnr: 29.25\n"
          ],
          "name": "stdout"
        },
        {
          "output_type": "stream",
          "text": [
            "epoch: 316/399: 100%|██████████| 21760/21760 [00:37<00:00, 578.97it/s, loss=-0.878777] \n",
            "epoch: 317/399:   0%|          | 0/21760 [00:00<?, ?it/s]"
          ],
          "name": "stderr"
        },
        {
          "output_type": "stream",
          "text": [
            "eval psnr: 29.45\n"
          ],
          "name": "stdout"
        },
        {
          "output_type": "stream",
          "text": [
            "epoch: 317/399: 100%|██████████| 21760/21760 [00:37<00:00, 585.37it/s, loss=-0.878755]\n",
            "epoch: 318/399:   0%|          | 0/21760 [00:00<?, ?it/s]"
          ],
          "name": "stderr"
        },
        {
          "output_type": "stream",
          "text": [
            "eval psnr: 29.66\n"
          ],
          "name": "stdout"
        },
        {
          "output_type": "stream",
          "text": [
            "epoch: 318/399: 100%|██████████| 21760/21760 [00:37<00:00, 587.92it/s, loss=-0.878818] \n",
            "epoch: 319/399:   0%|          | 0/21760 [00:00<?, ?it/s]"
          ],
          "name": "stderr"
        },
        {
          "output_type": "stream",
          "text": [
            "eval psnr: 29.80\n"
          ],
          "name": "stdout"
        },
        {
          "output_type": "stream",
          "text": [
            "epoch: 319/399: 100%|██████████| 21760/21760 [00:37<00:00, 584.56it/s, loss=-0.878764]\n",
            "epoch: 320/399:   0%|          | 0/21760 [00:00<?, ?it/s]"
          ],
          "name": "stderr"
        },
        {
          "output_type": "stream",
          "text": [
            "eval psnr: 29.13\n"
          ],
          "name": "stdout"
        },
        {
          "output_type": "stream",
          "text": [
            "epoch: 320/399: 100%|██████████| 21760/21760 [00:37<00:00, 584.91it/s, loss=-0.878757] \n",
            "epoch: 321/399:   0%|          | 0/21760 [00:00<?, ?it/s]"
          ],
          "name": "stderr"
        },
        {
          "output_type": "stream",
          "text": [
            "eval psnr: 29.51\n"
          ],
          "name": "stdout"
        },
        {
          "output_type": "stream",
          "text": [
            "epoch: 321/399: 100%|██████████| 21760/21760 [00:37<00:00, 582.78it/s, loss=-0.878775] \n",
            "epoch: 322/399:   0%|          | 0/21760 [00:00<?, ?it/s]"
          ],
          "name": "stderr"
        },
        {
          "output_type": "stream",
          "text": [
            "eval psnr: 29.22\n"
          ],
          "name": "stdout"
        },
        {
          "output_type": "stream",
          "text": [
            "epoch: 322/399: 100%|██████████| 21760/21760 [00:36<00:00, 589.01it/s, loss=-0.878777]\n",
            "epoch: 323/399:   0%|          | 0/21760 [00:00<?, ?it/s]"
          ],
          "name": "stderr"
        },
        {
          "output_type": "stream",
          "text": [
            "eval psnr: 29.41\n"
          ],
          "name": "stdout"
        },
        {
          "output_type": "stream",
          "text": [
            "epoch: 323/399: 100%|██████████| 21760/21760 [00:37<00:00, 586.85it/s, loss=-0.878833]\n",
            "epoch: 324/399:   0%|          | 0/21760 [00:00<?, ?it/s]"
          ],
          "name": "stderr"
        },
        {
          "output_type": "stream",
          "text": [
            "eval psnr: 29.30\n"
          ],
          "name": "stdout"
        },
        {
          "output_type": "stream",
          "text": [
            "epoch: 324/399: 100%|██████████| 21760/21760 [00:37<00:00, 583.72it/s, loss=-0.878884] \n",
            "epoch: 325/399:   0%|          | 0/21760 [00:00<?, ?it/s]"
          ],
          "name": "stderr"
        },
        {
          "output_type": "stream",
          "text": [
            "eval psnr: 29.36\n"
          ],
          "name": "stdout"
        },
        {
          "output_type": "stream",
          "text": [
            "epoch: 325/399: 100%|██████████| 21760/21760 [00:36<00:00, 590.89it/s, loss=-0.878822]\n",
            "epoch: 326/399:   0%|          | 0/21760 [00:00<?, ?it/s]"
          ],
          "name": "stderr"
        },
        {
          "output_type": "stream",
          "text": [
            "eval psnr: 29.48\n"
          ],
          "name": "stdout"
        },
        {
          "output_type": "stream",
          "text": [
            "epoch: 326/399: 100%|██████████| 21760/21760 [00:36<00:00, 589.10it/s, loss=-0.878842]\n",
            "epoch: 327/399:   0%|          | 0/21760 [00:00<?, ?it/s]"
          ],
          "name": "stderr"
        },
        {
          "output_type": "stream",
          "text": [
            "eval psnr: 29.58\n"
          ],
          "name": "stdout"
        },
        {
          "output_type": "stream",
          "text": [
            "epoch: 327/399: 100%|██████████| 21760/21760 [00:37<00:00, 585.13it/s, loss=-0.878844]\n",
            "epoch: 328/399:   0%|          | 0/21760 [00:00<?, ?it/s]"
          ],
          "name": "stderr"
        },
        {
          "output_type": "stream",
          "text": [
            "eval psnr: 29.45\n"
          ],
          "name": "stdout"
        },
        {
          "output_type": "stream",
          "text": [
            "epoch: 328/399: 100%|██████████| 21760/21760 [00:37<00:00, 587.00it/s, loss=-0.878837]\n",
            "epoch: 329/399:   0%|          | 0/21760 [00:00<?, ?it/s]"
          ],
          "name": "stderr"
        },
        {
          "output_type": "stream",
          "text": [
            "eval psnr: 29.61\n"
          ],
          "name": "stdout"
        },
        {
          "output_type": "stream",
          "text": [
            "epoch: 329/399: 100%|██████████| 21760/21760 [00:37<00:00, 582.14it/s, loss=-0.878832]\n",
            "epoch: 330/399:   0%|          | 0/21760 [00:00<?, ?it/s]"
          ],
          "name": "stderr"
        },
        {
          "output_type": "stream",
          "text": [
            "eval psnr: 29.69\n"
          ],
          "name": "stdout"
        },
        {
          "output_type": "stream",
          "text": [
            "epoch: 330/399: 100%|██████████| 21760/21760 [00:36<00:00, 589.57it/s, loss=-0.878911]\n",
            "epoch: 331/399:   0%|          | 0/21760 [00:00<?, ?it/s]"
          ],
          "name": "stderr"
        },
        {
          "output_type": "stream",
          "text": [
            "eval psnr: 29.13\n"
          ],
          "name": "stdout"
        },
        {
          "output_type": "stream",
          "text": [
            "epoch: 331/399: 100%|██████████| 21760/21760 [00:36<00:00, 589.68it/s, loss=-0.878901] \n",
            "epoch: 332/399:   0%|          | 0/21760 [00:00<?, ?it/s]"
          ],
          "name": "stderr"
        },
        {
          "output_type": "stream",
          "text": [
            "eval psnr: 29.51\n"
          ],
          "name": "stdout"
        },
        {
          "output_type": "stream",
          "text": [
            "epoch: 332/399: 100%|██████████| 21760/21760 [00:37<00:00, 581.88it/s, loss=-0.878891] \n",
            "epoch: 333/399:   0%|          | 0/21760 [00:00<?, ?it/s]"
          ],
          "name": "stderr"
        },
        {
          "output_type": "stream",
          "text": [
            "eval psnr: 29.48\n"
          ],
          "name": "stdout"
        },
        {
          "output_type": "stream",
          "text": [
            "epoch: 333/399: 100%|██████████| 21760/21760 [00:36<00:00, 588.73it/s, loss=-0.878924]\n",
            "epoch: 334/399:   0%|          | 0/21760 [00:00<?, ?it/s]"
          ],
          "name": "stderr"
        },
        {
          "output_type": "stream",
          "text": [
            "eval psnr: 29.45\n"
          ],
          "name": "stdout"
        },
        {
          "output_type": "stream",
          "text": [
            "epoch: 334/399: 100%|██████████| 21760/21760 [00:36<00:00, 588.12it/s, loss=-0.878859] \n",
            "epoch: 335/399:   0%|          | 0/21760 [00:00<?, ?it/s]"
          ],
          "name": "stderr"
        },
        {
          "output_type": "stream",
          "text": [
            "eval psnr: 29.81\n"
          ],
          "name": "stdout"
        },
        {
          "output_type": "stream",
          "text": [
            "epoch: 335/399: 100%|██████████| 21760/21760 [00:36<00:00, 591.22it/s, loss=-0.878930]\n",
            "epoch: 336/399:   0%|          | 0/21760 [00:00<?, ?it/s]"
          ],
          "name": "stderr"
        },
        {
          "output_type": "stream",
          "text": [
            "eval psnr: 29.41\n"
          ],
          "name": "stdout"
        },
        {
          "output_type": "stream",
          "text": [
            "epoch: 336/399: 100%|██████████| 21760/21760 [00:37<00:00, 585.14it/s, loss=-0.878877] \n",
            "epoch: 337/399:   0%|          | 0/21760 [00:00<?, ?it/s]"
          ],
          "name": "stderr"
        },
        {
          "output_type": "stream",
          "text": [
            "eval psnr: 29.38\n"
          ],
          "name": "stdout"
        },
        {
          "output_type": "stream",
          "text": [
            "epoch: 337/399: 100%|██████████| 21760/21760 [00:36<00:00, 588.27it/s, loss=-0.878897] \n",
            "epoch: 338/399:   0%|          | 0/21760 [00:00<?, ?it/s]"
          ],
          "name": "stderr"
        },
        {
          "output_type": "stream",
          "text": [
            "eval psnr: 29.66\n"
          ],
          "name": "stdout"
        },
        {
          "output_type": "stream",
          "text": [
            "epoch: 338/399: 100%|██████████| 21760/21760 [00:37<00:00, 584.13it/s, loss=-0.878958]\n",
            "epoch: 339/399:   0%|          | 0/21760 [00:00<?, ?it/s]"
          ],
          "name": "stderr"
        },
        {
          "output_type": "stream",
          "text": [
            "eval psnr: 29.48\n"
          ],
          "name": "stdout"
        },
        {
          "output_type": "stream",
          "text": [
            "epoch: 339/399: 100%|██████████| 21760/21760 [00:37<00:00, 581.26it/s, loss=-0.878929] \n",
            "epoch: 340/399:   0%|          | 0/21760 [00:00<?, ?it/s]"
          ],
          "name": "stderr"
        },
        {
          "output_type": "stream",
          "text": [
            "eval psnr: 29.52\n"
          ],
          "name": "stdout"
        },
        {
          "output_type": "stream",
          "text": [
            "epoch: 340/399: 100%|██████████| 21760/21760 [00:37<00:00, 580.40it/s, loss=-0.878941] \n",
            "epoch: 341/399:   0%|          | 0/21760 [00:00<?, ?it/s]"
          ],
          "name": "stderr"
        },
        {
          "output_type": "stream",
          "text": [
            "eval psnr: 29.59\n"
          ],
          "name": "stdout"
        },
        {
          "output_type": "stream",
          "text": [
            "epoch: 341/399: 100%|██████████| 21760/21760 [00:37<00:00, 585.22it/s, loss=-0.878994] \n",
            "epoch: 342/399:   0%|          | 0/21760 [00:00<?, ?it/s]"
          ],
          "name": "stderr"
        },
        {
          "output_type": "stream",
          "text": [
            "eval psnr: 29.34\n"
          ],
          "name": "stdout"
        },
        {
          "output_type": "stream",
          "text": [
            "epoch: 342/399: 100%|██████████| 21760/21760 [00:37<00:00, 587.42it/s, loss=-0.878999]\n",
            "epoch: 343/399:   0%|          | 0/21760 [00:00<?, ?it/s]"
          ],
          "name": "stderr"
        },
        {
          "output_type": "stream",
          "text": [
            "eval psnr: 29.73\n"
          ],
          "name": "stdout"
        },
        {
          "output_type": "stream",
          "text": [
            "epoch: 343/399: 100%|██████████| 21760/21760 [00:36<00:00, 588.33it/s, loss=-0.878927] \n",
            "epoch: 344/399:   0%|          | 0/21760 [00:00<?, ?it/s]"
          ],
          "name": "stderr"
        },
        {
          "output_type": "stream",
          "text": [
            "eval psnr: 29.57\n"
          ],
          "name": "stdout"
        },
        {
          "output_type": "stream",
          "text": [
            "epoch: 344/399: 100%|██████████| 21760/21760 [00:36<00:00, 588.29it/s, loss=-0.878974] \n",
            "epoch: 345/399:   0%|          | 0/21760 [00:00<?, ?it/s]"
          ],
          "name": "stderr"
        },
        {
          "output_type": "stream",
          "text": [
            "eval psnr: 29.78\n"
          ],
          "name": "stdout"
        },
        {
          "output_type": "stream",
          "text": [
            "epoch: 345/399: 100%|██████████| 21760/21760 [00:37<00:00, 580.54it/s, loss=-0.879042]\n",
            "epoch: 346/399:   0%|          | 0/21760 [00:00<?, ?it/s]"
          ],
          "name": "stderr"
        },
        {
          "output_type": "stream",
          "text": [
            "eval psnr: 29.63\n"
          ],
          "name": "stdout"
        },
        {
          "output_type": "stream",
          "text": [
            "epoch: 346/399: 100%|██████████| 21760/21760 [00:37<00:00, 580.24it/s, loss=-0.879020] \n",
            "epoch: 347/399:   0%|          | 0/21760 [00:00<?, ?it/s]"
          ],
          "name": "stderr"
        },
        {
          "output_type": "stream",
          "text": [
            "eval psnr: 29.71\n"
          ],
          "name": "stdout"
        },
        {
          "output_type": "stream",
          "text": [
            "epoch: 347/399: 100%|██████████| 21760/21760 [00:37<00:00, 586.84it/s, loss=-0.878994]\n",
            "epoch: 348/399:   0%|          | 0/21760 [00:00<?, ?it/s]"
          ],
          "name": "stderr"
        },
        {
          "output_type": "stream",
          "text": [
            "eval psnr: 29.33\n"
          ],
          "name": "stdout"
        },
        {
          "output_type": "stream",
          "text": [
            "epoch: 348/399: 100%|██████████| 21760/21760 [00:36<00:00, 589.23it/s, loss=-0.879015]\n",
            "epoch: 349/399:   0%|          | 0/21760 [00:00<?, ?it/s]"
          ],
          "name": "stderr"
        },
        {
          "output_type": "stream",
          "text": [
            "eval psnr: 29.57\n"
          ],
          "name": "stdout"
        },
        {
          "output_type": "stream",
          "text": [
            "epoch: 349/399: 100%|██████████| 21760/21760 [00:37<00:00, 579.92it/s, loss=-0.879065]\n",
            "epoch: 350/399:   0%|          | 0/21760 [00:00<?, ?it/s]"
          ],
          "name": "stderr"
        },
        {
          "output_type": "stream",
          "text": [
            "eval psnr: 29.58\n"
          ],
          "name": "stdout"
        },
        {
          "output_type": "stream",
          "text": [
            "epoch: 350/399: 100%|██████████| 21760/21760 [00:37<00:00, 586.22it/s, loss=-0.879063] \n",
            "epoch: 351/399:   0%|          | 0/21760 [00:00<?, ?it/s]"
          ],
          "name": "stderr"
        },
        {
          "output_type": "stream",
          "text": [
            "eval psnr: 29.35\n"
          ],
          "name": "stdout"
        },
        {
          "output_type": "stream",
          "text": [
            "epoch: 351/399: 100%|██████████| 21760/21760 [00:36<00:00, 591.38it/s, loss=-0.879061]\n",
            "epoch: 352/399:   0%|          | 0/21760 [00:00<?, ?it/s]"
          ],
          "name": "stderr"
        },
        {
          "output_type": "stream",
          "text": [
            "eval psnr: 29.30\n"
          ],
          "name": "stdout"
        },
        {
          "output_type": "stream",
          "text": [
            "epoch: 352/399: 100%|██████████| 21760/21760 [00:37<00:00, 583.31it/s, loss=-0.879030] \n",
            "epoch: 353/399:   0%|          | 0/21760 [00:00<?, ?it/s]"
          ],
          "name": "stderr"
        },
        {
          "output_type": "stream",
          "text": [
            "eval psnr: 29.56\n"
          ],
          "name": "stdout"
        },
        {
          "output_type": "stream",
          "text": [
            "epoch: 353/399: 100%|██████████| 21760/21760 [00:37<00:00, 587.00it/s, loss=-0.879000] \n",
            "epoch: 354/399:   0%|          | 0/21760 [00:00<?, ?it/s]"
          ],
          "name": "stderr"
        },
        {
          "output_type": "stream",
          "text": [
            "eval psnr: 29.55\n"
          ],
          "name": "stdout"
        },
        {
          "output_type": "stream",
          "text": [
            "epoch: 354/399: 100%|██████████| 21760/21760 [00:37<00:00, 586.66it/s, loss=-0.879036]\n",
            "epoch: 355/399:   0%|          | 0/21760 [00:00<?, ?it/s]"
          ],
          "name": "stderr"
        },
        {
          "output_type": "stream",
          "text": [
            "eval psnr: 29.65\n"
          ],
          "name": "stdout"
        },
        {
          "output_type": "stream",
          "text": [
            "epoch: 355/399: 100%|██████████| 21760/21760 [00:37<00:00, 587.75it/s, loss=-0.879085] \n",
            "epoch: 356/399:   0%|          | 0/21760 [00:00<?, ?it/s]"
          ],
          "name": "stderr"
        },
        {
          "output_type": "stream",
          "text": [
            "eval psnr: 29.50\n"
          ],
          "name": "stdout"
        },
        {
          "output_type": "stream",
          "text": [
            "epoch: 356/399: 100%|██████████| 21760/21760 [00:37<00:00, 587.15it/s, loss=-0.879058]\n",
            "epoch: 357/399:   0%|          | 0/21760 [00:00<?, ?it/s]"
          ],
          "name": "stderr"
        },
        {
          "output_type": "stream",
          "text": [
            "eval psnr: 29.55\n"
          ],
          "name": "stdout"
        },
        {
          "output_type": "stream",
          "text": [
            "epoch: 357/399: 100%|██████████| 21760/21760 [00:37<00:00, 580.14it/s, loss=-0.879056]\n",
            "epoch: 358/399:   0%|          | 0/21760 [00:00<?, ?it/s]"
          ],
          "name": "stderr"
        },
        {
          "output_type": "stream",
          "text": [
            "eval psnr: 29.28\n"
          ],
          "name": "stdout"
        },
        {
          "output_type": "stream",
          "text": [
            "epoch: 358/399: 100%|██████████| 21760/21760 [00:37<00:00, 584.40it/s, loss=-0.879112]\n",
            "epoch: 359/399:   0%|          | 0/21760 [00:00<?, ?it/s]"
          ],
          "name": "stderr"
        },
        {
          "output_type": "stream",
          "text": [
            "eval psnr: 29.37\n"
          ],
          "name": "stdout"
        },
        {
          "output_type": "stream",
          "text": [
            "epoch: 359/399: 100%|██████████| 21760/21760 [00:36<00:00, 591.28it/s, loss=-0.879117] \n",
            "epoch: 360/399:   0%|          | 0/21760 [00:00<?, ?it/s]"
          ],
          "name": "stderr"
        },
        {
          "output_type": "stream",
          "text": [
            "eval psnr: 29.65\n"
          ],
          "name": "stdout"
        },
        {
          "output_type": "stream",
          "text": [
            "epoch: 360/399: 100%|██████████| 21760/21760 [00:36<00:00, 588.50it/s, loss=-0.879101]\n",
            "epoch: 361/399:   0%|          | 0/21760 [00:00<?, ?it/s]"
          ],
          "name": "stderr"
        },
        {
          "output_type": "stream",
          "text": [
            "eval psnr: 29.60\n"
          ],
          "name": "stdout"
        },
        {
          "output_type": "stream",
          "text": [
            "epoch: 361/399: 100%|██████████| 21760/21760 [00:37<00:00, 584.05it/s, loss=-0.879115] \n",
            "epoch: 362/399:   0%|          | 0/21760 [00:00<?, ?it/s]"
          ],
          "name": "stderr"
        },
        {
          "output_type": "stream",
          "text": [
            "eval psnr: 29.23\n"
          ],
          "name": "stdout"
        },
        {
          "output_type": "stream",
          "text": [
            "epoch: 362/399: 100%|██████████| 21760/21760 [00:37<00:00, 587.46it/s, loss=-0.879102] \n",
            "epoch: 363/399:   0%|          | 0/21760 [00:00<?, ?it/s]"
          ],
          "name": "stderr"
        },
        {
          "output_type": "stream",
          "text": [
            "eval psnr: 29.72\n"
          ],
          "name": "stdout"
        },
        {
          "output_type": "stream",
          "text": [
            "epoch: 363/399: 100%|██████████| 21760/21760 [00:37<00:00, 585.11it/s, loss=-0.879183] \n",
            "epoch: 364/399:   0%|          | 0/21760 [00:00<?, ?it/s]"
          ],
          "name": "stderr"
        },
        {
          "output_type": "stream",
          "text": [
            "eval psnr: 29.63\n"
          ],
          "name": "stdout"
        },
        {
          "output_type": "stream",
          "text": [
            "epoch: 364/399: 100%|██████████| 21760/21760 [00:37<00:00, 587.71it/s, loss=-0.879154]\n",
            "epoch: 365/399:   0%|          | 0/21760 [00:00<?, ?it/s]"
          ],
          "name": "stderr"
        },
        {
          "output_type": "stream",
          "text": [
            "eval psnr: 29.55\n"
          ],
          "name": "stdout"
        },
        {
          "output_type": "stream",
          "text": [
            "epoch: 365/399: 100%|██████████| 21760/21760 [00:37<00:00, 585.46it/s, loss=-0.879192] \n",
            "epoch: 366/399:   0%|          | 0/21760 [00:00<?, ?it/s]"
          ],
          "name": "stderr"
        },
        {
          "output_type": "stream",
          "text": [
            "eval psnr: 29.61\n"
          ],
          "name": "stdout"
        },
        {
          "output_type": "stream",
          "text": [
            "epoch: 366/399: 100%|██████████| 21760/21760 [00:37<00:00, 575.97it/s, loss=-0.879167]\n",
            "epoch: 367/399:   0%|          | 0/21760 [00:00<?, ?it/s]"
          ],
          "name": "stderr"
        },
        {
          "output_type": "stream",
          "text": [
            "eval psnr: 29.43\n"
          ],
          "name": "stdout"
        },
        {
          "output_type": "stream",
          "text": [
            "epoch: 367/399: 100%|██████████| 21760/21760 [00:37<00:00, 585.30it/s, loss=-0.879142]\n",
            "epoch: 368/399:   0%|          | 0/21760 [00:00<?, ?it/s]"
          ],
          "name": "stderr"
        },
        {
          "output_type": "stream",
          "text": [
            "eval psnr: 29.76\n"
          ],
          "name": "stdout"
        },
        {
          "output_type": "stream",
          "text": [
            "epoch: 368/399: 100%|██████████| 21760/21760 [00:37<00:00, 584.43it/s, loss=-0.879193]\n",
            "epoch: 369/399:   0%|          | 0/21760 [00:00<?, ?it/s]"
          ],
          "name": "stderr"
        },
        {
          "output_type": "stream",
          "text": [
            "eval psnr: 29.67\n"
          ],
          "name": "stdout"
        },
        {
          "output_type": "stream",
          "text": [
            "epoch: 369/399: 100%|██████████| 21760/21760 [00:37<00:00, 586.40it/s, loss=-0.879191]\n",
            "epoch: 370/399:   0%|          | 0/21760 [00:00<?, ?it/s]"
          ],
          "name": "stderr"
        },
        {
          "output_type": "stream",
          "text": [
            "eval psnr: 29.50\n"
          ],
          "name": "stdout"
        },
        {
          "output_type": "stream",
          "text": [
            "epoch: 370/399: 100%|██████████| 21760/21760 [00:37<00:00, 586.92it/s, loss=-0.879219] \n",
            "epoch: 371/399:   0%|          | 0/21760 [00:00<?, ?it/s]"
          ],
          "name": "stderr"
        },
        {
          "output_type": "stream",
          "text": [
            "eval psnr: 29.55\n"
          ],
          "name": "stdout"
        },
        {
          "output_type": "stream",
          "text": [
            "epoch: 371/399: 100%|██████████| 21760/21760 [00:37<00:00, 587.35it/s, loss=-0.879205] \n",
            "epoch: 372/399:   0%|          | 0/21760 [00:00<?, ?it/s]"
          ],
          "name": "stderr"
        },
        {
          "output_type": "stream",
          "text": [
            "eval psnr: 29.67\n"
          ],
          "name": "stdout"
        },
        {
          "output_type": "stream",
          "text": [
            "epoch: 372/399: 100%|██████████| 21760/21760 [00:36<00:00, 588.20it/s, loss=-0.879200]\n",
            "epoch: 373/399:   0%|          | 0/21760 [00:00<?, ?it/s]"
          ],
          "name": "stderr"
        },
        {
          "output_type": "stream",
          "text": [
            "eval psnr: 29.43\n"
          ],
          "name": "stdout"
        },
        {
          "output_type": "stream",
          "text": [
            "epoch: 373/399: 100%|██████████| 21760/21760 [00:37<00:00, 584.98it/s, loss=-0.879188]\n",
            "epoch: 374/399:   0%|          | 0/21760 [00:00<?, ?it/s]"
          ],
          "name": "stderr"
        },
        {
          "output_type": "stream",
          "text": [
            "eval psnr: 29.35\n"
          ],
          "name": "stdout"
        },
        {
          "output_type": "stream",
          "text": [
            "epoch: 374/399: 100%|██████████| 21760/21760 [00:37<00:00, 576.50it/s, loss=-0.879229]\n",
            "epoch: 375/399:   0%|          | 0/21760 [00:00<?, ?it/s]"
          ],
          "name": "stderr"
        },
        {
          "output_type": "stream",
          "text": [
            "eval psnr: 29.59\n"
          ],
          "name": "stdout"
        },
        {
          "output_type": "stream",
          "text": [
            "epoch: 375/399: 100%|██████████| 21760/21760 [00:37<00:00, 584.60it/s, loss=-0.879235]\n",
            "epoch: 376/399:   0%|          | 0/21760 [00:00<?, ?it/s]"
          ],
          "name": "stderr"
        },
        {
          "output_type": "stream",
          "text": [
            "eval psnr: 29.40\n"
          ],
          "name": "stdout"
        },
        {
          "output_type": "stream",
          "text": [
            "epoch: 376/399: 100%|██████████| 21760/21760 [00:37<00:00, 584.97it/s, loss=-0.879193]\n",
            "epoch: 377/399:   0%|          | 0/21760 [00:00<?, ?it/s]"
          ],
          "name": "stderr"
        },
        {
          "output_type": "stream",
          "text": [
            "eval psnr: 29.28\n"
          ],
          "name": "stdout"
        },
        {
          "output_type": "stream",
          "text": [
            "epoch: 377/399: 100%|██████████| 21760/21760 [00:37<00:00, 581.15it/s, loss=-0.879231] \n",
            "epoch: 378/399:   0%|          | 0/21760 [00:00<?, ?it/s]"
          ],
          "name": "stderr"
        },
        {
          "output_type": "stream",
          "text": [
            "eval psnr: 29.54\n"
          ],
          "name": "stdout"
        },
        {
          "output_type": "stream",
          "text": [
            "epoch: 378/399: 100%|██████████| 21760/21760 [00:37<00:00, 581.92it/s, loss=-0.879362]\n",
            "epoch: 379/399:   0%|          | 0/21760 [00:00<?, ?it/s]"
          ],
          "name": "stderr"
        },
        {
          "output_type": "stream",
          "text": [
            "eval psnr: 29.61\n"
          ],
          "name": "stdout"
        },
        {
          "output_type": "stream",
          "text": [
            "epoch: 379/399: 100%|██████████| 21760/21760 [00:36<00:00, 590.92it/s, loss=-0.879235] \n",
            "epoch: 380/399:   0%|          | 0/21760 [00:00<?, ?it/s]"
          ],
          "name": "stderr"
        },
        {
          "output_type": "stream",
          "text": [
            "eval psnr: 29.68\n"
          ],
          "name": "stdout"
        },
        {
          "output_type": "stream",
          "text": [
            "epoch: 380/399: 100%|██████████| 21760/21760 [00:37<00:00, 585.82it/s, loss=-0.879305]\n",
            "epoch: 381/399:   0%|          | 0/21760 [00:00<?, ?it/s]"
          ],
          "name": "stderr"
        },
        {
          "output_type": "stream",
          "text": [
            "eval psnr: 29.61\n"
          ],
          "name": "stdout"
        },
        {
          "output_type": "stream",
          "text": [
            "epoch: 381/399: 100%|██████████| 21760/21760 [00:37<00:00, 584.62it/s, loss=-0.879260] \n",
            "epoch: 382/399:   0%|          | 0/21760 [00:00<?, ?it/s]"
          ],
          "name": "stderr"
        },
        {
          "output_type": "stream",
          "text": [
            "eval psnr: 29.64\n"
          ],
          "name": "stdout"
        },
        {
          "output_type": "stream",
          "text": [
            "epoch: 382/399: 100%|██████████| 21760/21760 [00:37<00:00, 583.01it/s, loss=-0.879263] \n",
            "epoch: 383/399:   0%|          | 0/21760 [00:00<?, ?it/s]"
          ],
          "name": "stderr"
        },
        {
          "output_type": "stream",
          "text": [
            "eval psnr: 29.66\n"
          ],
          "name": "stdout"
        },
        {
          "output_type": "stream",
          "text": [
            "epoch: 383/399: 100%|██████████| 21760/21760 [00:37<00:00, 587.57it/s, loss=-0.879317] \n",
            "epoch: 384/399:   0%|          | 0/21760 [00:00<?, ?it/s]"
          ],
          "name": "stderr"
        },
        {
          "output_type": "stream",
          "text": [
            "eval psnr: 29.63\n"
          ],
          "name": "stdout"
        },
        {
          "output_type": "stream",
          "text": [
            "epoch: 384/399: 100%|██████████| 21760/21760 [00:37<00:00, 587.11it/s, loss=-0.879282] \n",
            "epoch: 385/399:   0%|          | 0/21760 [00:00<?, ?it/s]"
          ],
          "name": "stderr"
        },
        {
          "output_type": "stream",
          "text": [
            "eval psnr: 29.57\n"
          ],
          "name": "stdout"
        },
        {
          "output_type": "stream",
          "text": [
            "epoch: 385/399: 100%|██████████| 21760/21760 [00:37<00:00, 585.49it/s, loss=-0.879278]\n",
            "epoch: 386/399:   0%|          | 0/21760 [00:00<?, ?it/s]"
          ],
          "name": "stderr"
        },
        {
          "output_type": "stream",
          "text": [
            "eval psnr: 29.57\n"
          ],
          "name": "stdout"
        },
        {
          "output_type": "stream",
          "text": [
            "epoch: 386/399: 100%|██████████| 21760/21760 [00:36<00:00, 592.36it/s, loss=-0.879258] \n",
            "epoch: 387/399:   0%|          | 0/21760 [00:00<?, ?it/s]"
          ],
          "name": "stderr"
        },
        {
          "output_type": "stream",
          "text": [
            "eval psnr: 29.73\n"
          ],
          "name": "stdout"
        },
        {
          "output_type": "stream",
          "text": [
            "epoch: 387/399: 100%|██████████| 21760/21760 [00:36<00:00, 589.40it/s, loss=-0.879332] \n",
            "epoch: 388/399:   0%|          | 0/21760 [00:00<?, ?it/s]"
          ],
          "name": "stderr"
        },
        {
          "output_type": "stream",
          "text": [
            "eval psnr: 29.32\n"
          ],
          "name": "stdout"
        },
        {
          "output_type": "stream",
          "text": [
            "epoch: 388/399: 100%|██████████| 21760/21760 [00:36<00:00, 590.46it/s, loss=-0.879317]\n",
            "epoch: 389/399:   0%|          | 0/21760 [00:00<?, ?it/s]"
          ],
          "name": "stderr"
        },
        {
          "output_type": "stream",
          "text": [
            "eval psnr: 29.78\n"
          ],
          "name": "stdout"
        },
        {
          "output_type": "stream",
          "text": [
            "epoch: 389/399: 100%|██████████| 21760/21760 [00:36<00:00, 589.55it/s, loss=-0.879338] \n",
            "epoch: 390/399:   0%|          | 0/21760 [00:00<?, ?it/s]"
          ],
          "name": "stderr"
        },
        {
          "output_type": "stream",
          "text": [
            "eval psnr: 29.41\n"
          ],
          "name": "stdout"
        },
        {
          "output_type": "stream",
          "text": [
            "epoch: 390/399: 100%|██████████| 21760/21760 [00:36<00:00, 588.65it/s, loss=-0.879403] \n",
            "epoch: 391/399:   0%|          | 0/21760 [00:00<?, ?it/s]"
          ],
          "name": "stderr"
        },
        {
          "output_type": "stream",
          "text": [
            "eval psnr: 29.59\n"
          ],
          "name": "stdout"
        },
        {
          "output_type": "stream",
          "text": [
            "epoch: 391/399: 100%|██████████| 21760/21760 [00:37<00:00, 582.81it/s, loss=-0.879394] \n",
            "epoch: 392/399:   0%|          | 0/21760 [00:00<?, ?it/s]"
          ],
          "name": "stderr"
        },
        {
          "output_type": "stream",
          "text": [
            "eval psnr: 29.56\n"
          ],
          "name": "stdout"
        },
        {
          "output_type": "stream",
          "text": [
            "epoch: 392/399: 100%|██████████| 21760/21760 [00:36<00:00, 589.09it/s, loss=-0.879322] \n",
            "epoch: 393/399:   0%|          | 0/21760 [00:00<?, ?it/s]"
          ],
          "name": "stderr"
        },
        {
          "output_type": "stream",
          "text": [
            "eval psnr: 29.54\n"
          ],
          "name": "stdout"
        },
        {
          "output_type": "stream",
          "text": [
            "epoch: 393/399: 100%|██████████| 21760/21760 [00:36<00:00, 590.85it/s, loss=-0.879352] \n",
            "epoch: 394/399:   0%|          | 0/21760 [00:00<?, ?it/s]"
          ],
          "name": "stderr"
        },
        {
          "output_type": "stream",
          "text": [
            "eval psnr: 29.55\n"
          ],
          "name": "stdout"
        },
        {
          "output_type": "stream",
          "text": [
            "epoch: 394/399: 100%|██████████| 21760/21760 [00:37<00:00, 583.14it/s, loss=-0.879389]\n",
            "epoch: 395/399:   0%|          | 0/21760 [00:00<?, ?it/s]"
          ],
          "name": "stderr"
        },
        {
          "output_type": "stream",
          "text": [
            "eval psnr: 29.49\n"
          ],
          "name": "stdout"
        },
        {
          "output_type": "stream",
          "text": [
            "epoch: 395/399: 100%|██████████| 21760/21760 [00:36<00:00, 588.16it/s, loss=-0.879344]\n",
            "epoch: 396/399:   0%|          | 0/21760 [00:00<?, ?it/s]"
          ],
          "name": "stderr"
        },
        {
          "output_type": "stream",
          "text": [
            "eval psnr: 29.67\n"
          ],
          "name": "stdout"
        },
        {
          "output_type": "stream",
          "text": [
            "epoch: 396/399: 100%|██████████| 21760/21760 [00:36<00:00, 590.03it/s, loss=-0.879409]\n",
            "epoch: 397/399:   0%|          | 0/21760 [00:00<?, ?it/s]"
          ],
          "name": "stderr"
        },
        {
          "output_type": "stream",
          "text": [
            "eval psnr: 29.64\n"
          ],
          "name": "stdout"
        },
        {
          "output_type": "stream",
          "text": [
            "epoch: 397/399: 100%|██████████| 21760/21760 [00:36<00:00, 591.58it/s, loss=-0.879457] \n",
            "epoch: 398/399:   0%|          | 0/21760 [00:00<?, ?it/s]"
          ],
          "name": "stderr"
        },
        {
          "output_type": "stream",
          "text": [
            "eval psnr: 29.55\n"
          ],
          "name": "stdout"
        },
        {
          "output_type": "stream",
          "text": [
            "epoch: 398/399: 100%|██████████| 21760/21760 [00:36<00:00, 590.09it/s, loss=-0.879424] \n",
            "epoch: 399/399:   0%|          | 0/21760 [00:00<?, ?it/s]"
          ],
          "name": "stderr"
        },
        {
          "output_type": "stream",
          "text": [
            "eval psnr: 29.27\n"
          ],
          "name": "stdout"
        },
        {
          "output_type": "stream",
          "text": [
            "epoch: 399/399: 100%|██████████| 21760/21760 [00:37<00:00, 586.57it/s, loss=-0.879385]\n"
          ],
          "name": "stderr"
        },
        {
          "output_type": "stream",
          "text": [
            "eval psnr: 29.49\n",
            "best epoch: 334, psnr: 29.81\n"
          ],
          "name": "stdout"
        }
      ]
    },
    {
      "cell_type": "markdown",
      "metadata": {
        "id": "jktLTV9-Gl5t"
      },
      "source": [
        "#SRCNN - TEST"
      ]
    },
    {
      "cell_type": "code",
      "metadata": {
        "id": "BXM-j_LrGlcG",
        "colab": {
          "base_uri": "https://localhost:8080/",
          "height": 34
        },
        "outputId": "e44fc4e6-7ed0-4b64-a9f3-8d564d0962ac"
      },
      "source": [
        "# Add your own image to test here\n",
        "drive.mount('/content/gdrive', force_remount=True)"
      ],
      "execution_count": null,
      "outputs": [
        {
          "output_type": "stream",
          "text": [
            "Mounted at /content/gdrive\n"
          ],
          "name": "stdout"
        }
      ]
    },
    {
      "cell_type": "code",
      "metadata": {
        "id": "iOvlaOL0MQ5P",
        "colab": {
          "base_uri": "https://localhost:8080/",
          "height": 34
        },
        "outputId": "c0770f20-45ae-4dee-deb0-b1022ee7044c"
      },
      "source": [
        "import PIL.Image as pil_image\n",
        "\n",
        "weights_file = drive_path + 'outputs/best.pth'\n",
        "image_file = drive_path + 'images/zebra.bmp'\n",
        "scale = 4\n",
        "\n",
        "model1 = SRCNN().to(device)\n",
        "\n",
        "state_dict = model1.state_dict()\n",
        "for n, p in torch.load(weights_file, map_location=lambda storage, loc: storage).items():\n",
        "    if n in state_dict.keys():\n",
        "        state_dict[n].copy_(p)\n",
        "    else:\n",
        "        raise KeyError(n)\n",
        "\n",
        "model1.eval()\n",
        "\n",
        "image = pil_image.open(image_file).convert('RGB')\n",
        "\n",
        "image_width = (image.width // scale) * scale\n",
        "image_height = (image.height // scale) * scale\n",
        "image = image.resize((image_width, image_height), resample=pil_image.BICUBIC)\n",
        "image = image.resize((image.width // scale, image.height //\n",
        "                      scale), resample=pil_image.BICUBIC)\n",
        "image = image.resize((image.width * scale, image.height *\n",
        "                      scale), resample=pil_image.BICUBIC)\n",
        "image.save(image_file.replace('.', '_bicubic_x{}.'.format(scale)))\n",
        "\n",
        "image = np.array(image).astype(np.float32)\n",
        "ycbcr = convert_rgb_to_ycbcr(image)\n",
        "\n",
        "y = ycbcr[..., 0]\n",
        "y /= 255.\n",
        "y = torch.from_numpy(y).to(device)\n",
        "y = y.unsqueeze(0).unsqueeze(0)\n",
        "\n",
        "with torch.no_grad():\n",
        "    preds = model1(y).clamp(0.0, 1.0)\n",
        "\n",
        "psnr = calc_psnr(y, preds)\n",
        "print('PSNR: {:.2f}'.format(psnr))\n",
        "\n",
        "preds = preds.mul(255.0).cpu().numpy().squeeze(0).squeeze(0)\n",
        "\n",
        "output = np.array([preds, ycbcr[..., 1], ycbcr[..., 2]]).transpose([1, 2, 0])\n",
        "output = np.clip(convert_ycbcr_to_rgb(output), 0.0, 255.0).astype(np.uint8)\n",
        "output = pil_image.fromarray(output)\n",
        "output.save(image_file.replace('.', '_srcnn_x{}.'.format(scale)))"
      ],
      "execution_count": null,
      "outputs": [
        {
          "output_type": "stream",
          "text": [
            "PSNR: 26.47\n"
          ],
          "name": "stdout"
        }
      ]
    },
    {
      "cell_type": "code",
      "metadata": {
        "id": "O-nn2dGDdpC1"
      },
      "source": [
        "from matplotlib.pyplot import imshow\n",
        "%matplotlib inline\n",
        "\n",
        "weights_file = drive_path + 'outputs/best.pth'\n",
        "image_file = drive_path + 'images/zebra.bmp'\n",
        "scale = 4\n",
        "\n",
        "model2 = SRCNN().to(device)\n",
        "\n",
        "state_dict = model2.state_dict()\n",
        "for n, p in torch.load(weights_file, map_location=lambda storage, loc: storage).items():\n",
        "    if n in state_dict.keys():\n",
        "        state_dict[n].copy_(p)\n",
        "    else:\n",
        "        raise KeyError(n)\n",
        "\n",
        "model2.eval()\n",
        "\n",
        "image = pil_image.open(image_file).convert('RGB')\n",
        "\n",
        "image_width = (image.width // scale) * scale\n",
        "image_height = (image.height // scale) * scale\n",
        "image = image.resize((image_width, image_height), resample=pil_image.BICUBIC)\n",
        "image = image.resize((image.width * scale, image.height *\n",
        "                      scale), resample=pil_image.BICUBIC)\n",
        "\n",
        "image = np.array(image).astype(np.float32)\n",
        "ycbcr = convert_rgb_to_ycbcr(image)\n",
        "\n",
        "y = ycbcr[..., 0]\n",
        "y /= 255.\n",
        "y = torch.from_numpy(y).to(device)\n",
        "y = y.unsqueeze(0).unsqueeze(0)\n",
        "\n",
        "with torch.no_grad():\n",
        "    preds = model2(y).clamp(0.0, 1.0)\n",
        "\n",
        "preds = preds.mul(255.0).cpu().numpy().squeeze(0).squeeze(0)\n",
        "\n",
        "output = np.array([preds, ycbcr[..., 1], ycbcr[..., 2]]).transpose([1, 2, 0])\n",
        "output = np.clip(convert_ycbcr_to_rgb(output), 0.0, 255.0).astype(np.uint8)\n",
        "output = pil_image.fromarray(output)\n",
        "output.save(image_file.replace('.', '_final_x{}.'.format(scale)))"
      ],
      "execution_count": null,
      "outputs": []
    },
    {
      "cell_type": "code",
      "metadata": {
        "id": "IUE50v-CYlDz"
      },
      "source": [
        ""
      ],
      "execution_count": null,
      "outputs": []
    }
  ]
}